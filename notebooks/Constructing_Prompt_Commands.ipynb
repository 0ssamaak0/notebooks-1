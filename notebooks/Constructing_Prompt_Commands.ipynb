{
  "nbformat": 4,
  "nbformat_minor": 0,
  "metadata": {
    "colab": {
      "provenance": [],
      "toc_visible": true
    },
    "kernelspec": {
      "name": "python3",
      "display_name": "Python 3"
    },
    "language_info": {
      "name": "python"
    }
  },
  "cells": [
    {
      "cell_type": "code",
      "source": [
        "! pip install -q cohere"
      ],
      "metadata": {
        "colab": {
          "base_uri": "https://localhost:8080/"
        },
        "id": "z49_e7Ma2IgU",
        "outputId": "877c1228-c424-433f-d22c-1565c8445d35"
      },
      "execution_count": 2,
      "outputs": [
        {
          "output_type": "stream",
          "name": "stdout",
          "text": [
            "\u001b[?25l     \u001b[90m━━━━━━━━━━━━━━━━━━━━━━━━━━━━━━━━━━━━━━━━\u001b[0m \u001b[32m0.0/40.8 kB\u001b[0m \u001b[31m?\u001b[0m eta \u001b[36m-:--:--\u001b[0m\r\u001b[2K     \u001b[91m━━━━━━━━━━\u001b[0m\u001b[90m╺\u001b[0m\u001b[90m━━━━━━━━━━━━━━━━━━━━━━━━━━━━━\u001b[0m \u001b[32m10.2/40.8 kB\u001b[0m \u001b[31m?\u001b[0m eta \u001b[36m-:--:--\u001b[0m\r\u001b[2K     \u001b[91m━━━━━━━━━━━━━━━━━━━━━━━━━━━━━\u001b[0m\u001b[90m╺\u001b[0m\u001b[90m━━━━━━━━━\u001b[0m \u001b[32m30.7/40.8 kB\u001b[0m \u001b[31m370.0 kB/s\u001b[0m eta \u001b[36m0:00:01\u001b[0m\r\u001b[2K     \u001b[90m━━━━━━━━━━━━━━━━━━━━━━━━━━━━━━━━━━━━━━━\u001b[0m \u001b[32m40.8/40.8 kB\u001b[0m \u001b[31m279.1 kB/s\u001b[0m eta \u001b[36m0:00:00\u001b[0m\n",
            "\u001b[?25h"
          ]
        }
      ]
    },
    {
      "cell_type": "code",
      "execution_count": 3,
      "metadata": {
        "id": "QPa2O4NN1wPD"
      },
      "outputs": [],
      "source": [
        "# Wraps Google Colab output text for easy reading\n",
        "from IPython.display import HTML, display\n",
        "\n",
        "def set_css():\n",
        "  display(HTML('''\n",
        "  <style>\n",
        "    pre {\n",
        "        white-space: pre-wrap;\n",
        "    }\n",
        "  </style>\n",
        "  '''))\n",
        "get_ipython().events.register('pre_run_cell', set_css)"
      ]
    },
    {
      "cell_type": "code",
      "source": [
        "import cohere\n",
        "co = cohere.Client(\"COHERE_API_KEY\") # Insert your Cohere API key\n",
        "\n",
        "def generate_text(prompt, temp=0):\n",
        "  response = co.generate(\n",
        "    model='command-nightly',\n",
        "    prompt=prompt,\n",
        "    max_tokens=300,\n",
        "    temperature=temp)\n",
        "  return response.generations[0].text"
      ],
      "metadata": {
        "colab": {
          "base_uri": "https://localhost:8080/",
          "height": 17
        },
        "id": "3F5rb6Pj2mHq",
        "outputId": "17faac05-b3b4-4b0f-c671-ca2b90cd1138"
      },
      "execution_count": 39,
      "outputs": [
        {
          "output_type": "display_data",
          "data": {
            "text/plain": [
              "<IPython.core.display.HTML object>"
            ],
            "text/html": [
              "\n",
              "  <style>\n",
              "    pre {\n",
              "        white-space: pre-wrap;\n",
              "    }\n",
              "  </style>\n",
              "  "
            ]
          },
          "metadata": {}
        }
      ]
    },
    {
      "cell_type": "markdown",
      "source": [
        "## Instruction"
      ],
      "metadata": {
        "id": "ZMhfcQc4yg8r"
      }
    },
    {
      "cell_type": "code",
      "source": [
        "user_input = \"a wireless headphone product named the CO-1T\"\n",
        "prompt = f\"\"\"Write a creative product description for {user_input}\"\"\"\n",
        "\n",
        "response = generate_text(prompt, temp=0.5)\n",
        "print(response)"
      ],
      "metadata": {
        "colab": {
          "base_uri": "https://localhost:8080/",
          "height": 124
        },
        "id": "-EJx_8i4zTQ-",
        "outputId": "09d17c20-19c0-49a7-8b85-bda7916ff512"
      },
      "execution_count": 13,
      "outputs": [
        {
          "output_type": "display_data",
          "data": {
            "text/plain": [
              "<IPython.core.display.HTML object>"
            ],
            "text/html": [
              "\n",
              "  <style>\n",
              "    pre {\n",
              "        white-space: pre-wrap;\n",
              "    }\n",
              "  </style>\n",
              "  "
            ]
          },
          "metadata": {}
        },
        {
          "output_type": "stream",
          "name": "stdout",
          "text": [
            " A revolution in sound, the CO-1T is the world's first truly wireless headphone with an in-ear design. The CO-1T is the perfect balance between sound quality, design, and price. With its sleek and modern design, the CO-1T is the perfect accessory for your on-the-go lifestyle. The CO-1T features a powerful and clear sound, with a deep bass and a clear treble. The CO-1T is also equipped with a noise-canceling microphone, so you can take calls and talk to your friends without any distractions. The CO-1T is the perfect choice for anyone who wants a high-quality and affordable wireless headphone.\n"
          ]
        }
      ]
    },
    {
      "cell_type": "markdown",
      "source": [
        "## Specifics"
      ],
      "metadata": {
        "id": "lOR8iuPtzOi_"
      }
    },
    {
      "cell_type": "markdown",
      "source": [
        "### Single paragraph"
      ],
      "metadata": {
        "id": "v2tp7SCjUUGZ"
      }
    },
    {
      "cell_type": "code",
      "source": [
        "user_input_product = \"a wireless headphone product named the CO-1T\"\n",
        "user_input_keywords = '\"bluetooth\", \"wireless\", \"fast charging\"'\n",
        "user_input_customer = \"a software developer who works in noisy offices\"\n",
        "user_input_describe = \"benefits of this product\"\n",
        "\n",
        "prompt = f\"\"\"Write a creative product description for {user_input_product}\n",
        "with the keywords {user_input_keywords} for {user_input_customer}, and describe {user_input_describe}.\"\"\"\n",
        "\n",
        "response = generate_text(prompt, temp=0.5)\n",
        "print(response)"
      ],
      "metadata": {
        "colab": {
          "base_uri": "https://localhost:8080/",
          "height": 106
        },
        "id": "WtSlvOirygmV",
        "outputId": "7dac0c17-36c8-491f-c9b5-78870eb443a8"
      },
      "execution_count": 14,
      "outputs": [
        {
          "output_type": "display_data",
          "data": {
            "text/plain": [
              "<IPython.core.display.HTML object>"
            ],
            "text/html": [
              "\n",
              "  <style>\n",
              "    pre {\n",
              "        white-space: pre-wrap;\n",
              "    }\n",
              "  </style>\n",
              "  "
            ]
          },
          "metadata": {}
        },
        {
          "output_type": "stream",
          "name": "stdout",
          "text": [
            " Do you hate noisy work environments? Well, we got a great solution for you! The CO-1T is the perfect wireless headphone for software developers who work in loud and disruptive offices. With its bluetooth connectivity and noise-canceling features, you can stay focused on your work without any distractions.  Our product also has fast charging, so you won't have to worry about battery life. Instead, you can quickly get back to work in no time. So what are you waiting for? Become the most productive person in your office with the help of the CO-1T.\n"
          ]
        }
      ]
    },
    {
      "cell_type": "markdown",
      "source": [
        "### Structured"
      ],
      "metadata": {
        "id": "TZltmtYoUY_i"
      }
    },
    {
      "cell_type": "code",
      "source": [
        "user_input_product = \"a wireless headphone product named the CO-1T\"\n",
        "user_input_keywords = '\"bluetooth\", \"wireless\", \"fast charging\"'\n",
        "user_input_customer = \"a software developer who works in noisy offices\"\n",
        "user_input_describe = \"benefits of this product\"\n",
        "\n",
        "prompt = f\"\"\"Write a creative product description for {user_input_product}.\n",
        "Keywords: {user_input_keywords}\n",
        "Audience: {user_input_customer}\n",
        "Describe: {user_input_describe}\"\"\"\n",
        "\n",
        "response = generate_text(prompt, temp=0.5)\n",
        "print(response)"
      ],
      "metadata": {
        "colab": {
          "base_uri": "https://localhost:8080/",
          "height": 178
        },
        "id": "mARUjKT0zeVY",
        "outputId": "343fdfb6-52db-4aeb-9462-055084c0206c"
      },
      "execution_count": 15,
      "outputs": [
        {
          "output_type": "display_data",
          "data": {
            "text/plain": [
              "<IPython.core.display.HTML object>"
            ],
            "text/html": [
              "\n",
              "  <style>\n",
              "    pre {\n",
              "        white-space: pre-wrap;\n",
              "    }\n",
              "  </style>\n",
              "  "
            ]
          },
          "metadata": {}
        },
        {
          "output_type": "stream",
          "name": "stderr",
          "text": [
            "WARNING:urllib3.connectionpool:Retrying (Retry(total=2, connect=None, read=None, redirect=None, status=None)) after connection broken by 'ReadTimeoutError(\"HTTPSConnectionPool(host='api.cohere.ai', port=443): Read timed out. (read timeout=120)\")': /v1/generate\n"
          ]
        },
        {
          "output_type": "stream",
          "name": "stdout",
          "text": [
            " Think back to the last time you were working without any distractions in the office. That's right...I bet it's been a while. With the newly improved CO-1T noise-cancelling Bluetooth headphones, you can work in peace all day. Designed in partnership with software developers who work around the mayhem of tech startups, these headphones are finally the break you've been waiting for. With fast charging capacity, you never have to worry about being tied down to a wall again. Instead, you can quickly get back to work in no time. The CO-1T: the perfect partner for any software developer who wants to be productive in a chaotic world.\n"
          ]
        }
      ]
    },
    {
      "cell_type": "markdown",
      "source": [
        "## Context"
      ],
      "metadata": {
        "id": "LYexg4Fc1NiC"
      }
    },
    {
      "cell_type": "markdown",
      "source": [
        "### Without Context"
      ],
      "metadata": {
        "id": "x5SeWgap1bHL"
      }
    },
    {
      "cell_type": "code",
      "source": [
        "user_input =\"What are the key features of the CO-1T wireless headphone\"\n",
        "prompt = user_input\n",
        "\n",
        "response = generate_text(prompt, temp=0)\n",
        "print(response)"
      ],
      "metadata": {
        "colab": {
          "base_uri": "https://localhost:8080/",
          "height": 88
        },
        "id": "qn_TF3kD1X1h",
        "outputId": "4a57fd29-9807-4958-e318-1da5a1f8a482"
      },
      "execution_count": 16,
      "outputs": [
        {
          "output_type": "display_data",
          "data": {
            "text/plain": [
              "<IPython.core.display.HTML object>"
            ],
            "text/html": [
              "\n",
              "  <style>\n",
              "    pre {\n",
              "        white-space: pre-wrap;\n",
              "    }\n",
              "  </style>\n",
              "  "
            ]
          },
          "metadata": {}
        },
        {
          "output_type": "stream",
          "name": "stdout",
          "text": [
            " The CO-1T wireless headphone is a high-quality, comfortable, and durable headphone that is designed for use with a variety of devices. It features a sleek and modern design, a comfortable and secure fit, and a high-quality sound. The CO-1T is also equipped with a variety of features, including a built-in microphone, a multi-function button, and a rechargeable battery.\n"
          ]
        }
      ]
    },
    {
      "cell_type": "markdown",
      "source": [
        "### With Context"
      ],
      "metadata": {
        "id": "I6PNX9TC1fIv"
      }
    },
    {
      "cell_type": "code",
      "source": [
        "context = \"\"\"Think back to the last time you were working without any distractions in the office. That's right...I bet it's been a while. \\\n",
        "With the newly improved CO-1T noise-cancelling Bluetooth headphones, you can work in peace all day. Designed in partnership with \\\n",
        "software developers who work around the mayhem of tech startups, these headphones are finally the break you've been waiting for. With \\\n",
        "fast charging capacity and wireless Bluetooth connectivity, the CO-1T is the easy breezy way to get through your day without being \\\n",
        "overwhelmed by the chaos of the world.\"\"\"\n",
        "\n",
        "user_input = \"What are the key features of the CO-1T wireless headphone\"\n",
        "\n",
        "prompt = f\"\"\"{context}\n",
        "Given the information above, answer this question: {user_input}\"\"\"\n",
        "\n",
        "response = generate_text(prompt, temp=0)\n",
        "print(response)"
      ],
      "metadata": {
        "colab": {
          "base_uri": "https://localhost:8080/",
          "height": 53
        },
        "id": "HeSNBlxu1nLd",
        "outputId": "909c8429-1f42-44be-9748-fc16e8b6be64"
      },
      "execution_count": 17,
      "outputs": [
        {
          "output_type": "display_data",
          "data": {
            "text/plain": [
              "<IPython.core.display.HTML object>"
            ],
            "text/html": [
              "\n",
              "  <style>\n",
              "    pre {\n",
              "        white-space: pre-wrap;\n",
              "    }\n",
              "  </style>\n",
              "  "
            ]
          },
          "metadata": {}
        },
        {
          "output_type": "stream",
          "name": "stdout",
          "text": [
            " The answer is The CO-1T wireless headphones are designed to be noise-cancelling and Bluetooth enabled. They are also designed to be fast charging and have wireless Bluetooth connectivity.\n"
          ]
        }
      ]
    },
    {
      "cell_type": "markdown",
      "source": [
        "## Examples"
      ],
      "metadata": {
        "id": "oPUjDfEg00-m"
      }
    },
    {
      "cell_type": "markdown",
      "source": [
        "### Without Examples"
      ],
      "metadata": {
        "id": "PyoklM3--BQV"
      }
    },
    {
      "cell_type": "code",
      "source": [
        "prompt=\"\"\"Turn the following message to a virtual assistant into the correct action:\n",
        "Send a message to Alison to ask if she can pick me up tonight to go to the concert together\"\"\"\n",
        "\n",
        "response = generate_text(prompt, temp=0)\n",
        "print(response)"
      ],
      "metadata": {
        "colab": {
          "base_uri": "https://localhost:8080/",
          "height": 178
        },
        "id": "9BbLgfCd7wCF",
        "outputId": "07a7a1d7-5c88-4cbc-b54d-f19afc9ced03"
      },
      "execution_count": 18,
      "outputs": [
        {
          "output_type": "display_data",
          "data": {
            "text/plain": [
              "<IPython.core.display.HTML object>"
            ],
            "text/html": [
              "\n",
              "  <style>\n",
              "    pre {\n",
              "        white-space: pre-wrap;\n",
              "    }\n",
              "  </style>\n",
              "  "
            ]
          },
          "metadata": {}
        },
        {
          "output_type": "stream",
          "name": "stdout",
          "text": [
            " Here is the message to Alison:\n",
            "\n",
            "Hey Alison, I hope you're doing well! I was wondering if you could pick me up tonight to go to the concert together. I would really appreciate it, and I think it would be a lot of fun. Let me know if you're able to do this, and I'll make sure to be ready on time.\n",
            "\n",
            "Thanks,\n",
            "\n",
            "[Your Name]\n"
          ]
        }
      ]
    },
    {
      "cell_type": "markdown",
      "source": [
        "### With Examples"
      ],
      "metadata": {
        "id": "Wl6TcH0f-Dec"
      }
    },
    {
      "cell_type": "code",
      "source": [
        "user_input = \"Send a message to Alison to ask if she can pick me up tonight to go to the concert together\"\n",
        "\n",
        "prompt=f\"\"\"Turn the following message to a virtual assistant into the correct action:\n",
        "\n",
        "Message: Ask my aunt if she can go to the JDRF Walk with me October 6th\n",
        "Action: can you go to the jdrf walk with me october 6th\n",
        "\n",
        "Message: Ask Eliza what should I bring to the wedding tomorrow\n",
        "Action: what should I bring to the wedding tomorrow\n",
        "\n",
        "Message: Send message to supervisor that I am sick and will not be in today\n",
        "Action: I am sick and will not be in today\n",
        "\n",
        "Message: {user_input}\"\"\"\n",
        "\n",
        "response = generate_text(prompt, temp=0)\n",
        "print(response)"
      ],
      "metadata": {
        "colab": {
          "base_uri": "https://localhost:8080/",
          "height": 35
        },
        "id": "UznDzM5G8Anc",
        "outputId": "260926ec-e459-414b-cbbf-d40963c1fb60"
      },
      "execution_count": 19,
      "outputs": [
        {
          "output_type": "display_data",
          "data": {
            "text/plain": [
              "<IPython.core.display.HTML object>"
            ],
            "text/html": [
              "\n",
              "  <style>\n",
              "    pre {\n",
              "        white-space: pre-wrap;\n",
              "    }\n",
              "  </style>\n",
              "  "
            ]
          },
          "metadata": {}
        },
        {
          "output_type": "stream",
          "name": "stdout",
          "text": [
            " Can you pick me up tonight to go to the concert together?\n"
          ]
        }
      ]
    },
    {
      "cell_type": "markdown",
      "source": [
        "### Without Examples (Chain of Thought)"
      ],
      "metadata": {
        "id": "1gKI42UbNmsO"
      }
    },
    {
      "cell_type": "code",
      "source": [
        "prompt=f\"\"\"\n",
        "Q: Roger has 5 tennis balls. He buys 2 more cans of tennis balls. Each can has 3 tennis balls. \\\n",
        "How many tennis balls does he have now?\n",
        "A: The answer is 11.\n",
        "Q: The cafeteria had 23 apples. If they used 20 to make lunch and bought 6 more, how many apples do they have?\n",
        "A:\"\"\"\n",
        "\n",
        "response = generate_text(prompt, temp=0)\n",
        "print(response)"
      ],
      "metadata": {
        "colab": {
          "base_uri": "https://localhost:8080/",
          "height": 35
        },
        "id": "iXaR_Mh5NwR6",
        "outputId": "d2d5b186-649a-45b0-f7d6-bc55da033a17"
      },
      "execution_count": 34,
      "outputs": [
        {
          "output_type": "display_data",
          "data": {
            "text/plain": [
              "<IPython.core.display.HTML object>"
            ],
            "text/html": [
              "\n",
              "  <style>\n",
              "    pre {\n",
              "        white-space: pre-wrap;\n",
              "    }\n",
              "  </style>\n",
              "  "
            ]
          },
          "metadata": {}
        },
        {
          "output_type": "stream",
          "name": "stdout",
          "text": [
            " The answer is 29.\n"
          ]
        }
      ]
    },
    {
      "cell_type": "markdown",
      "source": [
        "### With Examples (Chain of Thought)"
      ],
      "metadata": {
        "id": "Uim2wOX0NuLc"
      }
    },
    {
      "cell_type": "code",
      "source": [
        "prompt=f\"\"\"\n",
        "Q: Roger has 5 tennis balls. He buys 2 more cans of tennis balls. Each can has 3 tennis balls. \\\n",
        "How many tennis balls does he have now?\n",
        "A: Roger started with 5 balls. 2 cans of 3 tennis balls each is 6 tennis balls. 5 + 6 = 11. \\\n",
        "The answer is 11.\n",
        "Q: The cafeteria had 23 apples. If they used 20 to make lunch and bought 6 more, how many apples do they have?\n",
        "A:\"\"\"\n",
        "\n",
        "response = generate_text(prompt, temp=0)\n",
        "print(response)"
      ],
      "metadata": {
        "colab": {
          "base_uri": "https://localhost:8080/",
          "height": 53
        },
        "id": "iT7mW_diOHHu",
        "outputId": "2cffdfa7-99a7-45f7-b143-a16ae5ea5571"
      },
      "execution_count": 33,
      "outputs": [
        {
          "output_type": "display_data",
          "data": {
            "text/plain": [
              "<IPython.core.display.HTML object>"
            ],
            "text/html": [
              "\n",
              "  <style>\n",
              "    pre {\n",
              "        white-space: pre-wrap;\n",
              "    }\n",
              "  </style>\n",
              "  "
            ]
          },
          "metadata": {}
        },
        {
          "output_type": "stream",
          "name": "stdout",
          "text": [
            " The cafeteria started with 23 apples. They used 20 to make lunch, so they have 23 - 20 = 3 apples. They bought 6 more apples, so they have 3 + 6 = 9 apples. The answer is 9.\n"
          ]
        }
      ]
    },
    {
      "cell_type": "markdown",
      "source": [
        "## Format"
      ],
      "metadata": {
        "id": "RvTwyE0J3bgw"
      }
    },
    {
      "cell_type": "markdown",
      "source": [
        "### Table Format"
      ],
      "metadata": {
        "id": "dlGb8YCS-H5H"
      }
    },
    {
      "cell_type": "code",
      "source": [
        "prompt=\"\"\"Turn the following information into a table with columns Invoice Number, Merchant Name, and Account Number.\n",
        "Bank Invoice: INVOICE #0521 MERCHANT ALLBIRDS ACC XXX3846\n",
        "Bank Invoice: INVOICE #6781 MERCHANT SHOPPERS ACC XXX9877\n",
        "Bank Invoice: INVOICE #0777 MERCHANT CN TOWER ACC XXX3846\n",
        "\"\"\"\n",
        "\n",
        "response = generate_text(prompt, temp=0)\n",
        "print(response)"
      ],
      "metadata": {
        "colab": {
          "base_uri": "https://localhost:8080/",
          "height": 106
        },
        "id": "mtFvXfOi8wfz",
        "outputId": "6c6af000-b2ff-4c2b-ccaa-b750d42b6503"
      },
      "execution_count": 20,
      "outputs": [
        {
          "output_type": "display_data",
          "data": {
            "text/plain": [
              "<IPython.core.display.HTML object>"
            ],
            "text/html": [
              "\n",
              "  <style>\n",
              "    pre {\n",
              "        white-space: pre-wrap;\n",
              "    }\n",
              "  </style>\n",
              "  "
            ]
          },
          "metadata": {}
        },
        {
          "output_type": "stream",
          "name": "stdout",
          "text": [
            " | Invoice Number | Merchant Name | Account Number |\n",
            "|-----------|------------|-----------|\n",
            "| 0521 | Allbirds | XXX3846 |\n",
            "| 6781 | Shoppers | XXX9877 |\n",
            "| 0777 | CN Tower | XXX3846 |\n"
          ]
        }
      ]
    },
    {
      "cell_type": "markdown",
      "source": [
        "### JSON Format"
      ],
      "metadata": {
        "id": "grTLFunv-KCB"
      }
    },
    {
      "cell_type": "code",
      "source": [
        "prompt=\"\"\"Turn the following information into a JSON string with the following keys: Invoice Number, Merchant Name, and Account Number.\n",
        "Bank Invoice: INVOICE #0521 MERCHANT ALLBIRDS ACC XXX3846\n",
        "Bank Invoice: INVOICE #6781 MERCHANT SHOPPERS ACC XXX9877\n",
        "Bank Invoice: INVOICE #0777 MERCHANT CN TOWER ACC XXX3846\n",
        "\"\"\"\n",
        "\n",
        "response = generate_text(prompt, temp=0)\n",
        "print(response)"
      ],
      "metadata": {
        "colab": {
          "base_uri": "https://localhost:8080/",
          "height": 321
        },
        "id": "3JzPmh9E9O9F",
        "outputId": "2da13323-1247-41d9-ab66-43645fc50f52"
      },
      "execution_count": 21,
      "outputs": [
        {
          "output_type": "display_data",
          "data": {
            "text/plain": [
              "<IPython.core.display.HTML object>"
            ],
            "text/html": [
              "\n",
              "  <style>\n",
              "    pre {\n",
              "        white-space: pre-wrap;\n",
              "    }\n",
              "  </style>\n",
              "  "
            ]
          },
          "metadata": {}
        },
        {
          "output_type": "stream",
          "name": "stdout",
          "text": [
            " [\n",
            "  {\n",
            "    \"Invoice Number\": \"0521\",\n",
            "    \"Merchant Name\": \"Allbirds\",\n",
            "    \"Account Number\": \"XXXX3846\"\n",
            "  },\n",
            "  {\n",
            "    \"Invoice Number\": \"6781\",\n",
            "    \"Merchant Name\": \"Shoppers\",\n",
            "    \"Account Number\": \"XXXX9877\"\n",
            "  },\n",
            "  {\n",
            "    \"Invoice Number\": \"0777\",\n",
            "    \"Merchant Name\": \"CN Tower\",\n",
            "    \"Account Number\": \"XXXX3846\"\n",
            "  }\n",
            "]\n"
          ]
        }
      ]
    },
    {
      "cell_type": "markdown",
      "source": [
        "## Steps"
      ],
      "metadata": {
        "id": "Df4lLD-P3aj_"
      }
    },
    {
      "cell_type": "markdown",
      "source": [
        "### Without Steps"
      ],
      "metadata": {
        "id": "McRoWYXzxxTS"
      }
    },
    {
      "cell_type": "code",
      "source": [
        "user_input = \"education\"\n",
        "\n",
        "prompt = f\"\"\"Generate a startup idea for this industry: {user_input}\"\"\"\n",
        "\n",
        "response = generate_text(prompt, temp=0.5)\n",
        "print(response)"
      ],
      "metadata": {
        "colab": {
          "base_uri": "https://localhost:8080/",
          "height": 35
        },
        "id": "lSnOS2kkALZj",
        "outputId": "ef63eb64-8047-4685-82ec-355aa3475698"
      },
      "execution_count": 22,
      "outputs": [
        {
          "output_type": "display_data",
          "data": {
            "text/plain": [
              "<IPython.core.display.HTML object>"
            ],
            "text/html": [
              "\n",
              "  <style>\n",
              "    pre {\n",
              "        white-space: pre-wrap;\n",
              "    }\n",
              "  </style>\n",
              "  "
            ]
          },
          "metadata": {}
        },
        {
          "output_type": "stream",
          "name": "stdout",
          "text": [
            " A mobile app that provides a platform for students to connect with each other and share resources.\n"
          ]
        }
      ]
    },
    {
      "cell_type": "markdown",
      "source": [
        "### With Steps"
      ],
      "metadata": {
        "id": "nUfEbk8-xzLi"
      }
    },
    {
      "cell_type": "code",
      "source": [
        "user_input = \"education\"\n",
        "\n",
        "prompt = f\"\"\"Generate a startup idea for this industry: {user_input}\n",
        "First, describe the problem to be solved.\n",
        "Next, describe the target audience of this startup idea.\n",
        "Next, describe the startup idea and how it solves the problem for the target audience.\n",
        "Next, provide a name for the given startup.\n",
        "\n",
        "Use the following format:\n",
        "Industry: <the given industry>\n",
        "The Problem: <the given problem>\n",
        "Audience: <the given target audience>\n",
        "Startup Idea: <the given idea>\n",
        "Startup Name: <the given name>\"\"\"\n",
        "\n",
        "response = generate_text(prompt, temp=0.9)\n",
        "print(response)"
      ],
      "metadata": {
        "colab": {
          "base_uri": "https://localhost:8080/",
          "height": 124
        },
        "id": "aJ6TM2JS-gFG",
        "outputId": "79754cd0-477f-496d-a410-3194351052e3"
      },
      "execution_count": 28,
      "outputs": [
        {
          "output_type": "display_data",
          "data": {
            "text/plain": [
              "<IPython.core.display.HTML object>"
            ],
            "text/html": [
              "\n",
              "  <style>\n",
              "    pre {\n",
              "        white-space: pre-wrap;\n",
              "    }\n",
              "  </style>\n",
              "  "
            ]
          },
          "metadata": {}
        },
        {
          "output_type": "stream",
          "name": "stdout",
          "text": [
            " Industry: Education\n",
            "The Problem: Many people have problems with their self-esteem and confidence.\n",
            "Audience: People who struggle with their self-esteem and confidence.\n",
            "Startup Idea: A platform that allows users to anonymously post about their struggles with their self-esteem and confidence, and receive support and advice from other users.\n",
            "Startup Name: Supportiv\n"
          ]
        }
      ]
    },
    {
      "cell_type": "markdown",
      "source": [
        "## Prefix"
      ],
      "metadata": {
        "id": "VZijlonA3fAi"
      }
    },
    {
      "cell_type": "markdown",
      "source": [
        "### Without Prefix"
      ],
      "metadata": {
        "id": "iGQcn2nVEUM4"
      }
    },
    {
      "cell_type": "code",
      "source": [
        "user_input_position = \"modern centre forward\"\n",
        "\n",
        "prompt = f\"\"\"Describe the ideal {user_input_position}. In particular, describe the following characteristics: \\\n",
        "pace, skill, and awareness.\"\"\"\n",
        "\n",
        "response = generate_text(prompt, temp=0.9)\n",
        "print(response)"
      ],
      "metadata": {
        "colab": {
          "base_uri": "https://localhost:8080/",
          "height": 178
        },
        "id": "-Rvv6-mZDvsJ",
        "outputId": "b5562b87-00b5-41e6-a05d-e68b1134a0c2"
      },
      "execution_count": 29,
      "outputs": [
        {
          "output_type": "display_data",
          "data": {
            "text/plain": [
              "<IPython.core.display.HTML object>"
            ],
            "text/html": [
              "\n",
              "  <style>\n",
              "    pre {\n",
              "        white-space: pre-wrap;\n",
              "    }\n",
              "  </style>\n",
              "  "
            ]
          },
          "metadata": {}
        },
        {
          "output_type": "stream",
          "name": "stdout",
          "text": [
            " An ideal modern centre forward would have a number of characteristics that would make them a valuable asset to any team.\n",
            "\n",
            "First and foremost, a centre forward would need to have pace. This would allow them to run in behind the opposition defense and get into goal-scoring positions. A good centre forward would also need to have skill. This would allow them to control the ball and finish chances. Finally, a centre forward would need to have awareness. This would allow them to make runs into space and find the best positions to score goals.\n",
            "\n",
            "Overall, an ideal modern centre forward would need to have a combination of pace, skill, and awareness. This would allow them to be a constant threat to the opposition and help their team to score goals.\n"
          ]
        }
      ]
    },
    {
      "cell_type": "markdown",
      "source": [
        "### With Prefix"
      ],
      "metadata": {
        "id": "F7AEL0r1EaEh"
      }
    },
    {
      "cell_type": "code",
      "source": [
        "user_input_position = \"modern centre forward\"\n",
        "\n",
        "prompt = f\"\"\"Describe the ideal {user_input_position}. In particular, describe the following characteristics: \\\n",
        "pace, skill, and awareness.\n",
        "\n",
        "Pace:\"\"\"\n",
        "\n",
        "response = generate_text(prompt, temp=0.9)\n",
        "print(response)"
      ],
      "metadata": {
        "colab": {
          "base_uri": "https://localhost:8080/",
          "height": 231
        },
        "id": "XsDXsiEwEFR1",
        "outputId": "782872c2-1249-4fd5-c983-193be152e557"
      },
      "execution_count": 30,
      "outputs": [
        {
          "output_type": "display_data",
          "data": {
            "text/plain": [
              "<IPython.core.display.HTML object>"
            ],
            "text/html": [
              "\n",
              "  <style>\n",
              "    pre {\n",
              "        white-space: pre-wrap;\n",
              "    }\n",
              "  </style>\n",
              "  "
            ]
          },
          "metadata": {}
        },
        {
          "output_type": "stream",
          "name": "stdout",
          "text": [
            " The modern centre forward should be a quick player with good acceleration. They should be able to run with the ball at pace and also be able to change direction quickly.\n",
            "\n",
            "Skill:\n",
            "\n",
            "The modern centre forward should have good skill and be able to beat defenders with their dribbling ability. They should also be able to create chances for their team by passing the ball to teammates.\n",
            "\n",
            "Awareness:\n",
            "\n",
            "The modern centre forward should have good awareness of the game and be able to make decisions quickly. They should also be able to read the game well and be able to make runs into space when necessary.\n"
          ]
        }
      ]
    },
    {
      "cell_type": "markdown",
      "source": [
        "### With Prefix (Zero Shot Chain of Thought)"
      ],
      "metadata": {
        "id": "A25RPOF9QA8f"
      }
    },
    {
      "cell_type": "code",
      "source": [
        "prompt=f\"\"\"Q: The cafeteria had 23 apples. If they used 20 to make lunch and bought 6 more, \\\n",
        "how many apples do they have?\n",
        "A: Let's think step by step.\"\"\"\n",
        "\n",
        "response = generate_text(prompt, temp=0)\n",
        "print(response)"
      ],
      "metadata": {
        "id": "vI-cw0J6EMaT",
        "colab": {
          "base_uri": "https://localhost:8080/",
          "height": 71
        },
        "outputId": "be3826f7-d512-48f1-dc05-c196eb6b0800"
      },
      "execution_count": 38,
      "outputs": [
        {
          "output_type": "display_data",
          "data": {
            "text/plain": [
              "<IPython.core.display.HTML object>"
            ],
            "text/html": [
              "\n",
              "  <style>\n",
              "    pre {\n",
              "        white-space: pre-wrap;\n",
              "    }\n",
              "  </style>\n",
              "  "
            ]
          },
          "metadata": {}
        },
        {
          "output_type": "stream",
          "name": "stdout",
          "text": [
            " The cafeteria started with 23 apples, used 20 to make lunch, and bought 6 more. To find out how many apples they have now, we can subtract 20 from the original number of apples, and then add 6. So, we have 23 - 20 + 6 = 9 apples.\n",
            "So, the answer is 9.\n"
          ]
        }
      ]
    },
    {
      "cell_type": "code",
      "source": [],
      "metadata": {
        "id": "60pNsZsFPfiY"
      },
      "execution_count": null,
      "outputs": []
    }
  ]
}