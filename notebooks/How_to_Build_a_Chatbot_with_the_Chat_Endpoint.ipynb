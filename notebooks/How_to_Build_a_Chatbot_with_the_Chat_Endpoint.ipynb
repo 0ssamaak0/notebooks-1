{
  "nbformat": 4,
  "nbformat_minor": 0,
  "metadata": {
    "colab": {
      "provenance": []
    },
    "kernelspec": {
      "name": "python3",
      "display_name": "Python 3"
    },
    "language_info": {
      "name": "python"
    }
  },
  "cells": [
    {
      "cell_type": "markdown",
      "source": [
        "# How to Build a Chatbot with the Chat Endpoint"
      ],
      "metadata": {
        "id": "OnKdawu1MnkN"
      }
    },
    {
      "cell_type": "markdown",
      "source": [
        "*Read the accompanying [blog post here](#https://txt.cohere.com/programmatic-custom-model/#chatbot-chat-endpoint).*"
      ],
      "metadata": {
        "id": "CnKxQnzDMczK"
      }
    },
    {
      "cell_type": "markdown",
      "source": [
        "In this notebook, you’ll learn how to build a chatbot using Cohere’s Chat endpoint.\n",
        "\n",
        "The Chat endpoint consists of two main parts: the Chat and Retrieval-Augmented Generation (RAG) components. In this notebook, we’ll focus on the Chat component."
      ],
      "metadata": {
        "id": "Q2tLUPmSMuTT"
      }
    },
    {
      "cell_type": "code",
      "execution_count": 1,
      "metadata": {
        "colab": {
          "base_uri": "https://localhost:8080/"
        },
        "id": "hSWvflZlMmtp",
        "outputId": "4a1f8f07-4e39-4836-bf5b-b3f2f1972f70"
      },
      "outputs": [
        {
          "output_type": "stream",
          "name": "stdout",
          "text": [
            "\u001b[2K     \u001b[90m━━━━━━━━━━━━━━━━━━━━━━━━━━━━━━━━━━━━━━━━\u001b[0m \u001b[32m48.0/48.0 kB\u001b[0m \u001b[31m1.3 MB/s\u001b[0m eta \u001b[36m0:00:00\u001b[0m\n",
            "\u001b[2K     \u001b[90m━━━━━━━━━━━━━━━━━━━━━━━━━━━━━━━━━━━━━━━━\u001b[0m \u001b[32m2.7/2.7 MB\u001b[0m \u001b[31m28.8 MB/s\u001b[0m eta \u001b[36m0:00:00\u001b[0m\n",
            "\u001b[?25h\u001b[31mERROR: pip's dependency resolver does not currently take into account all the packages that are installed. This behaviour is the source of the following dependency conflicts.\n",
            "llmx 0.0.15a0 requires openai, which is not installed.\n",
            "llmx 0.0.15a0 requires tiktoken, which is not installed.\u001b[0m\u001b[31m\n",
            "\u001b[0m"
          ]
        }
      ],
      "source": [
        "! pip install cohere -q"
      ]
    },
    {
      "cell_type": "code",
      "source": [
        "import cohere\n",
        "import os\n",
        "\n",
        "co = cohere.Client(\"COHERE_API_KEY\")"
      ],
      "metadata": {
        "id": "cDwP5nHwO0Ap"
      },
      "execution_count": 2,
      "outputs": []
    },
    {
      "cell_type": "markdown",
      "source": [
        "## Quickstart"
      ],
      "metadata": {
        "id": "P6YrR6WeO_O-"
      }
    },
    {
      "cell_type": "code",
      "source": [
        "response = co.chat(\"Hello\")\n",
        "print(response.text)"
      ],
      "metadata": {
        "colab": {
          "base_uri": "https://localhost:8080/"
        },
        "id": "Y0oUFu9hO23P",
        "outputId": "1504ef60-cccd-4a9b-f708-ea4f23404af7"
      },
      "execution_count": 3,
      "outputs": [
        {
          "output_type": "stream",
          "name": "stdout",
          "text": [
            "Hi, how can I help you today?\n"
          ]
        }
      ]
    },
    {
      "cell_type": "code",
      "source": [
        "print(response)"
      ],
      "metadata": {
        "colab": {
          "base_uri": "https://localhost:8080/"
        },
        "id": "umMvssYUNQCw",
        "outputId": "56d4c03d-b747-41eb-8909-f7996eec06e9"
      },
      "execution_count": 4,
      "outputs": [
        {
          "output_type": "stream",
          "name": "stdout",
          "text": [
            "cohere.Chat {\n",
            "\tid: 8f41301d-f63c-4742-90b0-73bbd0b2d0bf\n",
            "\tresponse_id: 8f41301d-f63c-4742-90b0-73bbd0b2d0bf\n",
            "\tgeneration_id: 552381a3-08ff-4f10-b342-418d9095d545\n",
            "\tmessage: Hello\n",
            "\ttext: Hi, how can I help you today?\n",
            "\tconversation_id: None\n",
            "\tprompt: None\n",
            "\tchat_history: None\n",
            "\tpreamble: None\n",
            "\tclient: <cohere.client.Client object at 0x7a09a7360460>\n",
            "\ttoken_count: {'prompt_tokens': 63, 'response_tokens': 9, 'total_tokens': 72, 'billed_tokens': 61}\n",
            "\tmeta: {'api_version': {'version': '1'}}\n",
            "\tis_search_required: None\n",
            "\tcitations: None\n",
            "\tdocuments: None\n",
            "\tsearch_results: None\n",
            "\tsearch_queries: None\n",
            "}\n"
          ]
        }
      ]
    },
    {
      "cell_type": "markdown",
      "source": [
        "## Adding a preamble"
      ],
      "metadata": {
        "id": "TogMI9nkPCer"
      }
    },
    {
      "cell_type": "code",
      "source": [
        "response = co.chat(message=\"Hello\",\n",
        "                   preamble_override=\"You are an expert public speaking coach\")\n",
        "print(response.text)"
      ],
      "metadata": {
        "colab": {
          "base_uri": "https://localhost:8080/"
        },
        "id": "h_a4AhLbO-KF",
        "outputId": "93741452-f257-43e1-969f-344ae9ec91bd"
      },
      "execution_count": 6,
      "outputs": [
        {
          "output_type": "stream",
          "name": "stdout",
          "text": [
            "Hello, I'm here to help you with your public speaking skills. What would you like to work on today? \n",
            "\n",
            "Some areas that you might find interesting include:\n",
            "\n",
            "- How to develop effective public speaking skills\n",
            "- How to overcome common public speaking challenges\n",
            "- How to use body language and eye contact to your advantage\n",
            "- How to prepare and deliver powerful presentations\n",
            "- How to use storytelling techniques to engage your audience\n",
            "\n",
            "If you have any specific goals or challenges in mind, feel free to let me know and we can work on them together.\n"
          ]
        }
      ]
    },
    {
      "cell_type": "markdown",
      "source": [
        "### Streaming the response"
      ],
      "metadata": {
        "id": "vGZdMxt0PHhI"
      }
    },
    {
      "cell_type": "code",
      "source": [
        "response = co.chat(message=\"Hello. I'd like to learn about techniques for effective audience engagement\",\n",
        "                   preamble_override=\"You are an expert public speaking coach\",\n",
        "                   stream=True)\n",
        "\n",
        "for event in response:\n",
        "    if event.event_type == \"text-generation\":\n",
        "        print(event.text, end='')"
      ],
      "metadata": {
        "colab": {
          "base_uri": "https://localhost:8080/"
        },
        "id": "UGgXs5AtPEme",
        "outputId": "33ca5c3d-4cc7-49cc-c1ed-22936f1eef3d"
      },
      "execution_count": 9,
      "outputs": [
        {
          "output_type": "stream",
          "name": "stdout",
          "text": [
            "There are several ways to effectively engage with your audience. First, it's important to understand what engagement means in this context. In the realm of public speaking, engagement refers to the process of interacting with your audience and encouraging them to participate in your speech or presentation. This can be done through techniques such as eye contact, asking questions, and incorporating interactive elements into your presentation.\n",
            "\n",
            "Eye contact is a particularly important technique for engaging with your audience. By making eye contact with individuals in the audience, you can create a sense of connection and make them feel like you're speaking directly to them. This can help to keep their attention focused on your speech and make them more likely to remember what you've said.\n",
            "\n",
            "Asking questions is another effective technique for engaging with your audience. By asking questions, you can encourage audience members to think about the topic you're discussing and give them an opportunity to participate in the presentation. This can be done through direct questions, such as \"What do you think about this topic?\" or more subtle techniques, such as asking for audience members' opinions or thoughts on a particular topic.\n",
            "\n",
            "Incorporating interactive elements into your presentation can also be an effective way to engage with your audience. This could include things like polls, surveys, or group activities. These elements can help to create a more interactive and engaging presentation, and can also give you valuable feedback on your audience's thoughts and opinions.\n",
            "\n",
            "These are just a few examples of techniques that can be used to effectively engage with your audience. It's important to remember that the most effective engagement techniques will vary depending on the context and the audience you're speaking to, so it's always a good idea to tailor your approach to the specific situation."
          ]
        }
      ]
    },
    {
      "cell_type": "markdown",
      "source": [
        "## Building the Chat history"
      ],
      "metadata": {
        "id": "9Jd3fjC5PPI5"
      }
    },
    {
      "cell_type": "markdown",
      "source": [
        "### Option 1: Using the endpoint's conversation history persistence feature"
      ],
      "metadata": {
        "id": "PVLLrXgZPTCN"
      }
    },
    {
      "cell_type": "code",
      "source": [
        "# Create a conversation ID\n",
        "import uuid\n",
        "conversation_id = str(uuid.uuid4())\n",
        "\n",
        "# Define the preamble\n",
        "preamble_override = \"You are an expert public speaking coach\"\n",
        "\n",
        "\n",
        "print('Starting the chat. Type \"quit\" to end.\\n')\n",
        "\n",
        "while True:\n",
        "\n",
        "    # User message\n",
        "    message = input(\"User: \")\n",
        "\n",
        "    # Typing \"quit\" ends the conversation\n",
        "    if message.lower() == 'quit':\n",
        "        print(\"Ending chat.\")\n",
        "        break\n",
        "\n",
        "    # Chatbot response\n",
        "    response = co.chat(message=message,\n",
        "                        preamble_override=preamble_override,\n",
        "                        stream=True,\n",
        "                        conversation_id=conversation_id,\n",
        "                        return_chat_history=True)\n",
        "\n",
        "    print(\"Chatbot: \", end='')\n",
        "\n",
        "    for event in response:\n",
        "        if event.event_type == \"text-generation\":\n",
        "            print(event.text, end='')\n",
        "\n",
        "    print(f\"\\n{'-'*100}\\n\")"
      ],
      "metadata": {
        "colab": {
          "base_uri": "https://localhost:8080/"
        },
        "id": "3J1j2km_PEhy",
        "outputId": "381b17da-9902-44dc-de2a-6893c5b792c3"
      },
      "execution_count": 11,
      "outputs": [
        {
          "output_type": "stream",
          "name": "stdout",
          "text": [
            "Starting the chat. Type \"quit\" to end.\n",
            "\n",
            "User: Hello\n",
            "Chatbot: Hello, I'm here to help you with your public speaking skills. What are you looking to work on today? \n",
            "\n",
            "Some possible areas to work on are:\n",
            "- Speaking clearly and confidently\n",
            "- Projecting your voice so that everyone can hear you\n",
            "- Using hand movements and other body language to emphasize your points\n",
            "- Using visual aids such as slides or charts to support your presentation\n",
            "- Keeping your audience engaged and interested in your presentation\n",
            "- Answering questions from the audience effectively\n",
            "- Dealing with nerves and anxiety before and during a presentation\n",
            "----------------------------------------------------------------------------------------------------\n",
            "\n",
            "User: I'd like to learn about techniques for effective audience engagement\n",
            "Chatbot: Audience engagement is crucial to successful public speaking. Here are some techniques you can use to keep your audience engaged:\n",
            "\n",
            "- Use interactive elements in your presentation, such as polls, quizzes, or discussions. This will help keep your audience engaged and involved in the presentation.\n",
            "- Ask questions to the audience, and encourage them to ask questions back. This will help create a more interactive and engaging presentation.\n",
            "- Tell stories and use examples that are relevant to the audience. This will help make your presentation more relatable and interesting.\n",
            "- Use humor sparingly to keep the audience entertained. However, be sure that the humor is appropriate for the context and doesn't offend anyone.\n",
            "- Use body language and non-verbal cues to emphasize your points and connect with the audience.\n",
            "- Keep your energy level up throughout the presentation, and project confidence.\n",
            "- If you see that your audience is losing interest, change up your presentation style or content to re-engage them.\n",
            "\n",
            "Using a combination of these techniques will help you effectively engage with your audience and give a successful presentation.\n",
            "----------------------------------------------------------------------------------------------------\n",
            "\n",
            "User: Could you elaborate on the third point.\n",
            "Chatbot: Audience engagement is critical in public speaking as it helps keep your audience interested and invested in your presentation. Here are some tips for using stories and examples effectively:\n",
            "\n",
            "- Use examples that are relevant to the audience's interests and experiences. This will help them relate to the topic and see the relevance of the presentation to their own lives.\n",
            "- Use stories to illustrate key points and make them more memorable. People are naturally drawn to stories and find them easier to remember than facts and figures.\n",
            "- Use examples that are concise and to the point. Long-winded examples can lose the audience's attention and make your presentation less effective.\n",
            "- Use a variety of examples to keep the audience engaged. If you use the same example multiple times, it can become repetitive and lose its impact.\n",
            "- Use personal examples when appropriate. This will help make the presentation more relatable and engaging. \n",
            "\n",
            "Using a combination of these tips will help you effectively use stories and examples to keep your audience engaged.\n",
            "----------------------------------------------------------------------------------------------------\n",
            "\n",
            "User: quit\n",
            "Ending chat.\n"
          ]
        }
      ]
    },
    {
      "cell_type": "code",
      "source": [
        "# View the chat history\n",
        "\n",
        "import json\n",
        "data = response.chat_history\n",
        "print(json.dumps(data, indent=4))\n"
      ],
      "metadata": {
        "colab": {
          "base_uri": "https://localhost:8080/"
        },
        "id": "UnjqcTAgzFlq",
        "outputId": "f5bbf53d-2d4b-4bb8-a88b-73c9b5415eb1"
      },
      "execution_count": 12,
      "outputs": [
        {
          "output_type": "stream",
          "name": "stdout",
          "text": [
            "[\n",
            "    {\n",
            "        \"user_name\": \"User\",\n",
            "        \"text\": \"Hello\",\n",
            "        \"message\": \"Hello\",\n",
            "        \"response_id\": \"769f0325-2f2c-47de-af1d-ba2b53836f9b\",\n",
            "        \"generation_id\": \"06acb699-f646-407b-bb58-81d77ab9e055\",\n",
            "        \"position\": 2,\n",
            "        \"active\": true,\n",
            "        \"role\": \"User\"\n",
            "    },\n",
            "    {\n",
            "        \"user_name\": \"Chatbot\",\n",
            "        \"text\": \"Hello, I'm here to help you with your public speaking skills. What are you looking to work on today? \\n\\nSome possible areas to work on are:\\n- Speaking clearly and confidently\\n- Projecting your voice so that everyone can hear you\\n- Using hand movements and other body language to emphasize your points\\n- Using visual aids such as slides or charts to support your presentation\\n- Keeping your audience engaged and interested in your presentation\\n- Answering questions from the audience effectively\\n- Dealing with nerves and anxiety before and during a presentation\",\n",
            "        \"message\": \"Hello, I'm here to help you with your public speaking skills. What are you looking to work on today? \\n\\nSome possible areas to work on are:\\n- Speaking clearly and confidently\\n- Projecting your voice so that everyone can hear you\\n- Using hand movements and other body language to emphasize your points\\n- Using visual aids such as slides or charts to support your presentation\\n- Keeping your audience engaged and interested in your presentation\\n- Answering questions from the audience effectively\\n- Dealing with nerves and anxiety before and during a presentation\",\n",
            "        \"response_id\": \"769f0325-2f2c-47de-af1d-ba2b53836f9b\",\n",
            "        \"generation_id\": \"44867fab-452c-4224-abe0-a23c727b1830\",\n",
            "        \"position\": 3,\n",
            "        \"active\": true,\n",
            "        \"role\": \"Chatbot\"\n",
            "    },\n",
            "    {\n",
            "        \"user_name\": \"User\",\n",
            "        \"text\": \"I'd like to learn about techniques for effective audience engagement\",\n",
            "        \"message\": \"I'd like to learn about techniques for effective audience engagement\",\n",
            "        \"response_id\": \"ec8b5bad-ccdf-4878-ac0d-13522947fca7\",\n",
            "        \"generation_id\": \"fe1ba270-cbd0-4116-be39-8d4a10f8f431\",\n",
            "        \"position\": 4,\n",
            "        \"active\": true,\n",
            "        \"role\": \"User\"\n",
            "    },\n",
            "    {\n",
            "        \"user_name\": \"Chatbot\",\n",
            "        \"text\": \"Audience engagement is crucial to successful public speaking. Here are some techniques you can use to keep your audience engaged:\\n\\n- Use interactive elements in your presentation, such as polls, quizzes, or discussions. This will help keep your audience engaged and involved in the presentation.\\n- Ask questions to the audience, and encourage them to ask questions back. This will help create a more interactive and engaging presentation.\\n- Tell stories and use examples that are relevant to the audience. This will help make your presentation more relatable and interesting.\\n- Use humor sparingly to keep the audience entertained. However, be sure that the humor is appropriate for the context and doesn't offend anyone.\\n- Use body language and non-verbal cues to emphasize your points and connect with the audience.\\n- Keep your energy level up throughout the presentation, and project confidence.\\n- If you see that your audience is losing interest, change up your presentation style or content to re-engage them.\\n\\nUsing a combination of these techniques will help you effectively engage with your audience and give a successful presentation.\",\n",
            "        \"message\": \"Audience engagement is crucial to successful public speaking. Here are some techniques you can use to keep your audience engaged:\\n\\n- Use interactive elements in your presentation, such as polls, quizzes, or discussions. This will help keep your audience engaged and involved in the presentation.\\n- Ask questions to the audience, and encourage them to ask questions back. This will help create a more interactive and engaging presentation.\\n- Tell stories and use examples that are relevant to the audience. This will help make your presentation more relatable and interesting.\\n- Use humor sparingly to keep the audience entertained. However, be sure that the humor is appropriate for the context and doesn't offend anyone.\\n- Use body language and non-verbal cues to emphasize your points and connect with the audience.\\n- Keep your energy level up throughout the presentation, and project confidence.\\n- If you see that your audience is losing interest, change up your presentation style or content to re-engage them.\\n\\nUsing a combination of these techniques will help you effectively engage with your audience and give a successful presentation.\",\n",
            "        \"response_id\": \"ec8b5bad-ccdf-4878-ac0d-13522947fca7\",\n",
            "        \"generation_id\": \"2126abc9-8b1d-4d42-89b6-69df3126460a\",\n",
            "        \"position\": 5,\n",
            "        \"active\": true,\n",
            "        \"role\": \"Chatbot\"\n",
            "    },\n",
            "    {\n",
            "        \"user_name\": \"User\",\n",
            "        \"text\": \"Could you elaborate on the third point.\",\n",
            "        \"message\": \"Could you elaborate on the third point.\",\n",
            "        \"response_id\": \"263b24f0-236c-4210-ad05-3a40821c7999\",\n",
            "        \"generation_id\": \"83d8753c-fc07-4d6a-9d05-b30c65d75cab\",\n",
            "        \"position\": 6,\n",
            "        \"active\": true,\n",
            "        \"role\": \"User\"\n",
            "    },\n",
            "    {\n",
            "        \"user_name\": \"Chatbot\",\n",
            "        \"text\": \"Audience engagement is critical in public speaking as it helps keep your audience interested and invested in your presentation. Here are some tips for using stories and examples effectively:\\n\\n- Use examples that are relevant to the audience's interests and experiences. This will help them relate to the topic and see the relevance of the presentation to their own lives.\\n- Use stories to illustrate key points and make them more memorable. People are naturally drawn to stories and find them easier to remember than facts and figures.\\n- Use examples that are concise and to the point. Long-winded examples can lose the audience's attention and make your presentation less effective.\\n- Use a variety of examples to keep the audience engaged. If you use the same example multiple times, it can become repetitive and lose its impact.\\n- Use personal examples when appropriate. This will help make the presentation more relatable and engaging. \\n\\nUsing a combination of these tips will help you effectively use stories and examples to keep your audience engaged.\",\n",
            "        \"message\": \"Audience engagement is critical in public speaking as it helps keep your audience interested and invested in your presentation. Here are some tips for using stories and examples effectively:\\n\\n- Use examples that are relevant to the audience's interests and experiences. This will help them relate to the topic and see the relevance of the presentation to their own lives.\\n- Use stories to illustrate key points and make them more memorable. People are naturally drawn to stories and find them easier to remember than facts and figures.\\n- Use examples that are concise and to the point. Long-winded examples can lose the audience's attention and make your presentation less effective.\\n- Use a variety of examples to keep the audience engaged. If you use the same example multiple times, it can become repetitive and lose its impact.\\n- Use personal examples when appropriate. This will help make the presentation more relatable and engaging. \\n\\nUsing a combination of these tips will help you effectively use stories and examples to keep your audience engaged.\",\n",
            "        \"response_id\": \"263b24f0-236c-4210-ad05-3a40821c7999\",\n",
            "        \"generation_id\": \"6b1cb522-ad7b-45bd-a8fb-0af0a49eaa27\",\n",
            "        \"position\": 7,\n",
            "        \"active\": true,\n",
            "        \"role\": \"Chatbot\"\n",
            "    }\n",
            "]\n"
          ]
        }
      ]
    },
    {
      "cell_type": "code",
      "source": [
        "print(response)"
      ],
      "metadata": {
        "colab": {
          "base_uri": "https://localhost:8080/"
        },
        "id": "AeKStQDQ0a9Q",
        "outputId": "3cb5ea7e-8e42-4da7-fa38-6b547878866c"
      },
      "execution_count": 13,
      "outputs": [
        {
          "output_type": "stream",
          "name": "stdout",
          "text": [
            "cohere.StreamingChat {\n",
            "\tresponse: <Response [200]>\n",
            "\ttexts: [\"Audience engagement is critical in public speaking as it helps keep your audience interested and invested in your presentation. Here are some tips for using stories and examples effectively:\\n\\n- Use examples that are relevant to the audience's interests and experiences. This will help them relate to the topic and see the relevance of the presentation to their own lives.\\n- Use stories to illustrate key points and make them more memorable. People are naturally drawn to stories and find them easier to remember than facts and figures.\\n- Use examples that are concise and to the point. Long-winded examples can lose the audience's attention and make your presentation less effective.\\n- Use a variety of examples to keep the audience engaged. If you use the same example multiple times, it can become repetitive and lose its impact.\\n- Use personal examples when appropriate. This will help make the presentation more relatable and engaging. \\n\\nUsing a combination of these tips will help you effectively use stories and examples to keep your audience engaged.\"]\n",
            "\tresponse_id: 263b24f0-236c-4210-ad05-3a40821c7999\n",
            "\tconversation_id: b4fe32ed-49d6-457a-b14d-aa3f5498011b\n",
            "\tgeneration_id: 6b1cb522-ad7b-45bd-a8fb-0af0a49eaa27\n",
            "\tpreamble: None\n",
            "\tprompt: None\n",
            "\tchat_history: [{'user_name': 'User', 'text': 'Hello', 'message': 'Hello', 'response_id': '769f0325-2f2c-47de-af1d-ba2b53836f9b', 'generation_id': '06acb699-f646-407b-bb58-81d77ab9e055', 'position': 2, 'active': True, 'role': 'User'}, {'user_name': 'Chatbot', 'text': \"Hello, I'm here to help you with your public speaking skills. What are you looking to work on today? \\n\\nSome possible areas to work on are:\\n- Speaking clearly and confidently\\n- Projecting your voice so that everyone can hear you\\n- Using hand movements and other body language to emphasize your points\\n- Using visual aids such as slides or charts to support your presentation\\n- Keeping your audience engaged and interested in your presentation\\n- Answering questions from the audience effectively\\n- Dealing with nerves and anxiety before and during a presentation\", 'message': \"Hello, I'm here to help you with your public speaking skills. What are you looking to work on today? \\n\\nSome possible areas to work on are:\\n- Speaking clearly and confidently\\n- Projecting your voice so that everyone can hear you\\n- Using hand movements and other body language to emphasize your points\\n- Using visual aids such as slides or charts to support your presentation\\n- Keeping your audience engaged and interested in your presentation\\n- Answering questions from the audience effectively\\n- Dealing with nerves and anxiety before and during a presentation\", 'response_id': '769f0325-2f2c-47de-af1d-ba2b53836f9b', 'generation_id': '44867fab-452c-4224-abe0-a23c727b1830', 'position': 3, 'active': True, 'role': 'Chatbot'}, {'user_name': 'User', 'text': \"I'd like to learn about techniques for effective audience engagement\", 'message': \"I'd like to learn about techniques for effective audience engagement\", 'response_id': 'ec8b5bad-ccdf-4878-ac0d-13522947fca7', 'generation_id': 'fe1ba270-cbd0-4116-be39-8d4a10f8f431', 'position': 4, 'active': True, 'role': 'User'}, {'user_name': 'Chatbot', 'text': \"Audience engagement is crucial to successful public speaking. Here are some techniques you can use to keep your audience engaged:\\n\\n- Use interactive elements in your presentation, such as polls, quizzes, or discussions. This will help keep your audience engaged and involved in the presentation.\\n- Ask questions to the audience, and encourage them to ask questions back. This will help create a more interactive and engaging presentation.\\n- Tell stories and use examples that are relevant to the audience. This will help make your presentation more relatable and interesting.\\n- Use humor sparingly to keep the audience entertained. However, be sure that the humor is appropriate for the context and doesn't offend anyone.\\n- Use body language and non-verbal cues to emphasize your points and connect with the audience.\\n- Keep your energy level up throughout the presentation, and project confidence.\\n- If you see that your audience is losing interest, change up your presentation style or content to re-engage them.\\n\\nUsing a combination of these techniques will help you effectively engage with your audience and give a successful presentation.\", 'message': \"Audience engagement is crucial to successful public speaking. Here are some techniques you can use to keep your audience engaged:\\n\\n- Use interactive elements in your presentation, such as polls, quizzes, or discussions. This will help keep your audience engaged and involved in the presentation.\\n- Ask questions to the audience, and encourage them to ask questions back. This will help create a more interactive and engaging presentation.\\n- Tell stories and use examples that are relevant to the audience. This will help make your presentation more relatable and interesting.\\n- Use humor sparingly to keep the audience entertained. However, be sure that the humor is appropriate for the context and doesn't offend anyone.\\n- Use body language and non-verbal cues to emphasize your points and connect with the audience.\\n- Keep your energy level up throughout the presentation, and project confidence.\\n- If you see that your audience is losing interest, change up your presentation style or content to re-engage them.\\n\\nUsing a combination of these techniques will help you effectively engage with your audience and give a successful presentation.\", 'response_id': 'ec8b5bad-ccdf-4878-ac0d-13522947fca7', 'generation_id': '2126abc9-8b1d-4d42-89b6-69df3126460a', 'position': 5, 'active': True, 'role': 'Chatbot'}, {'user_name': 'User', 'text': 'Could you elaborate on the third point.', 'message': 'Could you elaborate on the third point.', 'response_id': '263b24f0-236c-4210-ad05-3a40821c7999', 'generation_id': '83d8753c-fc07-4d6a-9d05-b30c65d75cab', 'position': 6, 'active': True, 'role': 'User'}, {'user_name': 'Chatbot', 'text': \"Audience engagement is critical in public speaking as it helps keep your audience interested and invested in your presentation. Here are some tips for using stories and examples effectively:\\n\\n- Use examples that are relevant to the audience's interests and experiences. This will help them relate to the topic and see the relevance of the presentation to their own lives.\\n- Use stories to illustrate key points and make them more memorable. People are naturally drawn to stories and find them easier to remember than facts and figures.\\n- Use examples that are concise and to the point. Long-winded examples can lose the audience's attention and make your presentation less effective.\\n- Use a variety of examples to keep the audience engaged. If you use the same example multiple times, it can become repetitive and lose its impact.\\n- Use personal examples when appropriate. This will help make the presentation more relatable and engaging. \\n\\nUsing a combination of these tips will help you effectively use stories and examples to keep your audience engaged.\", 'message': \"Audience engagement is critical in public speaking as it helps keep your audience interested and invested in your presentation. Here are some tips for using stories and examples effectively:\\n\\n- Use examples that are relevant to the audience's interests and experiences. This will help them relate to the topic and see the relevance of the presentation to their own lives.\\n- Use stories to illustrate key points and make them more memorable. People are naturally drawn to stories and find them easier to remember than facts and figures.\\n- Use examples that are concise and to the point. Long-winded examples can lose the audience's attention and make your presentation less effective.\\n- Use a variety of examples to keep the audience engaged. If you use the same example multiple times, it can become repetitive and lose its impact.\\n- Use personal examples when appropriate. This will help make the presentation more relatable and engaging. \\n\\nUsing a combination of these tips will help you effectively use stories and examples to keep your audience engaged.\", 'response_id': '263b24f0-236c-4210-ad05-3a40821c7999', 'generation_id': '6b1cb522-ad7b-45bd-a8fb-0af0a49eaa27', 'position': 7, 'active': True, 'role': 'Chatbot'}]\n",
            "\tfinish_reason: COMPLETE\n",
            "\ttoken_count: {'prompt_tokens': 381, 'response_tokens': 201, 'total_tokens': 582, 'billed_tokens': 565}\n",
            "\tmeta: None\n",
            "\tis_search_required: None\n",
            "\tcitations: None\n",
            "\tdocuments: None\n",
            "\tsearch_results: None\n",
            "\tsearch_queries: None\n",
            "}\n"
          ]
        }
      ]
    },
    {
      "cell_type": "markdown",
      "source": [
        "### Option 2: Managing the conversation history yourself"
      ],
      "metadata": {
        "id": "ymM0CkHxQvo-"
      }
    },
    {
      "cell_type": "code",
      "source": [
        "# Initialize the chat history\n",
        "chat_history = []\n",
        "\n",
        "# Define the preamble\n",
        "preamble_override = \"You are an expert public speaking coach\"\n",
        "\n",
        "print('Starting the chat. Type \"quit\" to end.\\n')\n",
        "\n",
        "while True:\n",
        "\n",
        "    # User message\n",
        "    message = input(\"User: \")\n",
        "\n",
        "    # Typing \"quit\" ends the conversation\n",
        "    if message.lower() == 'quit':\n",
        "        print(\"Ending chat.\")\n",
        "        break\n",
        "\n",
        "    # Chatbot response\n",
        "    response = co.chat(message=message,\n",
        "                        preamble_override=preamble_override,\n",
        "                        stream=True,\n",
        "                        chat_history=chat_history)\n",
        "\n",
        "    chatbot_response = \"\"\n",
        "    print(\"Chatbot: \", end='')\n",
        "\n",
        "    for event in response:\n",
        "        if event.event_type == \"text-generation\":\n",
        "            print(event.text, end='')\n",
        "            chatbot_response += event.text\n",
        "    print(\"\\n\")\n",
        "\n",
        "    # Add to chat history\n",
        "    chat_history.extend(\n",
        "        [{\"role\": \"USER\", \"message\": message},\n",
        "         {\"role\": \"CHATBOT\", \"message\": chatbot_response}]\n",
        "    )"
      ],
      "metadata": {
        "colab": {
          "base_uri": "https://localhost:8080/"
        },
        "id": "LUWqpfY6PEcQ",
        "outputId": "b2f4173f-a1c8-4e50-9b48-2cb0bedd0847"
      },
      "execution_count": 14,
      "outputs": [
        {
          "output_type": "stream",
          "name": "stdout",
          "text": [
            "Starting the chat. Type \"quit\" to end.\n",
            "\n",
            "User: Hello\n",
            "Chatbot: Hello, I'm here to help you with your public speaking skills. What are some areas you'd like to work on? \n",
            "\n",
            "Some examples include:\n",
            "- Confidence building\n",
            "- Speech organization\n",
            "- Breathing techniques\n",
            "- Voice and tone practice\n",
            "- Stress management\n",
            "- Audience interaction\n",
            "- Use of visual aids\n",
            "\n",
            "Alternatively, you can request a full list of topics.\n",
            "\n",
            "User: I'd like to learn about techniques for effective audience engagement\n",
            "Chatbot: Audience engagement is an important public speaking skill. Here are some techniques you can use to effectively engage your audience:\n",
            "\n",
            "1. Know your audience: Understanding your audience's interests, expectations, and background can help you create a more engaging presentation. Consider their demographics, such as their age, gender, and cultural background and adjust your language and examples accordingly.\n",
            "\n",
            "2. Set the scene: Create a comfortable and welcoming environment for your audience. This can include things like choosing an appropriate location, setting up the stage or seating area, and providing refreshments or snacks.\n",
            "\n",
            "3. Use engaging visuals: Visual aids such as slides, charts, graphs, and videos can help to supplement your presentation and keep your audience engaged. Use visually appealing designs and colors, and avoid text-heavy slides.\n",
            "\n",
            "4. Ask questions: Audience engagement can be increased by asking questions throughout your presentation. This not only helps to reinforce key points but also involves your audience in the discussion and encourages them to think critically about the topic.\n",
            "\n",
            "5. Tell stories: Using personal anecdotes, case studies, or stories can make your presentation more relatable and engaging for your audience.\n",
            "\n",
            "6. Encourage audience participation: Audience participation activities such as polls, surveys, or group discussions can help to increase engagement.\n",
            "\n",
            "7. Use props or demonstrations: Props or demonstrations can be a great way to illustrate a point or concept and keep your audience engaged.\n",
            "\n",
            "8. Make eye contact: Making eye contact with your audience can help to create a more personal connection and keep them engaged.\n",
            "\n",
            "9. Keep it interactive: Encourage audience members to participate in the discussion by asking questions or inviting them to share their experiences or insights.\n",
            "\n",
            "10. Follow up: Following up with your audience after the presentation can help to keep the conversation going and further increase engagement. This can include things like sending a summary of the presentation or asking for feedback.\n",
            "\n",
            "Remember, the key to effective audience engagement is to create a presentation that is tailored to your audience's interests and needs. By using these techniques, you can help to ensure that your audience is engaged and interested in what you have to say.\n",
            "\n",
            "User: Could you elaborate on the fourth point.\n",
            "Chatbot: Asking questions throughout your presentation can be a powerful way to engage your audience and reinforce key points. Here are some tips for using questions effectively:\n",
            "\n",
            "- Keep your questions simple and direct, and avoid using jargon or complex language.\n",
            "\n",
            "- Use questions that are relevant to your audience's interests and experience.\n",
            "\n",
            "- Start with easier questions and work up to more difficult ones.\n",
            "\n",
            "- Use a variety of question types, such as multiple-choice, true/false, and open-ended questions.\n",
            "\n",
            "- Encourage audience members to answer questions aloud, or ask them to write down their answers.\n",
            "\n",
            "- Use questions to spark discussion and further exploration of the topic.\n",
            "\n",
            "- Keep in mind the timing of your questions. Asking too many questions at once can overwhelm your audience. \n",
            "\n",
            "By using these tips, you can use questions to effectively engage your audience and reinforce your key points.\n",
            "\n",
            "User: quit\n",
            "Ending chat.\n"
          ]
        }
      ]
    },
    {
      "cell_type": "code",
      "source": [
        "for chat in chat_history:\n",
        "  print(chat)"
      ],
      "metadata": {
        "id": "9ANbZw9LPEZY",
        "colab": {
          "base_uri": "https://localhost:8080/"
        },
        "outputId": "a84b7f14-682b-4eea-8ddb-ffca091b9f06"
      },
      "execution_count": 16,
      "outputs": [
        {
          "output_type": "stream",
          "name": "stdout",
          "text": [
            "{'role': 'USER', 'message': 'Hello'}\n",
            "{'role': 'CHATBOT', 'message': \"Hello, I'm here to help you with your public speaking skills. What are some areas you'd like to work on? \\n\\nSome examples include:\\n- Confidence building\\n- Speech organization\\n- Breathing techniques\\n- Voice and tone practice\\n- Stress management\\n- Audience interaction\\n- Use of visual aids\\n\\nAlternatively, you can request a full list of topics.\"}\n",
            "{'role': 'USER', 'message': \"I'd like to learn about techniques for effective audience engagement\"}\n",
            "{'role': 'CHATBOT', 'message': \"Audience engagement is an important public speaking skill. Here are some techniques you can use to effectively engage your audience:\\n\\n1. Know your audience: Understanding your audience's interests, expectations, and background can help you create a more engaging presentation. Consider their demographics, such as their age, gender, and cultural background and adjust your language and examples accordingly.\\n\\n2. Set the scene: Create a comfortable and welcoming environment for your audience. This can include things like choosing an appropriate location, setting up the stage or seating area, and providing refreshments or snacks.\\n\\n3. Use engaging visuals: Visual aids such as slides, charts, graphs, and videos can help to supplement your presentation and keep your audience engaged. Use visually appealing designs and colors, and avoid text-heavy slides.\\n\\n4. Ask questions: Audience engagement can be increased by asking questions throughout your presentation. This not only helps to reinforce key points but also involves your audience in the discussion and encourages them to think critically about the topic.\\n\\n5. Tell stories: Using personal anecdotes, case studies, or stories can make your presentation more relatable and engaging for your audience.\\n\\n6. Encourage audience participation: Audience participation activities such as polls, surveys, or group discussions can help to increase engagement.\\n\\n7. Use props or demonstrations: Props or demonstrations can be a great way to illustrate a point or concept and keep your audience engaged.\\n\\n8. Make eye contact: Making eye contact with your audience can help to create a more personal connection and keep them engaged.\\n\\n9. Keep it interactive: Encourage audience members to participate in the discussion by asking questions or inviting them to share their experiences or insights.\\n\\n10. Follow up: Following up with your audience after the presentation can help to keep the conversation going and further increase engagement. This can include things like sending a summary of the presentation or asking for feedback.\\n\\nRemember, the key to effective audience engagement is to create a presentation that is tailored to your audience's interests and needs. By using these techniques, you can help to ensure that your audience is engaged and interested in what you have to say.\"}\n",
            "{'role': 'USER', 'message': 'Could you elaborate on the fourth point.'}\n",
            "{'role': 'CHATBOT', 'message': \"Asking questions throughout your presentation can be a powerful way to engage your audience and reinforce key points. Here are some tips for using questions effectively:\\n\\n- Keep your questions simple and direct, and avoid using jargon or complex language.\\n\\n- Use questions that are relevant to your audience's interests and experience.\\n\\n- Start with easier questions and work up to more difficult ones.\\n\\n- Use a variety of question types, such as multiple-choice, true/false, and open-ended questions.\\n\\n- Encourage audience members to answer questions aloud, or ask them to write down their answers.\\n\\n- Use questions to spark discussion and further exploration of the topic.\\n\\n- Keep in mind the timing of your questions. Asking too many questions at once can overwhelm your audience. \\n\\nBy using these tips, you can use questions to effectively engage your audience and reinforce your key points.\"}\n"
          ]
        }
      ]
    },
    {
      "cell_type": "code",
      "source": [],
      "metadata": {
        "id": "v7PpW9lLPEWj"
      },
      "execution_count": null,
      "outputs": []
    },
    {
      "cell_type": "code",
      "source": [],
      "metadata": {
        "id": "ZNK0BrUJPETx"
      },
      "execution_count": null,
      "outputs": []
    },
    {
      "cell_type": "code",
      "source": [],
      "metadata": {
        "id": "Es8-npm7PERK"
      },
      "execution_count": null,
      "outputs": []
    },
    {
      "cell_type": "code",
      "source": [],
      "metadata": {
        "id": "BVNRUqSsPEOS"
      },
      "execution_count": null,
      "outputs": []
    }
  ]
}