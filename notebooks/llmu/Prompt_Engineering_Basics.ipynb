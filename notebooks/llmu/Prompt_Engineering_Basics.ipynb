{
 "cells": [
  {
   "cell_type": "markdown",
   "id": "ca57710c",
   "metadata": {},
   "source": [
    "<a target=\"_blank\" href=\"https://colab.research.google.com/github/cohere-ai/notebooks/blob/main/notebooks/llmu/Prompt_Engineering_Basics.ipynb\">\n",
    "  <img src=\"https://colab.research.google.com/assets/colab-badge.svg\" alt=\"Open In Colab\"/>\n",
    "</a>"
   ]
  },
  {
   "cell_type": "markdown",
   "id": "4fac7165",
   "metadata": {},
   "source": [
    "# Prompt Engineering Basics\n",
    "\n",
    "Prompting is at the heart of working with LLMs. The prompt provides context for the text that we want the model to generate. The prompts we create can be anything from simple instructions to more complex pieces of text, and they are used to encourage the model to produce a specific type of output.\n",
    "\n",
    "Coming up with a good prompt is a bit of both science and art. On the one hand, we know the broad patterns that enable us to construct a prompt that will generate the output that we want. But on the other hand, there is so much room for creativity and imagination.\n",
    "\n",
    "In this notebook, you’ll learn how to craft effective prompts to obtain desirable outputs for various tasks.\n",
    "\n",
    "*Read the accompanying [blog post here](https://docs.cohere.com/docs/prompt-engineering-basics).*"
   ]
  },
  {
   "cell_type": "markdown",
   "id": "834049c9",
   "metadata": {},
   "source": [
    "## Overview"
   ]
  },
  {
   "cell_type": "markdown",
   "id": "1d7ec57f",
   "metadata": {},
   "source": [
    "The notebook is broken into 5 sections:\n",
    "- **How to Write a Basic Prompt** - Give the model commands with imperative verbs.\n",
    "- **How to Layer Additional Instructions** - Add additional instructions to be more precise about the desired about.\n",
    "- **How to Add Context to a Prompt** - Supply additional information as context to help ground the model's output.\n",
    "- **How to Extract Information** - Retrieve specific information from a larger body of text.\n",
    "- **How to Rewrite Text into Another Format** - Rewrite text (a passage of text) into another format (Q&A list)."
   ]
  },
  {
   "cell_type": "markdown",
   "id": "f0b8bf51",
   "metadata": {},
   "source": [
    "## Setup"
   ]
  },
  {
   "cell_type": "markdown",
   "id": "319754f5",
   "metadata": {},
   "source": [
    "We'll start by installing the tools we'll need and then importing them."
   ]
  },
  {
   "cell_type": "code",
   "execution_count": 1,
   "id": "a03e9387",
   "metadata": {},
   "outputs": [],
   "source": [
    "! pip install cohere -q"
   ]
  },
  {
   "cell_type": "code",
   "execution_count": 2,
   "id": "9e0895df",
   "metadata": {},
   "outputs": [],
   "source": [
    "#@title Enable text wrapping in Google Colab\n",
    "\n",
    "from IPython.display import HTML, display\n",
    "\n",
    "def set_css():\n",
    "  display(HTML('''\n",
    "  <style>\n",
    "    pre {\n",
    "        white-space: pre-wrap;\n",
    "    }\n",
    "  </style>\n",
    "  '''))\n",
    "get_ipython().events.register('pre_run_cell', set_css)"
   ]
  },
  {
   "cell_type": "markdown",
   "id": "9f1a5060",
   "metadata": {},
   "source": [
    "Fill in your Cohere API key in the next cell. To do this, begin by [signing up to Cohere](https://os.cohere.ai/) (for free!) if you haven't yet. Then get your API key [here](https://dashboard.cohere.com/api-keys)."
   ]
  },
  {
   "cell_type": "code",
   "execution_count": 3,
   "id": "c465a580",
   "metadata": {},
   "outputs": [
    {
     "data": {
      "text/html": [
       "\n",
       "  <style>\n",
       "    pre {\n",
       "        white-space: pre-wrap;\n",
       "    }\n",
       "  </style>\n",
       "  "
      ],
      "text/plain": [
       "<IPython.core.display.HTML object>"
      ]
     },
     "metadata": {},
     "output_type": "display_data"
    }
   ],
   "source": [
    "import cohere\n",
    "\n",
    "# Paste your API key here. Remember to not share publicly\n",
    "co = cohere.Client(\"COHERE_API_KEY\") # Insert your Cohere API key"
   ]
  },
  {
   "cell_type": "markdown",
   "id": "9f0f9a08",
   "metadata": {},
   "source": [
    "Let's also define a function `generate_text()` to take a user message, call the Chat endpoint, and stream the response."
   ]
  },
  {
   "cell_type": "code",
   "execution_count": 10,
   "id": "0d4130e9",
   "metadata": {},
   "outputs": [
    {
     "data": {
      "text/html": [
       "\n",
       "  <style>\n",
       "    pre {\n",
       "        white-space: pre-wrap;\n",
       "    }\n",
       "  </style>\n",
       "  "
      ],
      "text/plain": [
       "<IPython.core.display.HTML object>"
      ]
     },
     "metadata": {},
     "output_type": "display_data"
    }
   ],
   "source": [
    "def generate_text(message):\n",
    "    stream = co.chat_stream(message=message, model=\"command-r-plus\", preamble=\"\")\n",
    "    for event in stream:\n",
    "        if event.event_type == \"text-generation\":\n",
    "            print(event.text, end='')"
   ]
  },
  {
   "cell_type": "markdown",
   "id": "f4d4b1c1",
   "metadata": {},
   "source": [
    "## How to Write a Basic Prompt"
   ]
  },
  {
   "cell_type": "markdown",
   "id": "057daf26",
   "metadata": {},
   "source": [
    "The best way to design prompts for a model like [Command](https://cohere.com/models/command) is to give a command or an instruction. One way to do this is by using imperative verbs, for example: generate, write, list, provide, and other variations.\n",
    "\n",
    "For instance, let’s say that we are creating the product description copy for a wireless earbuds product. "
   ]
  },
  {
   "cell_type": "code",
   "execution_count": 11,
   "id": "3802a5b5",
   "metadata": {},
   "outputs": [
    {
     "data": {
      "text/html": [
       "\n",
       "  <style>\n",
       "    pre {\n",
       "        white-space: pre-wrap;\n",
       "    }\n",
       "  </style>\n",
       "  "
      ],
      "text/plain": [
       "<IPython.core.display.HTML object>"
      ]
     },
     "metadata": {},
     "output_type": "display_data"
    },
    {
     "name": "stdout",
     "output_type": "stream",
     "text": [
      "Wireless Earbuds:\n",
      "\n",
      "Experience true wireless freedom with our latest earbuds. Immerse yourself in your favorite tunes or take calls with crystal-clear clarity, all without the hassle of tangled cords. Our earbuds offer a secure and comfortable fit, ensuring they stay put during any activity. With a sleek and compact design, these earbuds are the perfect companion for your on-the-go lifestyle."
     ]
    }
   ],
   "source": [
    "generate_text(\"Generate a concise product description for the product: wireless earbuds.\")"
   ]
  },
  {
   "cell_type": "markdown",
   "id": "801c9079",
   "metadata": {},
   "source": [
    "## How to Layer Additional Instructions"
   ]
  },
  {
   "cell_type": "markdown",
   "id": "af0ee01b",
   "metadata": {},
   "source": [
    "To be more specific about what we want the output to look like, we need only layer additional instructions in the prompt."
   ]
  },
  {
   "cell_type": "code",
   "execution_count": 12,
   "id": "a542f651",
   "metadata": {},
   "outputs": [
    {
     "data": {
      "text/html": [
       "\n",
       "  <style>\n",
       "    pre {\n",
       "        white-space: pre-wrap;\n",
       "    }\n",
       "  </style>\n",
       "  "
      ],
      "text/plain": [
       "<IPython.core.display.HTML object>"
      ]
     },
     "metadata": {},
     "output_type": "display_data"
    },
    {
     "name": "stdout",
     "output_type": "stream",
     "text": [
      "Hook: Experience True Wireless Freedom with Superior Sound\n",
      "\n",
      "Solution: Introducing our cutting-edge wireless earbuds, designed to revolutionize your audio experience.\n",
      "\n",
      "Features and Benefits:\n",
      "- Immersive Audio: Enjoy superior sound quality with deep bass and crystal-clear highs, ensuring an immersive listening experience.\n",
      "- True Wireless Technology: Free yourself from tangles and restrictions with a stable Bluetooth connection, providing seamless connectivity and true wireless freedom.\n",
      "- Comfortable Design: The ergonomic design ensures a secure and comfortable fit, allowing you to enjoy your music without distraction.\n",
      "- Extended Battery Life: With a long-lasting battery, you can listen for hours on end without worrying about recharging.\n",
      "\n",
      "Call to Action: Upgrade your audio experience with our wireless earbuds. Immerse yourself in superior sound, enjoy the freedom of true wireless technology, and benefit from the comfort and convenience they offer."
     ]
    }
   ],
   "source": [
    "generate_text(\"\"\"\n",
    "    Generate a concise product description for the product: wireless earbuds. \n",
    "    Use the following format: Hook, Solution, Features and Benefits, Call to Action.\n",
    "    \"\"\")"
   ]
  },
  {
   "cell_type": "markdown",
   "id": "42a9a6ae",
   "metadata": {},
   "source": [
    "## How to Add Context to a Prompt"
   ]
  },
  {
   "cell_type": "markdown",
   "id": "61a9c3fe",
   "metadata": {},
   "source": [
    "The prompt can also be constructed as a combination of an instruction and some context. In the next example, the context is an email."
   ]
  },
  {
   "cell_type": "code",
   "execution_count": 13,
   "id": "1b5278a7",
   "metadata": {},
   "outputs": [
    {
     "data": {
      "text/html": [
       "\n",
       "  <style>\n",
       "    pre {\n",
       "        white-space: pre-wrap;\n",
       "    }\n",
       "  </style>\n",
       "  "
      ],
      "text/plain": [
       "<IPython.core.display.HTML object>"
      ]
     },
     "metadata": {},
     "output_type": "display_data"
    },
    {
     "name": "stdout",
     "output_type": "stream",
     "text": [
      "The email expresses gratitude and appreciation to the team members for their hard work, dedication, and contributions that led to the success of the recent community meetup event."
     ]
    }
   ],
   "source": [
    "generate_text(\"\"\"\n",
    "    Summarize this email in one sentence.\n",
    "    Dear [Team Members],\n",
    "    I am writing to thank you for your hard work and dedication in organizing our recent community meetup. The event was a great success and it would not have been possible without your efforts.\n",
    "    I am especially grateful for the time and energy you have invested in making this event a reality. Your commitment to ensuring that everything ran smoothly and that our guests had a great time is greatly appreciated.\n",
    "    I am also thankful for the support and guidance you have provided to me throughout the planning process. Your insights and ideas have been invaluable in ensuring that the event was a success.\n",
    "    I am confident that our community will benefit greatly from this event and I am excited to see the positive impact it will have.\n",
    "    Thank you again for your hard work and dedication. I am looking forward to working with you on future events.\n",
    "    Sincerely,\n",
    "    [Your Name]\n",
    "    \"\"\")"
   ]
  },
  {
   "cell_type": "markdown",
   "id": "70ababe9",
   "metadata": {},
   "source": [
    "This instruction–context prompt format is extremely useful as it means we can supply additional information as context to help ground the model's output. One example is a question-answering system for a company's knowledge base. Given a question (the instruction), the model will only be able to provide accurate answers if provided with the knowledge base (the context)."
   ]
  },
  {
   "cell_type": "markdown",
   "id": "611b2e41",
   "metadata": {},
   "source": [
    "## How to Extract Information\n",
    "\n",
    "Let's move to another example—an extraction task, which involves retrieving specific information from a given larger body of text. \n",
    "\n",
    "Given context, which in this case is a description of a movie, we want the model to extract the movie title. "
   ]
  },
  {
   "cell_type": "code",
   "execution_count": 14,
   "id": "7a671108",
   "metadata": {},
   "outputs": [
    {
     "data": {
      "text/html": [
       "\n",
       "  <style>\n",
       "    pre {\n",
       "        white-space: pre-wrap;\n",
       "    }\n",
       "  </style>\n",
       "  "
      ],
      "text/plain": [
       "<IPython.core.display.HTML object>"
      ]
     },
     "metadata": {},
     "output_type": "display_data"
    },
    {
     "name": "stdout",
     "output_type": "stream",
     "text": [
      "Deadpool 2"
     ]
    }
   ],
   "source": [
    "generate_text(\"\"\"\n",
    "    Extract the movie title from the text below.\n",
    "    Deadpool 2 | Official HD Deadpool's \"Wet on Wet\" Teaser | 2018\n",
    "    \"\"\")"
   ]
  },
  {
   "cell_type": "markdown",
   "id": "a70f8e69",
   "metadata": {},
   "source": [
    "## How to Rewrite Text into Another Format"
   ]
  },
  {
   "cell_type": "markdown",
   "id": "8ab2d13a",
   "metadata": {},
   "source": [
    "The model is also effective at tasks that involve taking a piece of text and rewriting it into another format that we need.\n",
    "\n",
    "In the next example, we have a one-line instruction followed by the context, which in this case is a blog excerpt. The instruction is to generate a list of frequently asked questions (FAQ) based on the passage, which involves a mixture of several tasks such as extraction and rewriting. "
   ]
  },
  {
   "cell_type": "code",
   "execution_count": 15,
   "id": "83f9631e",
   "metadata": {},
   "outputs": [
    {
     "data": {
      "text/html": [
       "\n",
       "  <style>\n",
       "    pre {\n",
       "        white-space: pre-wrap;\n",
       "    }\n",
       "  </style>\n",
       "  "
      ],
      "text/plain": [
       "<IPython.core.display.HTML object>"
      ]
     },
     "metadata": {},
     "output_type": "display_data"
    },
    {
     "name": "stdout",
     "output_type": "stream",
     "text": [
      "Here is a list of potential FAQs based on the provided text: \n",
      "\n",
      "**Q: What does the Cohere Platform offer to developers and organizations?**\n",
      "**A:** The Cohere Platform provides an API that gives developers and organizations access to cutting-edge Large Language Models (LLMs) without requiring expertise in machine learning. \n",
      "\n",
      "**Q: What are the key advantages of using the Cohere Platform?**\n",
      "**A:** The platform handles all the complex tasks associated with LLMs, including data curation, model development, distributed training, and model serving. This allows users to focus on creating value in applied areas. \n",
      "\n",
      "**Q: What are the two main language processing capabilities provided by the Cohere Platform?**\n",
      "**A:** The platform offers text generation and text embedding capabilities. Text generation involves providing a prompt and receiving a completion, such as asking for a haiku. Text embedding returns a list of numbers representing the semantic meaning of the input text, useful for sentiment analysis and other applications. \n",
      "\n",
      "**Q: What is an example of text generation using the Cohere Platform?**\n",
      "**A:** One example is prompting the model to write a haiku, and the model will generate an original haiku as a response. \n",
      "\n",
      "**Q: How does text embedding work, and what is its utility?**\n",
      "**A:** Text embedding translates a piece of text into a list of numbers that captures its semantic meaning. This is valuable for tasks that require understanding the sentiment or underlying meaning of a text passage, enabling quantitative analysis. \n",
      "\n",
      "These FAQs address some of the key points a user might inquire about regarding the Cohere Platform and its capabilities."
     ]
    }
   ],
   "source": [
    "generate_text(\"\"\"\n",
    "    Given the following text, write down a list of potential frequently asked questions (FAQ), together with the answers.\n",
    "    The Cohere Platform provides an API for developers and organizations to access cutting-edge LLMs without needing machine learning know-how. \n",
    "    The platform handles all the complexities of curating massive amounts of text data, model development, distributed training, model serving, and more. \n",
    "    This means that developers can focus on creating value on the applied side rather than spending time and effort on the capability-building side.\n",
    "    \n",
    "    There are two key types of language processing capabilities that the Cohere Platform provides — text generation and text embedding — and each is served by a different type of model.\n",
    "    \n",
    "    With text generation, we enter a piece of text, or prompt, and get back a stream of text as a completion to the prompt. \n",
    "    One example is asking the model to write a haiku (the prompt) and getting an originally written haiku in return (the completion).\n",
    "    \n",
    "    With text embedding, we enter a piece of text and get back a list of numbers that represents its semantic meaning (we’ll see what “semantic” means in a section below). \n",
    "    This is useful for use cases that involve “measuring” what a passage of text represents, for example, in analyzing its sentiment.\n",
    "    \"\"\")"
   ]
  }
 ],
 "metadata": {
  "kernelspec": {
   "display_name": "Python 3 (ipykernel)",
   "language": "python",
   "name": "python3"
  },
  "language_info": {
   "codemirror_mode": {
    "name": "ipython",
    "version": 3
   },
   "file_extension": ".py",
   "mimetype": "text/x-python",
   "name": "python",
   "nbconvert_exporter": "python",
   "pygments_lexer": "ipython3",
   "version": "3.11.5"
  }
 },
 "nbformat": 4,
 "nbformat_minor": 5
}
