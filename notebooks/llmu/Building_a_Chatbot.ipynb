{
 "cells": [
  {
   "cell_type": "markdown",
   "metadata": {},
   "source": [
    "<a target=\"_blank\" href=\"https://colab.research.google.com/github/cohere-ai/notebooks/blob/main/notebooks/llmu/Building_a_Chatbot.ipynb\">\n",
    "  <img src=\"https://colab.research.google.com/assets/colab-badge.svg\" alt=\"Open In Colab\"/>\n",
    "</a>"
   ]
  },
  {
   "cell_type": "markdown",
   "metadata": {
    "id": "OnKdawu1MnkN"
   },
   "source": [
    "# Building a Chatbot"
   ]
  },
  {
   "cell_type": "markdown",
   "metadata": {
    "id": "CnKxQnzDMczK"
   },
   "source": [
    "In this notebook, you’ll build a chatbot using Cohere’s Chat endpoint. By the end of this notebook, you’ll be able to build a simple chatbot that can respond to user messages and maintain the context of the conversation.\n",
    "\n",
    "*Read the accompanying [blog post here](https://docs.cohere.com/docs/building-a-chatbot).*"
   ]
  },
  {
   "cell_type": "markdown",
   "metadata": {},
   "source": [
    "## Overview"
   ]
  },
  {
   "cell_type": "markdown",
   "metadata": {},
   "source": [
    "We'll do the following steps:\n",
    "- **Step 1: Quickstart** - Learn the quickest and easiest way to call the Chat endpoint.\n",
    "- **Step 2: Adding a preamble** - Steer a chatbot's response toward certain styles, personas, or other characteristics.\n",
    "- **Step 3: Streaming the response** - Display a chatbot's response incrementally as it is generated, as opposed to waiting for the entire response to be completed.\n",
    "- **Step 4: Building the Chat History** - Explore two different options for getting the chatbot to maintain the context of the conversation."
   ]
  },
  {
   "cell_type": "markdown",
   "metadata": {},
   "source": [
    "## Setup\n",
    "\n",
    "We'll start by installing the tools we'll need and then importing them."
   ]
  },
  {
   "cell_type": "code",
   "execution_count": 1,
   "metadata": {},
   "outputs": [],
   "source": [
    "! pip install cohere -q"
   ]
  },
  {
   "cell_type": "code",
   "execution_count": 2,
   "metadata": {},
   "outputs": [],
   "source": [
    "#@title Enable text wrapping in Google Colab\n",
    "\n",
    "from IPython.display import HTML, display\n",
    "\n",
    "def set_css():\n",
    "  display(HTML('''\n",
    "  <style>\n",
    "    pre {\n",
    "        white-space: pre-wrap;\n",
    "    }\n",
    "  </style>\n",
    "  '''))\n",
    "get_ipython().events.register('pre_run_cell', set_css)"
   ]
  },
  {
   "cell_type": "code",
   "execution_count": 27,
   "metadata": {
    "id": "cDwP5nHwO0Ap"
   },
   "outputs": [
    {
     "data": {
      "text/html": [
       "\n",
       "  <style>\n",
       "    pre {\n",
       "        white-space: pre-wrap;\n",
       "    }\n",
       "  </style>\n",
       "  "
      ],
      "text/plain": [
       "<IPython.core.display.HTML object>"
      ]
     },
     "metadata": {},
     "output_type": "display_data"
    }
   ],
   "source": [
    "import uuid\n",
    "import cohere\n",
    "import json\n",
    "from cohere import ChatMessage"
   ]
  },
  {
   "cell_type": "markdown",
   "metadata": {},
   "source": [
    "Fill in your Cohere API key in the next cell. To do this, begin by [signing up to Cohere](https://os.cohere.ai/) (for free!) if you haven't yet. Then get your API key [here](https://dashboard.cohere.com/api-keys)."
   ]
  },
  {
   "cell_type": "code",
   "execution_count": 4,
   "metadata": {},
   "outputs": [
    {
     "data": {
      "text/html": [
       "\n",
       "  <style>\n",
       "    pre {\n",
       "        white-space: pre-wrap;\n",
       "    }\n",
       "  </style>\n",
       "  "
      ],
      "text/plain": [
       "<IPython.core.display.HTML object>"
      ]
     },
     "metadata": {},
     "output_type": "display_data"
    }
   ],
   "source": [
    "# Paste your API key here. Remember to not share publicly\n",
    "co = cohere.Client(\"COHERE_API_KEY\") "
   ]
  },
  {
   "cell_type": "markdown",
   "metadata": {
    "id": "P6YrR6WeO_O-"
   },
   "source": [
    "## Step 1: Quickstart\n",
    "\n",
    "The `message` parameter is the only required parameter for the Chat endpoint. \n",
    "\n",
    "We call the endpoint with `co.chat()`, and get the main content of the response from the `text` value."
   ]
  },
  {
   "cell_type": "code",
   "execution_count": 19,
   "metadata": {
    "colab": {
     "base_uri": "https://localhost:8080/"
    },
    "id": "Y0oUFu9hO23P",
    "outputId": "1504ef60-cccd-4a9b-f708-ea4f23404af7"
   },
   "outputs": [
    {
     "data": {
      "text/html": [
       "\n",
       "  <style>\n",
       "    pre {\n",
       "        white-space: pre-wrap;\n",
       "    }\n",
       "  </style>\n",
       "  "
      ],
      "text/plain": [
       "<IPython.core.display.HTML object>"
      ]
     },
     "metadata": {},
     "output_type": "display_data"
    },
    {
     "name": "stdout",
     "output_type": "stream",
     "text": [
      "Hello! How can I help you today?\n"
     ]
    }
   ],
   "source": [
    "response = co.chat(message=\"Hello\")\n",
    "print(response.text)"
   ]
  },
  {
   "cell_type": "markdown",
   "metadata": {
    "id": "TogMI9nkPCer"
   },
   "source": [
    "## Step 2: Adding a preamble\n",
    "\n",
    "A conversation starts with a system message, or a preamble, to help steer a chatbot’s response toward certain characteristics. In the quickstart example, we didn’t have to define a preamble because a default one was used. \n",
    "\n",
    "We can define our own preamble with the `preamble` parameter."
   ]
  },
  {
   "cell_type": "code",
   "execution_count": 22,
   "metadata": {
    "colab": {
     "base_uri": "https://localhost:8080/"
    },
    "id": "h_a4AhLbO-KF",
    "outputId": "93741452-f257-43e1-969f-344ae9ec91bd"
   },
   "outputs": [
    {
     "data": {
      "text/html": [
       "\n",
       "  <style>\n",
       "    pre {\n",
       "        white-space: pre-wrap;\n",
       "    }\n",
       "  </style>\n",
       "  "
      ],
      "text/plain": [
       "<IPython.core.display.HTML object>"
      ]
     },
     "metadata": {},
     "output_type": "display_data"
    },
    {
     "name": "stdout",
     "output_type": "stream",
     "text": [
      "I'm here to help you improve your public speaking skills and build your confidence. What would you like to work on today?\n"
     ]
    }
   ],
   "source": [
    "response = co.chat(message=\"Hello\",\n",
    "                   preamble=\"You are an expert public speaking coach. Don't use any greetings.\")\n",
    "print(response.text)"
   ]
  },
  {
   "cell_type": "markdown",
   "metadata": {
    "id": "vGZdMxt0PHhI"
   },
   "source": [
    "## Step 3: Streaming the response\n",
    "\n",
    "Our examples so far generate responses in a non-streamed manner. This means that the endpoint would return a response object only after the model has generated the text in full. \n",
    "\n",
    "The Chat endpoint also supports streamed responses, where you can display the text incrementally without having to wait for the full completion. To activate it, use `co.chat_stream()` instead of `co.chat()`.\n",
    "\n",
    "In streaming mode, the endpoint will generate a series of objects. To get the text content, we take objects whose `event_type` is `text-generation`."
   ]
  },
  {
   "cell_type": "code",
   "execution_count": 23,
   "metadata": {
    "colab": {
     "base_uri": "https://localhost:8080/"
    },
    "id": "UGgXs5AtPEme",
    "outputId": "33ca5c3d-4cc7-49cc-c1ed-22936f1eef3d"
   },
   "outputs": [
    {
     "data": {
      "text/html": [
       "\n",
       "  <style>\n",
       "    pre {\n",
       "        white-space: pre-wrap;\n",
       "    }\n",
       "  </style>\n",
       "  "
      ],
      "text/plain": [
       "<IPython.core.display.HTML object>"
      ]
     },
     "metadata": {},
     "output_type": "display_data"
    },
    {
     "name": "stdout",
     "output_type": "stream",
     "text": [
      "Sure! Here are some techniques for effective audience engagement:\n",
      "\n",
      "- **Make Eye Contact:** Look at different individuals in the audience and try to maintain eye contact for a few seconds at a time. This helps create a sense of connection and makes your speech more intimate.\n",
      "\n",
      "- **Use Gestures:** Incorporate natural hand gestures to emphasize your points and add variety to your delivery. This helps to keep your audience focused and engaged.\n",
      "\n",
      "- **Vary Your Tone and Volume:** Avoid monotony by varying your tone and volume. Emphasize important words or phrases, and use pauses for effect to highlight key points.\n",
      "\n",
      "- **Ask Questions:** Pose rhetorical questions to your audience to get them thinking about your topic. You can also directly ask for their opinions or input, which encourages active participation.\n",
      "\n",
      "- **Tell Stories:** Incorporate relevant anecdotes or personal stories to illustrate your points. Stories are memorable and help your audience connect with you on a deeper level.\n",
      "\n",
      "- **Use Humor:** Depending on the context, appropriate humor can lighten the mood, engage your audience, and make your speech more enjoyable.\n",
      "\n",
      "- **Incorporate Visual Aids:** Use slides, props, or demonstrations to enhance your presentation. Visual aids can help simplify complex concepts and keep your audience visually engaged.\n",
      "\n",
      "- **Encourage Interaction:** If appropriate, involve your audience in activities or exercises related to your topic. This could be a simple show of hands, a group discussion, or a more involved activity.\n",
      "\n",
      "- **Use Strategic Pauses:** Pauses give your audience a chance to absorb your message and emphasize important points. They also help you to take a breath and maintain a relaxed pace.\n",
      "\n",
      "- **Tailor Your Content:** Know your audience and tailor your content to their interests and expectations. Use examples and references that are relevant to them to increase engagement.\n",
      "\n",
      "- **Be Passionate and Energetic:** Your enthusiasm for your topic can be contagious. Let your passion show through your body language, tone of voice, and facial expressions.\n",
      "\n",
      "Remember, effective audience engagement is about creating a connection and making your speech memorable. By using these techniques, you can make your presentation dynamic and enjoyable for your audience."
     ]
    }
   ],
   "source": [
    "stream = co.chat_stream(message=\"Hello. I'd like to learn about techniques for effective audience engagement\",\n",
    "                        preamble=\"You are an expert public speaking coach\")\n",
    "\n",
    "for event in stream:\n",
    "    if event.event_type == \"text-generation\":\n",
    "        print(event.text, end='')"
   ]
  },
  {
   "cell_type": "markdown",
   "metadata": {
    "id": "9Jd3fjC5PPI5"
   },
   "source": [
    "## Step 4: Building the Chat history"
   ]
  },
  {
   "cell_type": "markdown",
   "metadata": {},
   "source": [
    "At the core of a conversation is a multi-turn dialog between the user and the chatbot. This requires the chatbot to have a “memory” of all the previous turns to maintain the state of the conversation."
   ]
  },
  {
   "cell_type": "markdown",
   "metadata": {
    "id": "PVLLrXgZPTCN"
   },
   "source": [
    "### Option 1: Using the conversation history persistence feature\n",
    "\n",
    "The Chat endpoint supports state management by persisting the conversation history. As a conversation progresses, the endpoint continuously updates the conversation history. This means developers don’t have to deal with the complexity and inconvenience of managing conversation history in their application.\n",
    "\n",
    "To use this feature, use the `conversation_id` parameter, which is a unique string you assign to a conversation. We'll use the `uuid` library to do this.\n",
    "\n",
    "Putting everything together, let’s now build a simple chat interface that takes in a user message, generates the chatbot response, automatically updates the conversation history, and repeats these steps until the user quits the conversation. \n",
    "\n",
    "As described before, in streaming mode, the Chat endpoint generates a series of objects. To get the conversation history, we take the object with `event_type` of `\"stream-end\"` and save it as a new variable `chat_history`."
   ]
  },
  {
   "cell_type": "code",
   "execution_count": 34,
   "metadata": {
    "colab": {
     "base_uri": "https://localhost:8080/"
    },
    "id": "3J1j2km_PEhy",
    "outputId": "381b17da-9902-44dc-de2a-6893c5b792c3"
   },
   "outputs": [
    {
     "data": {
      "text/html": [
       "\n",
       "  <style>\n",
       "    pre {\n",
       "        white-space: pre-wrap;\n",
       "    }\n",
       "  </style>\n",
       "  "
      ],
      "text/plain": [
       "<IPython.core.display.HTML object>"
      ]
     },
     "metadata": {},
     "output_type": "display_data"
    },
    {
     "name": "stdout",
     "output_type": "stream",
     "text": [
      "Starting the chat. Type \"quit\" to end.\n",
      "\n",
      "User: Hello\n",
      "Chatbot: Hello! How can I help you today?\n",
      "----------------------------------------------------------------------------------------------------\n",
      "\n",
      "User: I'd like to learn about techniques for effective audience engagement\n",
      "Chatbot: Sure! Here are some techniques for effective audience engagement:\n",
      "\n",
      "- Make eye contact with your audience and use hand gestures to emphasize your points.\n",
      "- Use a clear and concise language that your audience can easily understand.\n",
      "- Vary your tone and pace to keep your audience interested.\n",
      "- Use visual aids such as slides, props, or demonstrations to help illustrate your points.\n",
      "- Tell stories or anecdotes to help your audience connect with your message on a personal level.\n",
      "- Ask questions to involve your audience and encourage them to think about your topic.\n",
      "- Use humor appropriately to lighten the mood and engage your audience.\n",
      "- Be enthusiastic and passionate about your topic to show your audience that you care about what you're speaking about.\n",
      "- Practice your speech or presentation beforehand to ensure that you are comfortable and confident when delivering it.\n",
      "- Pay attention to your audience's body language and adjust your delivery accordingly.\n",
      "\n",
      "Remember, effective audience engagement is about creating a connection with your audience and making your message memorable and meaningful for them.\n",
      "----------------------------------------------------------------------------------------------------\n",
      "\n",
      "User: Could you elaborate on the third point.\n",
      "Chatbot: Certainly! Varying your tone and pace is an important technique to keep your audience engaged. Here are some ways to do this:\n",
      "\n",
      "- Change your tone of voice to emphasize important points or to reflect the emotion of what you're saying. For example, you might raise your voice to show excitement or lower it to show seriousness.\n",
      "- Speed up your pace to create a sense of urgency or excitement, and slow down to emphasize important points or to allow your audience to absorb complex information.\n",
      "- Use pauses to give your audience time to reflect on what you've just said and to create a sense of anticipation for what's coming next.\n",
      "- Try to avoid monotony by varying your intonation and volume. This will help to keep your audience interested and engaged.\n",
      "\n",
      "By varying your tone and pace, you can add interest and emphasis to your speech, and help your audience to stay focused and engaged.\n",
      "----------------------------------------------------------------------------------------------------\n",
      "\n",
      "User: quit\n",
      "Ending chat.\n"
     ]
    }
   ],
   "source": [
    "# Create a conversation ID\n",
    "conversation_id = str(uuid.uuid4())\n",
    "\n",
    "# Define the preamble\n",
    "preamble = \"You are an expert public speaking coach\"\n",
    "\n",
    "print('Starting the chat. Type \"quit\" to end.\\n')\n",
    "\n",
    "while True:\n",
    "\n",
    "    # User message\n",
    "    message = input(\"User: \")\n",
    "\n",
    "    # Typing \"quit\" ends the conversation\n",
    "    if message.lower() == 'quit':\n",
    "        print(\"Ending chat.\")\n",
    "        break\n",
    "\n",
    "    # Chatbot response\n",
    "    stream = co.chat_stream(message=message,\n",
    "                            preamble=preamble,\n",
    "                            conversation_id=conversation_id)\n",
    "\n",
    "    print(\"Chatbot: \", end='')\n",
    "\n",
    "    for event in stream:\n",
    "        if event.event_type == \"text-generation\":\n",
    "            print(event.text, end='')\n",
    "        if event.event_type == \"stream-end\":\n",
    "            chat_history = event.response.chat_history\n",
    "\n",
    "    print(f\"\\n{'-'*100}\\n\")"
   ]
  },
  {
   "cell_type": "markdown",
   "metadata": {},
   "source": [
    "Next, we print the full conversation history."
   ]
  },
  {
   "cell_type": "code",
   "execution_count": 35,
   "metadata": {},
   "outputs": [
    {
     "data": {
      "text/html": [
       "\n",
       "  <style>\n",
       "    pre {\n",
       "        white-space: pre-wrap;\n",
       "    }\n",
       "  </style>\n",
       "  "
      ],
      "text/plain": [
       "<IPython.core.display.HTML object>"
      ]
     },
     "metadata": {},
     "output_type": "display_data"
    },
    {
     "name": "stdout",
     "output_type": "stream",
     "text": [
      "role='USER' message='Hello' generation_id='ab9f458a-d4c9-4fb5-917d-a9ec4c2fdaad' response_id='c023b477-00dc-4444-b725-d1b02af356c0'\n",
      "role='CHATBOT' message='Hello! How can I help you today?' generation_id='a87b88b0-596b-4c63-a297-5213cf0da507' response_id='c023b477-00dc-4444-b725-d1b02af356c0'\n",
      "role='USER' message=\"I'd like to learn about techniques for effective audience engagement\" generation_id='437b1b3e-b558-4283-b35a-4525ef3a28d4' response_id='e75e7393-4b13-48fc-9611-bd33740ffa21'\n",
      "role='CHATBOT' message=\"Sure! Here are some techniques for effective audience engagement:\\n\\n- Make eye contact with your audience and use hand gestures to emphasize your points.\\n- Use a clear and concise language that your audience can easily understand.\\n- Vary your tone and pace to keep your audience interested.\\n- Use visual aids such as slides, props, or demonstrations to help illustrate your points.\\n- Tell stories or anecdotes to help your audience connect with your message on a personal level.\\n- Ask questions to involve your audience and encourage them to think about your topic.\\n- Use humor appropriately to lighten the mood and engage your audience.\\n- Be enthusiastic and passionate about your topic to show your audience that you care about what you're speaking about.\\n- Practice your speech or presentation beforehand to ensure that you are comfortable and confident when delivering it.\\n- Pay attention to your audience's body language and adjust your delivery accordingly.\\n\\nRemember, effective audience engagement is about creating a connection with your audience and making your message memorable and meaningful for them.\" generation_id='cca053dd-cf75-4c64-9b75-05ece3e79897' response_id='e75e7393-4b13-48fc-9611-bd33740ffa21'\n",
      "role='USER' message='Could you elaborate on the third point.'\n",
      "role='CHATBOT' message=\"Certainly! Varying your tone and pace is an important technique to keep your audience engaged. Here are some ways to do this:\\n\\n- Change your tone of voice to emphasize important points or to reflect the emotion of what you're saying. For example, you might raise your voice to show excitement or lower it to show seriousness.\\n- Speed up your pace to create a sense of urgency or excitement, and slow down to emphasize important points or to allow your audience to absorb complex information.\\n- Use pauses to give your audience time to reflect on what you've just said and to create a sense of anticipation for what's coming next.\\n- Try to avoid monotony by varying your intonation and volume. This will help to keep your audience interested and engaged.\\n\\nBy varying your tone and pace, you can add interest and emphasis to your speech, and help your audience to stay focused and engaged.\"\n"
     ]
    }
   ],
   "source": [
    "for chat in chat_history:\n",
    "    print(chat)"
   ]
  },
  {
   "cell_type": "markdown",
   "metadata": {
    "id": "ymM0CkHxQvo-"
   },
   "source": [
    "### Option 2: Managing the conversation history yourself\n",
    "\n",
    "If you opt not to use the endpoint’s conversation history persistence feature, you can use the `chat_history` parameter to manage the conversation history yourself. "
   ]
  },
  {
   "cell_type": "code",
   "execution_count": 32,
   "metadata": {
    "colab": {
     "base_uri": "https://localhost:8080/"
    },
    "id": "LUWqpfY6PEcQ",
    "outputId": "b2f4173f-a1c8-4e50-9b48-2cb0bedd0847"
   },
   "outputs": [
    {
     "data": {
      "text/html": [
       "\n",
       "  <style>\n",
       "    pre {\n",
       "        white-space: pre-wrap;\n",
       "    }\n",
       "  </style>\n",
       "  "
      ],
      "text/plain": [
       "<IPython.core.display.HTML object>"
      ]
     },
     "metadata": {},
     "output_type": "display_data"
    },
    {
     "name": "stdout",
     "output_type": "stream",
     "text": [
      "Starting the chat. Type \"quit\" to end.\n",
      "\n",
      "User: Hello\n",
      "Chatbot: Hello! How can I help you today?\n",
      "\n",
      "User: I'd like to learn about techniques for effective audience engagement\n",
      "Chatbot: Sure! Here are some techniques for effective audience engagement:\n",
      "\n",
      "- Make eye contact with your audience and use hand gestures to emphasize your points.\n",
      "- Use a clear and concise language that your audience can easily understand.\n",
      "- Vary your tone and volume to keep your audience interested.\n",
      "- Use stories, examples, and analogies to illustrate your points and make your message more memorable.\n",
      "- Ask questions to involve your audience and encourage them to think about your topic.\n",
      "- Use humor appropriately to lighten the mood and engage your audience.\n",
      "- Use visuals, such as slides, photos, or props, to break up your speech and add interest.\n",
      "- Move around the stage or room to change your position and keep your audience focused.\n",
      "- Use pauses to emphasize important points and give your audience time to absorb your message.\n",
      "- Finally, be passionate and enthusiastic about your topic. Your enthusiasm will be contagious and will help to engage your audience.\n",
      "\n",
      "Remember, effective audience engagement is about connecting with your audience and making your message memorable. By using these techniques, you can deliver a speech that is both informative and engaging.\n",
      "\n",
      "User: Could you elaborate on the fourth point.\n",
      "Chatbot: Certainly! The fourth point is about using stories, examples, and analogies to illustrate your points and make your message more memorable.\n",
      "\n",
      "Stories, examples, and analogies are powerful tools for engaging your audience and helping them to understand and remember your message. Here's how you can use them effectively:\n",
      "\n",
      "- Stories: A well-told story can capture your audience's imagination and make your message more relatable and memorable. Look for stories from your own life or from current events that illustrate the points you want to make. For example, if you're giving a speech about the importance of perseverance, you might tell a story about a time when you faced a challenge and how you overcame it.\n",
      "\n",
      "- Examples: Examples can help to clarify your points and make them more concrete for your audience. Look for specific examples that illustrate the principles or concepts you're discussing. For example, if you're talking about the benefits of a particular product or service, provide specific examples of how it has helped your customers.\n",
      "\n",
      "- Analogies: Analogies can help your audience understand a complex or abstract concept by comparing it to something more familiar. For example, if you're explaining a technical process, you might compare it to a recipe or a sports game. Look for analogies that are relevant to your audience's interests and experiences.\n",
      "\n",
      "When using stories, examples, and analogies, it's important to keep them brief and to the point. You don't want to lose your audience's attention by rambling on. Also, make sure that your stories and examples are authentic and relevant to your topic.\n",
      "\n",
      "By incorporating stories, examples, and analogies into your speech, you can make your message more engaging and memorable for your audience.\n",
      "\n",
      "User: quit\n",
      "Ending chat.\n"
     ]
    }
   ],
   "source": [
    "# Initialize the chat history\n",
    "chat_history = []\n",
    "\n",
    "# Define the preamble\n",
    "preamble = \"You are an expert public speaking coach\"\n",
    "\n",
    "print('Starting the chat. Type \"quit\" to end.\\n')\n",
    "\n",
    "while True:\n",
    "\n",
    "    # User message\n",
    "    message = input(\"User: \")\n",
    "\n",
    "    # Typing \"quit\" ends the conversation\n",
    "    if message.lower() == 'quit':\n",
    "        print(\"Ending chat.\")\n",
    "        break\n",
    "\n",
    "    # Chatbot response\n",
    "    stream = co.chat_stream(message=message,\n",
    "                        preamble=preamble,\n",
    "                        chat_history=chat_history)\n",
    "\n",
    "    chatbot_response = \"\"\n",
    "    print(\"Chatbot: \", end='')\n",
    "\n",
    "    for event in stream:\n",
    "        if event.event_type == \"text-generation\":\n",
    "            print(event.text, end='')\n",
    "            chatbot_response += event.text\n",
    "    print(\"\\n\")\n",
    "\n",
    "    # Add to chat history\n",
    "    chat_history.extend(\n",
    "        [ChatMessage(role=\"USER\", message=message),\n",
    "         ChatMessage(role=\"CHATBOT\", message=chatbot_response)]\n",
    "    )"
   ]
  },
  {
   "cell_type": "markdown",
   "metadata": {},
   "source": [
    "We confirm that `chat_history` is consistent with the conversation above."
   ]
  },
  {
   "cell_type": "code",
   "execution_count": 33,
   "metadata": {
    "colab": {
     "base_uri": "https://localhost:8080/"
    },
    "id": "9ANbZw9LPEZY",
    "outputId": "a84b7f14-682b-4eea-8ddb-ffca091b9f06"
   },
   "outputs": [
    {
     "data": {
      "text/html": [
       "\n",
       "  <style>\n",
       "    pre {\n",
       "        white-space: pre-wrap;\n",
       "    }\n",
       "  </style>\n",
       "  "
      ],
      "text/plain": [
       "<IPython.core.display.HTML object>"
      ]
     },
     "metadata": {},
     "output_type": "display_data"
    },
    {
     "name": "stdout",
     "output_type": "stream",
     "text": [
      "role='USER' message='Hello'\n",
      "role='CHATBOT' message='Hello! How can I help you today?'\n",
      "role='USER' message=\"I'd like to learn about techniques for effective audience engagement\"\n",
      "role='CHATBOT' message='Sure! Here are some techniques for effective audience engagement:\\n\\n- Make eye contact with your audience and use hand gestures to emphasize your points.\\n- Use a clear and concise language that your audience can easily understand.\\n- Vary your tone and volume to keep your audience interested.\\n- Use stories, examples, and analogies to illustrate your points and make your message more memorable.\\n- Ask questions to involve your audience and encourage them to think about your topic.\\n- Use humor appropriately to lighten the mood and engage your audience.\\n- Use visuals, such as slides, photos, or props, to break up your speech and add interest.\\n- Move around the stage or room to change your position and keep your audience focused.\\n- Use pauses to emphasize important points and give your audience time to absorb your message.\\n- Finally, be passionate and enthusiastic about your topic. Your enthusiasm will be contagious and will help to engage your audience.\\n\\nRemember, effective audience engagement is about connecting with your audience and making your message memorable. By using these techniques, you can deliver a speech that is both informative and engaging.'\n",
      "role='USER' message='Could you elaborate on the fourth point.'\n",
      "role='CHATBOT' message=\"Certainly! The fourth point is about using stories, examples, and analogies to illustrate your points and make your message more memorable.\\n\\nStories, examples, and analogies are powerful tools for engaging your audience and helping them to understand and remember your message. Here's how you can use them effectively:\\n\\n- Stories: A well-told story can capture your audience's imagination and make your message more relatable and memorable. Look for stories from your own life or from current events that illustrate the points you want to make. For example, if you're giving a speech about the importance of perseverance, you might tell a story about a time when you faced a challenge and how you overcame it.\\n\\n- Examples: Examples can help to clarify your points and make them more concrete for your audience. Look for specific examples that illustrate the principles or concepts you're discussing. For example, if you're talking about the benefits of a particular product or service, provide specific examples of how it has helped your customers.\\n\\n- Analogies: Analogies can help your audience understand a complex or abstract concept by comparing it to something more familiar. For example, if you're explaining a technical process, you might compare it to a recipe or a sports game. Look for analogies that are relevant to your audience's interests and experiences.\\n\\nWhen using stories, examples, and analogies, it's important to keep them brief and to the point. You don't want to lose your audience's attention by rambling on. Also, make sure that your stories and examples are authentic and relevant to your topic.\\n\\nBy incorporating stories, examples, and analogies into your speech, you can make your message more engaging and memorable for your audience.\"\n"
     ]
    }
   ],
   "source": [
    "for chat in chat_history:\n",
    "    print(chat)"
   ]
  },
  {
   "cell_type": "markdown",
   "metadata": {},
   "source": [
    "And with that, we have built a simple chatbot that can respond to user messages and maintain the context of the conversation."
   ]
  }
 ],
 "metadata": {
  "colab": {
   "provenance": []
  },
  "kernelspec": {
   "display_name": "Python 3 (ipykernel)",
   "language": "python",
   "name": "python3"
  },
  "language_info": {
   "codemirror_mode": {
    "name": "ipython",
    "version": 3
   },
   "file_extension": ".py",
   "mimetype": "text/x-python",
   "name": "python",
   "nbconvert_exporter": "python",
   "pygments_lexer": "ipython3",
   "version": "3.11.5"
  }
 },
 "nbformat": 4,
 "nbformat_minor": 1
}
