{
  "nbformat": 4,
  "nbformat_minor": 0,
  "metadata": {
    "colab": {
      "provenance": []
    },
    "kernelspec": {
      "name": "python3",
      "display_name": "Python 3"
    },
    "language_info": {
      "name": "python"
    }
  },
  "cells": [
    {
      "cell_type": "markdown",
      "source": [
        "This is the notebook companion for the blog post [Generative AI with Cohere: Part 3 - The Generate Endpoint](txt.cohere.ai/generative-ai-part-3/)"
      ],
      "metadata": {
        "id": "Oaa3eXUIDE9N"
      }
    },
    {
      "cell_type": "code",
      "source": [
        "!pip install cohere > /dev/null"
      ],
      "metadata": {
        "id": "6Ja95Na3l9se"
      },
      "execution_count": 1,
      "outputs": []
    },
    {
      "cell_type": "code",
      "source": [
        "import cohere\n",
        "co = cohere.Client('gyDdihIHXjEaienjbpPEQfIUp9GYGZqm9XK6O91R') # This is your trial API key"
      ],
      "metadata": {
        "id": "koYBtMcrBu7g"
      },
      "execution_count": null,
      "outputs": []
    },
    {
      "cell_type": "markdown",
      "source": [
        "## Most basic generation"
      ],
      "metadata": {
        "id": "YQOdm9BY-hOe"
      }
    },
    {
      "cell_type": "code",
      "source": [
        "response = co.generate(\n",
        "  model='command-xlarge-nightly',\n",
        "  prompt='Write me a haiku about software and magic.')\n",
        "print(response.generations[0].text)"
      ],
      "metadata": {
        "colab": {
          "base_uri": "https://localhost:8080/"
        },
        "id": "NcBCi0Qj-8sW",
        "outputId": "b840a826-51f8-44b4-f491-926dd255a6fe"
      },
      "execution_count": 8,
      "outputs": [
        {
          "output_type": "stream",
          "name": "stdout",
          "text": [
            "\n",
            "Software is magic\n",
            "The wizard is the programmer\n",
            "The magic is the code\n"
          ]
        }
      ]
    },
    {
      "cell_type": "markdown",
      "source": [
        "## Include likelihood in generation "
      ],
      "metadata": {
        "id": "9b4QxhP7-bup"
      }
    },
    {
      "cell_type": "code",
      "source": [
        "response = co.generate(\n",
        "  model='command-xlarge-nightly',\n",
        "  prompt='Write me a haiku about software and magic.',\n",
        "  return_likelihoods='GENERATION')\n",
        "print(response)"
      ],
      "metadata": {
        "colab": {
          "base_uri": "https://localhost:8080/"
        },
        "id": "A-YnUrzA--b3",
        "outputId": "7557bd3b-8822-4c20-e868-3ad956385188"
      },
      "execution_count": null,
      "outputs": [
        {
          "output_type": "stream",
          "name": "stdout",
          "text": [
            "[cohere.Generation {\n",
            "\tid: fa9d9499-1418-44ab-8349-6aa57e5ce70d\n",
            "\ttext: \n",
            "Software is magic,\n",
            "It can make you feel,\n",
            "Like you're in a different world\n",
            "\tlikelihood: -0.80018723\n",
            "\ttoken_likelihoods: [TokenLikelihood(token='\\n', likelihood=-0.09764614), TokenLikelihood(token='Software', likelihood=-0.40727282), TokenLikelihood(token=' is', likelihood=-0.17436308), TokenLikelihood(token=' magic', likelihood=-0.06731783), TokenLikelihood(token=',', likelihood=-2.0117483), TokenLikelihood(token='\\n', likelihood=-0.19473554), TokenLikelihood(token='It', likelihood=-1.7644259), TokenLikelihood(token=' can', likelihood=-1.467473), TokenLikelihood(token=' make', likelihood=-0.72979766), TokenLikelihood(token=' you', likelihood=-1.8586394), TokenLikelihood(token=' feel', likelihood=-2.2728364), TokenLikelihood(token=',', likelihood=-1.366553), TokenLikelihood(token='\\n', likelihood=-0.00656544), TokenLikelihood(token='Like', likelihood=-0.8140192), TokenLikelihood(token=' you', likelihood=-0.043047186), TokenLikelihood(token=\"'re\", likelihood=-0.117678024), TokenLikelihood(token=' in', likelihood=-0.4259072), TokenLikelihood(token=' a', likelihood=-0.20930308), TokenLikelihood(token=' different', likelihood=-1.8814251), TokenLikelihood(token=' world', likelihood=-0.09299072)]\n",
            "}]\n"
          ]
        }
      ]
    },
    {
      "cell_type": "markdown",
      "source": [
        "## Experimenting with prompt"
      ],
      "metadata": {
        "id": "TLLs-PmKAPOj"
      }
    },
    {
      "cell_type": "code",
      "source": [
        "# Create a function to call the endpoint\n",
        "def generate_text(prompt,temperature,num_gens):\n",
        "  response = co.generate(\n",
        "    model='command-xlarge-nightly',\n",
        "    prompt=prompt,\n",
        "    temperature=temperature,\n",
        "    num_generations = num_gens,\n",
        "    return_likelihoods='GENERATION')\n",
        "  return response\n",
        "\n",
        "# Define the prompt\n",
        "prompt='Write me a haiku about software and magic.'\n",
        "\n",
        "# Define the range of temperature values and num_generations\n",
        "temperatures = [x / 10.0 for x in range(0, 60, 10)]\n",
        "num_gens = 3\n",
        "\n",
        "# Iterate generation over the range of temperature values\n",
        "print(f\"Temperature range: {temperatures}\")\n",
        "for temperature in temperatures:\n",
        "  response = generate_text(prompt,temperature,num_gens)\n",
        "  print(\"-\"*10)\n",
        "  print(f'Temperature: {temperature}')\n",
        "  print(\"-\"*10)\n",
        "  for i in range(3):\n",
        "    text = response.generations[i].text\n",
        "    likelihood = response.generations[i].likelihood\n",
        "    print(f'Generation #{i+1}')\n",
        "    print(f'Text: {text}\\n')\n",
        "    print(f'Likelihood: {likelihood}\\n')"
      ],
      "metadata": {
        "colab": {
          "base_uri": "https://localhost:8080/"
        },
        "id": "3z8AD8Od-_Vs",
        "outputId": "02ad4e84-e194-4487-bde8-03aa89880042"
      },
      "execution_count": null,
      "outputs": [
        {
          "output_type": "stream",
          "name": "stdout",
          "text": [
            "Temperature range: [0.0, 1.0, 2.0, 3.0, 4.0, 5.0]\n",
            "----------\n",
            "Temperature: 0.0\n",
            "----------\n",
            "Generation #1\n",
            "Text: \n",
            "Software is magic\n",
            "That makes the world go round\n",
            "Without it, we're all lost\n",
            "\n",
            "\n",
            "Likelihood: -0.45244867\n",
            "\n",
            "Generation #2\n",
            "Text: \n",
            "Software is magic\n",
            "That makes the world go round\n",
            "Without it, we're all lost\n",
            "\n",
            "\n",
            "Likelihood: -0.45284685\n",
            "\n",
            "Generation #3\n",
            "Text: \n",
            "Software is magic\n",
            "That makes the world go round\n",
            "Without it, we're all lost\n",
            "\n",
            "\n",
            "Likelihood: -0.45237988\n",
            "\n",
            "----------\n",
            "Temperature: 1.0\n",
            "----------\n",
            "Generation #1\n",
            "Text: \n",
            "Magic is software\n",
            "Hocus-pocus, make it go\n",
            "Programmer's delight,\n",
            "\n",
            "Likelihood: -1.0719666\n",
            "\n",
            "Generation #2\n",
            "Text: \n",
            "Software is magic\n",
            "That lets us create, transform,\n",
            "With just a few keystro\n",
            "\n",
            "Likelihood: -1.0815046\n",
            "\n",
            "Generation #3\n",
            "Text: \n",
            "Magic is software\n",
            "That hacks the universe\n",
            "Reality is our ROM\n",
            "\n",
            "Likelihood: -1.3022773\n",
            "\n",
            "----------\n",
            "Temperature: 2.0\n",
            "----------\n",
            "Generation #1\n",
            "Text: \n",
            "Magic is software\n",
            "Programmers weave enchantments\n",
            "Into every app, every spell\n",
            "\n",
            "Likelihood: -1.2288967\n",
            "\n",
            "Generation #2\n",
            "Text: \n",
            "Magic of code, revealing what we know\n",
            "Software's sorcery, we create reality\n",
            "From\n",
            "\n",
            "Likelihood: -1.4367269\n",
            "\n",
            "Generation #3\n",
            "Text: \n",
            "Software is magic,\n",
            "that which we create from thin air.\n",
            "We wield the power of\n",
            "\n",
            "Likelihood: -1.1295164\n",
            "\n",
            "----------\n",
            "Temperature: 3.0\n",
            "----------\n",
            "Generation #1\n",
            "Text: \n",
            "Magic of software\n",
            "A new trick every day\n",
            "User makes the magic happen\n",
            "\n",
            "Likelihood: -1.2911147\n",
            "\n",
            "Generation #2\n",
            "Text: \n",
            "Software is magic\n",
            "that we can see with our eyes\n",
            "and touch with our hands.\n",
            "\n",
            "\n",
            "Likelihood: -0.5329902\n",
            "\n",
            "Generation #3\n",
            "Text: \n",
            "Software is magic\n",
            "That makes the impossible possible\n",
            "Solving equations instantly\n",
            "In ways unimagin\n",
            "\n",
            "Likelihood: -1.2848234\n",
            "\n",
            "----------\n",
            "Temperature: 4.0\n",
            "----------\n",
            "Generation #1\n",
            "Text: \n",
            "Software is magic\n",
            "But coding is sorcery\n",
            "Writing the spells is the hard part\n",
            "And testing is the alchemy\n",
            "\n",
            "Likelihood: -1.2297785\n",
            "\n",
            "Generation #2\n",
            "Text: \n",
            "Software is magic\n",
            "That which runs on silicon\n",
            "Possessed by electricity.\n",
            "Infrastructure for sorcery.\n",
            "\n",
            "Likelihood: -1.6160729\n",
            "\n",
            "Generation #3\n",
            "Text: \n",
            "Magic is as software\n",
            "a universe made to be explored\n",
            "an expression of art\n",
            "\n",
            "from\n",
            "\n",
            "Likelihood: -2.3887923\n",
            "\n",
            "----------\n",
            "Temperature: 5.0\n",
            "----------\n",
            "Generation #1\n",
            "Text: \n",
            "Magic is coding,\n",
            "Programming is sorcery,\n",
            "Every day is a new spell.\n",
            "\n",
            "Likelihood: -1.1834872\n",
            "\n",
            "Generation #2\n",
            "Text: \n",
            "Software is magic,\n",
            "Programming is sorcery,\n",
            "Syntax and semantics,\n",
            "Hocus\n",
            "\n",
            "Likelihood: -0.9214052\n",
            "\n",
            "Generation #3\n",
            "Text: \n",
            "Software is magic\n",
            "that flows from our fingertips\n",
            "to create worlds in our minds.\n",
            "\n",
            "Likelihood: -0.9298086\n",
            "\n"
          ]
        }
      ]
    },
    {
      "cell_type": "code",
      "source": [],
      "metadata": {
        "id": "k8Ex91fJVeth"
      },
      "execution_count": null,
      "outputs": []
    }
  ]
}