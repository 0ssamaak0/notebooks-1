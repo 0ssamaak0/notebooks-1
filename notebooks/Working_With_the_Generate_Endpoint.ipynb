{
  "cells": [
    {
      "cell_type": "markdown",
      "metadata": {
        "id": "Oaa3eXUIDE9N"
      },
      "source": [
        "This is the notebook companion for the blog post [Generative AI with Cohere: Part 3 - The Generate Endpoint](https://txt.cohere.com/generative-ai-part-3/)"
      ]
    },
    {
      "cell_type": "code",
      "execution_count": 2,
      "metadata": {
        "id": "6Ja95Na3l9se"
      },
      "outputs": [],
      "source": [
        "!pip install cohere > /dev/null"
      ]
    },
    {
      "cell_type": "code",
      "execution_count": 3,
      "metadata": {
        "id": "koYBtMcrBu7g"
      },
      "outputs": [],
      "source": [
        "import cohere\n",
        "co = cohere.Client('api_key') # Add your API key"
      ]
    },
    {
      "cell_type": "markdown",
      "metadata": {
        "id": "YQOdm9BY-hOe"
      },
      "source": [
        "## Most basic generation"
      ]
    },
    {
      "cell_type": "code",
      "execution_count": 32,
      "metadata": {
        "colab": {
          "base_uri": "https://localhost:8080/"
        },
        "id": "NcBCi0Qj-8sW",
        "outputId": "493d68df-2c55-4e65-e588-efcbb1171653"
      },
      "outputs": [
        {
          "output_type": "stream",
          "name": "stdout",
          "text": [
            "[cohere.Generation {\n",
            "\tid: 09944b69-702f-4ee7-9a2b-c13c916ebc3e\n",
            "\tprompt: Generate a social ad copy for the product: Wireless Earbuds.\n",
            "\ttext: \n",
            "Get ready to enjoy your favorite tunes without the hassle of tangled cords! Our new wireless earbuds are perfect for on-the-go listening. No more getting caught in a mess of wires - just pop these babies in and you're good to go!\n",
            "\tlikelihood: None\n",
            "\ttoken_likelihoods: None\n",
            "}]\n"
          ]
        }
      ],
      "source": [
        "response = co.generate(\n",
        "  model='command-nightly',\n",
        "  prompt='Generate a social ad copy for the product: Wireless Earbuds.',\n",
        "  max_tokens=100)\n",
        "print(response)"
      ]
    },
    {
      "cell_type": "code",
      "source": [
        "print(response.generations[0].text)"
      ],
      "metadata": {
        "colab": {
          "base_uri": "https://localhost:8080/"
        },
        "id": "zhzYU2v7ruYQ",
        "outputId": "ee979f9b-aa58-4a64-e429-a0b377614a11"
      },
      "execution_count": 34,
      "outputs": [
        {
          "output_type": "stream",
          "name": "stdout",
          "text": [
            "\n",
            "Get ready to enjoy your favorite tunes without the hassle of tangled cords! Our new wireless earbuds are perfect for on-the-go listening. No more getting caught in a mess of wires - just pop these babies in and you're good to go!\n"
          ]
        }
      ]
    },
    {
      "cell_type": "markdown",
      "metadata": {
        "id": "9b4QxhP7-bup"
      },
      "source": [
        "## Include likelihood in generation "
      ]
    },
    {
      "cell_type": "code",
      "execution_count": 27,
      "metadata": {
        "colab": {
          "base_uri": "https://localhost:8080/"
        },
        "id": "A-YnUrzA--b3",
        "outputId": "97c6f749-925b-49a8-c11a-204fc9bd6a2b"
      },
      "outputs": [
        {
          "output_type": "stream",
          "name": "stdout",
          "text": [
            "[cohere.Generation {\n",
            "\tid: 9f772dae-d7f1-4134-bcc0-6faff6155237\n",
            "\tprompt: Generate a social ad copy for the product: Wireless Earbuds.\n",
            "\ttext: \n",
            "\n",
            "Get ready to experience the future of audio with our new Wireless Earbuds! No more tangled cords or bulky headphones - these earbuds offer crystal clear sound and comfortable, snug fit. Get yours today and experience the convenience of wireless listening!\n",
            "\tlikelihood: -0.2279406\n",
            "\ttoken_likelihoods: [TokenLikelihood(token='\\n', likelihood=-9.103483e-05), TokenLikelihood(token='\\n', likelihood=-1.22846), TokenLikelihood(token='Get', likelihood=-2.151424), TokenLikelihood(token=' ready', likelihood=-0.20036013), TokenLikelihood(token=' to', likelihood=-0.035258226), TokenLikelihood(token=' experience', likelihood=-1.6112345), TokenLikelihood(token=' the', likelihood=-0.14695646), TokenLikelihood(token=' future', likelihood=-0.0042634495), TokenLikelihood(token=' of', likelihood=-0.00074343756), TokenLikelihood(token=' audio', likelihood=-0.08511133), TokenLikelihood(token=' with', likelihood=-0.00080642954), TokenLikelihood(token=' our', likelihood=-0.0017706478), TokenLikelihood(token=' new', likelihood=-0.0010362985), TokenLikelihood(token=' Wireless', likelihood=-0.21288349), TokenLikelihood(token=' Ear', likelihood=-0.00074069394), TokenLikelihood(token='buds', likelihood=-6.1516675e-06), TokenLikelihood(token='!', likelihood=-0.021351798), TokenLikelihood(token=' No', likelihood=-0.8056622), TokenLikelihood(token=' more', likelihood=-0.0031584508), TokenLikelihood(token=' tangled', likelihood=-0.11725687), TokenLikelihood(token=' cords', likelihood=-0.027387846), TokenLikelihood(token=' or', likelihood=-0.0023523988), TokenLikelihood(token=' bulky', likelihood=-0.037011318), TokenLikelihood(token=' headphones', likelihood=-0.0042322623), TokenLikelihood(token=' -', likelihood=-0.14677745), TokenLikelihood(token=' these', likelihood=-0.00674615), TokenLikelihood(token=' earbuds', likelihood=-0.1275158), TokenLikelihood(token=' offer', likelihood=-0.9734093), TokenLikelihood(token=' crystal', likelihood=-0.41444272), TokenLikelihood(token=' clear', likelihood=-0.00024406594), TokenLikelihood(token=' sound', likelihood=-3.9055147e-05), TokenLikelihood(token=' and', likelihood=-0.00036897225), TokenLikelihood(token=' comfortable', likelihood=-0.23457845), TokenLikelihood(token=',', likelihood=-0.061485086), TokenLikelihood(token=' snug', likelihood=-0.06644773), TokenLikelihood(token=' fit', likelihood=-0.0004885883), TokenLikelihood(token='.', likelihood=-0.00136434), TokenLikelihood(token=' Get', likelihood=-0.42364258), TokenLikelihood(token=' yours', likelihood=-0.012176705), TokenLikelihood(token=' today', likelihood=-0.2864842), TokenLikelihood(token=' and', likelihood=-0.06477565), TokenLikelihood(token=' experience', likelihood=-0.09880952), TokenLikelihood(token=' the', likelihood=-7.469949e-05), TokenLikelihood(token=' convenience', likelihood=-0.54510444), TokenLikelihood(token=' of', likelihood=-0.39723876), TokenLikelihood(token=' wireless', likelihood=-0.0076758643), TokenLikelihood(token=' listening', likelihood=-0.012490377), TokenLikelihood(token='!', likelihood=-0.35921252)]\n",
            "}]\n"
          ]
        }
      ],
      "source": [
        "response = co.generate(\n",
        "  model='command-nightly',\n",
        "  prompt='Generate a social ad copy for the product: Wireless Earbuds.',\n",
        "  max_tokens=100,\n",
        "  return_likelihoods='GENERATION')\n",
        "print(response)"
      ]
    },
    {
      "cell_type": "markdown",
      "metadata": {
        "id": "TLLs-PmKAPOj"
      },
      "source": [
        "## Experimenting with prompt"
      ]
    },
    {
      "cell_type": "code",
      "execution_count": 36,
      "metadata": {
        "colab": {
          "base_uri": "https://localhost:8080/"
        },
        "id": "3z8AD8Od-_Vs",
        "outputId": "814964f1-fcd2-40f5-de5c-fdd99cbe1ef3"
      },
      "outputs": [
        {
          "output_type": "stream",
          "name": "stdout",
          "text": [
            "Temperature range: [0.0, 1.0, 2.0, 3.0, 4.0, 5.0]\n",
            "----------\n",
            "Temperature: 0.0\n",
            "----------\n",
            "Generation #1\n",
            "Text: \n",
            "Get ready to jam out to your favorite tunes with our new Wireless Earbuds! No more tangled cords or bulky headphones - these earbuds are sleek, lightweight, and easy to use. Plus, they deliver crystal clear sound so you can enjoy your music, podcasts, and calls without any distractions. Get yours today and experience the convenience of wireless listening!\n",
            "\n",
            "Likelihood: -0.15832482\n",
            "\n",
            "Generation #2\n",
            "Text: \n",
            "Get ready to jam out to your favorite tunes with our new Wireless Earbuds! No more tangled cords or bulky headphones - these earbuds are sleek, lightweight, and easy to use. Plus, they deliver crystal clear sound so you can enjoy your music, podcasts, and calls without any distractions. Get yours today and experience the convenience of wireless listening!\n",
            "\n",
            "Likelihood: -0.15817696\n",
            "\n",
            "Generation #3\n",
            "Text: \n",
            "Get ready to jam out to your favorite tunes with our new Wireless Earbuds! No more tangled cords or bulky headphones - these earbuds are sleek, lightweight, and easy to use. Plus, they deliver crystal clear sound so you can enjoy your music, podcasts, and calls without any distractions. Get yours today and experience the convenience of wireless listening!\n",
            "\n",
            "Likelihood: -0.15856288\n",
            "\n",
            "----------\n",
            "Temperature: 1.0\n",
            "----------\n",
            "Generation #1\n",
            "Text: \n",
            "Get ready to jam out to your favorite tunes with our new Wireless Earbuds! No more tangled cords or bulky headphones, these earbuds are sleek, lightweight, and easy to use. Plus, they deliver crystal clear sound so you can enjoy your music, podcasts, and calls without any distractions.\n",
            "\n",
            "Likelihood: -0.18457656\n",
            "\n",
            "Generation #2\n",
            "Text: \n",
            "\n",
            "Introducing our new wireless earbuds - the perfect accessory for all your on-the-go needs! Enjoy crystal clear sound and comfortable, snug fit. Get yours now and experience the convenience of wireless listening!\n",
            "\n",
            "Likelihood: -0.09866797\n",
            "\n",
            "Generation #3\n",
            "Text: \n",
            "Get ready to experience the future of audio with our new Wireless Earbuds! Enjoy crystal clear sound and comfortable, snug fit. No more tangled cords or bulky headphones - these earbuds are perfect for on-the-go listening.\n",
            "\n",
            "Likelihood: -0.16068813\n",
            "\n",
            "----------\n",
            "Temperature: 2.0\n",
            "----------\n",
            "Generation #1\n",
            "Text: \n",
            "Looking for a wireless earbuds with high-quality sound? Check out our top-rated earbuds for an enjoyable listening experience.\n",
            "\n",
            "Likelihood: -1.1741345\n",
            "\n",
            "Generation #2\n",
            "Text: \n",
            "Get ready to jam out to your favorite tunes with our new wireless earbuds! No more tangled cords or bulky headphones, these earbuds are lightweight and easy to use. Plus, they have great sound quality and a long battery life. So, whether you're at the gym or on-the-go, you can enjoy your music, podcasts, and calls without any distractions.\n",
            "\n",
            "Likelihood: -0.24677125\n",
            "\n",
            "Generation #3\n",
            "Text: \n",
            "Get ready to enjoy your music, calls, and podcasts wire-free with our new Wireless Earbuds! No more tangled cords or bulky headphones - these earbuds are lightweight, comfortable, and easy to use. Plus, they come in a stylish case that's perfect for on-the-go use. Get yours today!\n",
            "\n",
            "Likelihood: -0.30283406\n",
            "\n",
            "----------\n",
            "Temperature: 3.0\n",
            "----------\n",
            "Generation #1\n",
            "Text: \n",
            "Get ready to jam out with our new wireless earbuds! No more tangled cords or bulky headphones, these earbuds are sleek, lightweight, and easy to use. Plus, they deliver crystal clear sound and deep bass so you can enjoy your favorite tunes without any distractions. Get yours today and experience the future of audio!\n",
            "\n",
            "Likelihood: -0.28086284\n",
            "\n",
            "Generation #2\n",
            "Text: \n",
            "\n",
            "Get ready to experience the future of audio with our new Wireless Earbuds! Enjoy crystal clear sound and comfortable, snug fit. No more tangled cords or bulky headphones - these earbuds are sleek, lightweight, and easy to use. Get yours today and experience the best of modern technology!\n",
            "\n",
            "Likelihood: -0.22197358\n",
            "\n",
            "Generation #3\n",
            "Text: \n",
            "\n",
            "Get ready to listen to your favorite tunes without any distractions with our new Wireless Earbuds!\n",
            "\n",
            "Likelihood: -0.3949878\n",
            "\n",
            "----------\n",
            "Temperature: 4.0\n",
            "----------\n",
            "Generation #1\n",
            "Text: \n",
            "\n",
            "New year, new you! Gift yourself the latest in wireless earbuds.\n",
            "\n",
            "Likelihood: -1.0421643\n",
            "\n",
            "Generation #2\n",
            "Text: \n",
            "Get ready to enjoy your music, podcasts, and calls without any distractions. Introducing our new wireless earbuds - the perfect accessory for all your on-the-go needs! No more tangled cords or bulky headphones - these earbuds are sleek, lightweight, and easy to use. Get yours today and experience the convenience of wireless listening for yourself!\n",
            "\n",
            "Likelihood: -0.15137886\n",
            "\n",
            "Generation #3\n",
            "Text: \n",
            "\n",
            "The future is wireless. Get your hands on our new wireless earbuds today!\n",
            "\n",
            "Likelihood: -0.614637\n",
            "\n",
            "----------\n",
            "Temperature: 5.0\n",
            "----------\n",
            "Generation #1\n",
            "Text: \n",
            "Looking for a wireless earbuds that are both stylish and comfortable? Look no further than our latest collection of sleek and modern wireless earbuds. Get yours today! #wirelessearbuds #earbuds #wireless\n",
            "\n",
            "Likelihood: -0.8804794\n",
            "\n",
            "Generation #2\n",
            "Text: \n",
            "Get ready to jam out with our new wireless earbuds! No more tangled cords or bulky headphones, just pure music freedom.\n",
            "\n",
            "Likelihood: -0.48245212\n",
            "\n",
            "Generation #3\n",
            "Text: \n",
            "Get ready to enjoy your favorite tunes with our new wireless earbuds! No more tangled cords or bulky headphones - these earbuds are lightweight, easy to use, and deliver crystal clear sound.\n",
            "\n",
            "Likelihood: -0.4333161\n",
            "\n"
          ]
        }
      ],
      "source": [
        "# Create a function to call the endpoint\n",
        "def generate_text(prompt,temperature,num_gens):\n",
        "  response = co.generate(\n",
        "    model='command-nightly',\n",
        "    prompt=prompt,\n",
        "    max_tokens=100,\n",
        "    temperature=temperature,\n",
        "    num_generations = num_gens,\n",
        "    return_likelihoods='GENERATION')\n",
        "  return response\n",
        "\n",
        "# Define the prompt\n",
        "prompt='Generate a social ad copy for the product: Wireless Earbuds.'\n",
        "\n",
        "# Define the range of temperature values and num_generations\n",
        "temperatures = [x / 10.0 for x in range(0, 60, 10)]\n",
        "num_gens = 3\n",
        "\n",
        "# Iterate generation over the range of temperature values\n",
        "print(f\"Temperature range: {temperatures}\")\n",
        "for temperature in temperatures:\n",
        "  response = generate_text(prompt,temperature,num_gens)\n",
        "  print(\"-\"*10)\n",
        "  print(f'Temperature: {temperature}')\n",
        "  print(\"-\"*10)\n",
        "  for i in range(3):\n",
        "    text = response.generations[i].text\n",
        "    likelihood = response.generations[i].likelihood\n",
        "    print(f'Generation #{i+1}')\n",
        "    print(f'Text: {text}\\n')\n",
        "    print(f'Likelihood: {likelihood}\\n')"
      ]
    },
    {
      "cell_type": "code",
      "execution_count": null,
      "metadata": {
        "id": "k8Ex91fJVeth"
      },
      "outputs": [],
      "source": []
    }
  ],
  "metadata": {
    "colab": {
      "provenance": []
    },
    "kernelspec": {
      "display_name": "Python 3.10.5 64-bit ('3.10.5')",
      "language": "python",
      "name": "python3"
    },
    "language_info": {
      "name": "python",
      "version": "3.10.5"
    },
    "vscode": {
      "interpreter": {
        "hash": "3a0ab37a1f07e7d320af811f0819b193749e9675a96eea7a4830e92d810d141d"
      }
    }
  },
  "nbformat": 4,
  "nbformat_minor": 0
}