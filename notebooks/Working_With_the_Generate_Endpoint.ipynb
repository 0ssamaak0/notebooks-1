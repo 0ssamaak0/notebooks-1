{
  "cells": [
    {
      "cell_type": "markdown",
      "metadata": {
        "id": "Oaa3eXUIDE9N"
      },
      "source": [
        "This is the notebook companion for the blog post [Generative AI with Cohere: Part 3 - The Generate Endpoint](https://txt.cohere.com/generative-ai-part-3/)"
      ]
    },
    {
      "cell_type": "code",
      "execution_count": 3,
      "metadata": {
        "id": "6Ja95Na3l9se"
      },
      "outputs": [],
      "source": [
        "!pip install cohere > /dev/null"
      ]
    },
    {
      "cell_type": "code",
      "execution_count": 4,
      "metadata": {
        "id": "koYBtMcrBu7g"
      },
      "outputs": [],
      "source": [
        "import cohere\n",
        "co = cohere.Client('api_key') # Add your API key"
      ]
    },
    {
      "cell_type": "markdown",
      "metadata": {
        "id": "YQOdm9BY-hOe"
      },
      "source": [
        "## Most basic generation"
      ]
    },
    {
      "cell_type": "code",
      "execution_count": 31,
      "metadata": {
        "colab": {
          "base_uri": "https://localhost:8080/"
        },
        "id": "NcBCi0Qj-8sW",
        "outputId": "97551bf4-a112-4cb5-fe7a-cf986318055f"
      },
      "outputs": [
        {
          "name": "stdout",
          "output_type": "stream",
          "text": [
            "[cohere.Generation {\n",
            "\tid: 3d3ecb76-6435-4665-a323-6650eefc2429\n",
            "\tprompt: Generate a concise product description for the product: wireless earbuds.\n",
            "\ttext: \n",
            "These wireless earbuds are designed for comfort and convenience, with a secure fit and easy-to-use controls. They're perfect for when you're on the go, and provide clear sound and reliable connectivity.\n",
            "\tlikelihood: None\n",
            "\ttoken_likelihoods: None\n",
            "}]\n"
          ]
        }
      ],
      "source": [
        "response = co.generate(\n",
        "  model='command',\n",
        "  prompt='Generate a concise product description for the product: wireless earbuds.',\n",
        "  max_tokens=100)\n",
        "print(response)"
      ]
    },
    {
      "cell_type": "code",
      "execution_count": 32,
      "metadata": {
        "colab": {
          "base_uri": "https://localhost:8080/"
        },
        "id": "zhzYU2v7ruYQ",
        "outputId": "7c26605a-6e7c-40e3-89a8-5e038208daa2"
      },
      "outputs": [
        {
          "name": "stdout",
          "output_type": "stream",
          "text": [
            "\n",
            "These wireless earbuds are designed for comfort and convenience, with a secure fit and easy-to-use controls. They're perfect for when you're on the go, and provide clear sound and reliable connectivity.\n"
          ]
        }
      ],
      "source": [
        "print(response.generations[0].text)"
      ]
    },
    {
      "cell_type": "markdown",
      "metadata": {
        "id": "9b4QxhP7-bup"
      },
      "source": [
        "## Include likelihood in generation "
      ]
    },
    {
      "cell_type": "code",
      "execution_count": 33,
      "metadata": {
        "colab": {
          "base_uri": "https://localhost:8080/"
        },
        "id": "A-YnUrzA--b3",
        "outputId": "d4963c7f-b62d-48b3-d6da-9627d3b43333"
      },
      "outputs": [
        {
          "name": "stdout",
          "output_type": "stream",
          "text": [
            "[cohere.Generation {\n",
            "\tid: bccb41a7-cc67-45de-a6cb-59200c0b7ff7\n",
            "\tprompt: Generate a concise product description for the product: wireless earbuds.\n",
            "\ttext: \n",
            "These wireless earbuds provide crystal clear sound and a comfortable fit, making them perfect for your on-the-go lifestyle. The earbuds feature a Bluetooth connection, so you can easily connect to your favorite devices.\n",
            "\tlikelihood: -0.31602517\n",
            "\ttoken_likelihoods: [TokenLikelihood(token='\\n', likelihood=-2.9636725e-05), TokenLikelihood(token='These', likelihood=-0.93044), TokenLikelihood(token=' wireless', likelihood=-0.1625166), TokenLikelihood(token=' earbuds', likelihood=-0.00023237972), TokenLikelihood(token=' provide', likelihood=-1.7594767), TokenLikelihood(token=' crystal', likelihood=-0.30630827), TokenLikelihood(token=' clear', likelihood=-0.006674145), TokenLikelihood(token=' sound', likelihood=-0.031797588), TokenLikelihood(token=' and', likelihood=-0.021826616), TokenLikelihood(token=' a', likelihood=-0.045265503), TokenLikelihood(token=' comfortable', likelihood=-0.0037292854), TokenLikelihood(token=' fit', likelihood=-0.035238348), TokenLikelihood(token=',', likelihood=-0.47499913), TokenLikelihood(token=' making', likelihood=-0.096061766), TokenLikelihood(token=' them', likelihood=-0.00057715003), TokenLikelihood(token=' perfect', likelihood=-0.0413739), TokenLikelihood(token=' for', likelihood=-3.8103353e-05), TokenLikelihood(token=' your', likelihood=-1.022666), TokenLikelihood(token=' on', likelihood=-0.057791833), TokenLikelihood(token='-', likelihood=-9.401318e-05), TokenLikelihood(token='the', likelihood=-8.176345e-06), TokenLikelihood(token='-', likelihood=-1.022884e-06), TokenLikelihood(token='go', likelihood=-7.1481794e-05), TokenLikelihood(token=' lifestyle', likelihood=-0.09184248), TokenLikelihood(token='.', likelihood=-0.00914639), TokenLikelihood(token=' The', likelihood=-0.69395995), TokenLikelihood(token=' earbuds', likelihood=-0.92923546), TokenLikelihood(token=' feature', likelihood=-0.78148234), TokenLikelihood(token=' a', likelihood=-0.35010356), TokenLikelihood(token=' Bluetooth', likelihood=-2.1289418), TokenLikelihood(token=' connection', likelihood=-0.18478136), TokenLikelihood(token=',', likelihood=-0.3644204), TokenLikelihood(token=' so', likelihood=-0.19117455), TokenLikelihood(token=' you', likelihood=-0.00013502566), TokenLikelihood(token=' can', likelihood=-0.0006682836), TokenLikelihood(token=' easily', likelihood=-0.1432187), TokenLikelihood(token=' connect', likelihood=-1.1377978), TokenLikelihood(token=' to', likelihood=-0.17181365), TokenLikelihood(token=' your', likelihood=-0.008168794), TokenLikelihood(token=' favorite', likelihood=-0.3145811), TokenLikelihood(token=' devices', likelihood=-0.6555098), TokenLikelihood(token='.', likelihood=-0.11885719)]\n",
            "}]\n"
          ]
        }
      ],
      "source": [
        "response = co.generate(\n",
        "  model='command',\n",
        "  prompt='Generate a concise product description for the product: wireless earbuds.',\n",
        "  max_tokens=100,\n",
        "  return_likelihoods='GENERATION')\n",
        "print(response)"
      ]
    },
    {
      "cell_type": "markdown",
      "metadata": {
        "id": "TLLs-PmKAPOj"
      },
      "source": [
        "## Experimenting with prompt"
      ]
    },
    {
      "cell_type": "code",
      "execution_count": 35,
      "metadata": {
        "colab": {
          "base_uri": "https://localhost:8080/"
        },
        "id": "3z8AD8Od-_Vs",
        "outputId": "ab8ccac1-6b33-49ff-9a81-0572a204957d"
      },
      "outputs": [
        {
          "name": "stdout",
          "output_type": "stream",
          "text": [
            "Temperature range: [0.0, 1.0, 2.0, 3.0, 4.0, 5.0]\n",
            "----------\n",
            "Temperature: 0.0\n",
            "----------\n",
            "Generation #1\n",
            "Text: \n",
            "These wireless earbuds are perfect for anyone who wants a stylish and convenient way to listen to music, podcasts, and calls on the go. They feature a comfortable and secure fit, and provide clear and reliable sound. The wireless design makes it easy to take them with you wherever you go, and the built-in microphone allows you to take calls without having to reach for your phone.\n",
            "\n",
            "Likelihood: -0.24169345\n",
            "\n",
            "Generation #2\n",
            "Text: \n",
            "These wireless earbuds are perfect for anyone who wants a stylish and convenient way to listen to music, podcasts, and calls on the go. They feature a comfortable and secure fit, and provide clear and reliable sound. The wireless design makes it easy to take them with you wherever you go, and the built-in microphone allows you to take calls without having to reach for your phone.\n",
            "\n",
            "Likelihood: -0.24174544\n",
            "\n",
            "Generation #3\n",
            "Text: \n",
            "These wireless earbuds are perfect for anyone who wants a stylish and convenient way to listen to music, podcasts, and calls on the go. They feature a comfortable and secure fit, and provide clear and reliable sound. The wireless design makes it easy to take them with you wherever you go, and the built-in microphone allows you to take calls without having to reach for your phone.\n",
            "\n",
            "Likelihood: -0.24186853\n",
            "\n",
            "----------\n",
            "Temperature: 1.0\n",
            "----------\n",
            "Generation #1\n",
            "Text: \n",
            "These wireless earbuds provide crystal clear sound and a comfortable fit, making them perfect for anyone who wants a great listening experience without the hassle of cords.\n",
            "\n",
            "Likelihood: -0.35068986\n",
            "\n",
            "Generation #2\n",
            "Text: \n",
            "These wireless earbuds are perfect for anyone who wants a stylish and convenient way to listen to music on the go. The earbuds feature a sleek design and are equipped with Bluetooth technology, allowing you to connect to your device without the need for any wires.\n",
            "\n",
            "Likelihood: -0.29584596\n",
            "\n",
            "Generation #3\n",
            "Text: \n",
            "These wireless earbuds are perfect for anyone who wants a sleek and convenient way to listen to music, podcasts, and calls on the go. They feature a comfortable fit and a long battery life, so you can enjoy your favorite tunes without any distractions.\n",
            "\n",
            "Likelihood: -0.2792965\n",
            "\n",
            "----------\n",
            "Temperature: 2.0\n",
            "----------\n",
            "Generation #1\n",
            "Text: \n",
            "These wireless earbuds are designed for comfort and convenience. They are equipped with a built-in microphone and come with a charging case.\n",
            "\n",
            "Likelihood: -0.4079802\n",
            "\n",
            "Generation #2\n",
            "Text: \n",
            "These wireless earbuds provide crystal clear sound and a comfortable fit, making them perfect for listening to music, podcasts, and videos on the go. The earbuds feature a built-in microphone for taking calls and a charging case for convenient charging.\n",
            "\n",
            "Likelihood: -0.46216848\n",
            "\n",
            "Generation #3\n",
            "Text: \n",
            "Our new wireless earbuds offer a comfortable and stable fit, and provide clear and crisp sound quality. The earbuds are equipped with a built-in microphone for hands-free calls, and the battery provides up to 6 hours of continuous playback.\n",
            "\n",
            "Likelihood: -0.4467746\n",
            "\n",
            "----------\n",
            "Temperature: 3.0\n",
            "----------\n",
            "Generation #1\n",
            "Text: \n",
            "The wireless earbuds are a pair of compact and lightweight headphones that are designed to be worn in the ear. They are perfect for listening to music, podcasts, and other audio content on the go, and they are equipped with Bluetooth technology for wireless connectivity. The earbuds have a comfortable and secure fit, and they are equipped with noise-canceling technology for a clear and immersive listening experience.\n",
            "\n",
            "Likelihood: -0.30445257\n",
            "\n",
            "Generation #2\n",
            "Text: \n",
            "Our new wireless earbuds offer a comfortable and stable fit, while providing crystal clear sound quality. The earbuds are equipped with a built-in microphone and a rechargeable battery, providing up to 8 hours of continuous use.\n",
            "\n",
            "Likelihood: -0.5310579\n",
            "\n",
            "Generation #3\n",
            "Text: \n",
            "Introducing our new wireless earbuds - the perfect accessory for all your on-the-go needs! Enjoy crystal clear sound and comfortable, snug fit. No more tangled cords or bulky headphones - these earbuds are sleek, lightweight, and easy to use. With a built-in mic and controls, you can take calls and manage your music without any hassle. Plus, the wireless design means you can move freely and stay focused on your task at hand. Get your hands on our new wireless earbuds and experience\n",
            "\n",
            "Likelihood: -0.25217345\n",
            "\n",
            "----------\n",
            "Temperature: 4.0\n",
            "----------\n",
            "Generation #1\n",
            "Text: \n",
            "Wireless earbuds are a great way to listen to music and podcasts on the go without having to deal with any cords or cables. These earbuds connect to your device via Bluetooth, so you can enjoy your favorite tunes without any distractions. They are perfect for workouts, commutes, or just for casual listening.\n",
            "\n",
            "Likelihood: -0.3758022\n",
            "\n",
            "Generation #2\n",
            "Text: \n",
            "Wireless earbuds are a pair of small, in-ear devices that are used for listening to audio, typically music, without the use of cords or cables. They are typically connected to a device such as a smartphone or tablet via a wireless connection, such as Bluetooth, and can be used for hands-free calls as well as for listening to music.\n",
            "\n",
            "Likelihood: -0.29257452\n",
            "\n",
            "Generation #3\n",
            "Text: \n",
            "The wireless earbuds are a sleek and stylish way to listen to music, podcasts, and calls without the hassle of tangled cords. The earbuds feature a comfortable fit and provide clear sound quality.\n",
            "\n",
            "Likelihood: -0.34317347\n",
            "\n",
            "----------\n",
            "Temperature: 5.0\n",
            "----------\n",
            "Generation #1\n",
            "Text: \n",
            "Our new wireless earbuds offer a comfortable and stable fit, crystal clear sound, and a reliable Bluetooth connection.\n",
            "\n",
            "Likelihood: -0.5115531\n",
            "\n",
            "Generation #2\n",
            "Text: \n",
            "Our wireless earbuds are designed for comfortable, all-day wear, and feature a sleek, low-profile design that fits easily in your ears. The earbuds also feature a built-in microphone and intuitive touch controls, so you can easily take calls and control your music without having to reach for your phone.\n",
            "\n",
            "Likelihood: -0.5372846\n",
            "\n",
            "Generation #3\n",
            "Text: \n",
            "Our wireless earbuds offer a comfortable and convenient listening experience, whether you're on the go or at home. With a sleek and lightweight design, these earbuds are perfect for anyone who wants a stylish and practical way to listen to their favorite music and podcasts.\n",
            "\n",
            "Likelihood: -0.40044463\n",
            "\n"
          ]
        }
      ],
      "source": [
        "# Create a function to call the endpoint\n",
        "def generate_text(prompt,temperature,num_gens):\n",
        "  response = co.generate(\n",
        "    model='command',\n",
        "    prompt=prompt,\n",
        "    max_tokens=100,\n",
        "    temperature=temperature,\n",
        "    num_generations = num_gens,\n",
        "    return_likelihoods='GENERATION')\n",
        "  return response\n",
        "\n",
        "# Define the prompt\n",
        "prompt='Generate a concise product description for the product: wireless earbuds.'\n",
        "\n",
        "# Define the range of temperature values and num_generations\n",
        "temperatures = [x / 10.0 for x in range(0, 60, 10)]\n",
        "num_gens = 3\n",
        "\n",
        "# Iterate generation over the range of temperature values\n",
        "print(f\"Temperature range: {temperatures}\")\n",
        "for temperature in temperatures:\n",
        "  response = generate_text(prompt,temperature,num_gens)\n",
        "  print(\"-\"*10)\n",
        "  print(f'Temperature: {temperature}')\n",
        "  print(\"-\"*10)\n",
        "  for i in range(3):\n",
        "    text = response.generations[i].text\n",
        "    likelihood = response.generations[i].likelihood\n",
        "    print(f'Generation #{i+1}')\n",
        "    print(f'Text: {text}\\n')\n",
        "    print(f'Likelihood: {likelihood}\\n')"
      ]
    },
    {
      "cell_type": "code",
      "execution_count": null,
      "metadata": {
        "id": "k8Ex91fJVeth"
      },
      "outputs": [],
      "source": []
    }
  ],
  "metadata": {
    "colab": {
      "provenance": []
    },
    "kernelspec": {
      "display_name": "Python 3.10.5 64-bit ('3.10.5')",
      "language": "python",
      "name": "python3"
    },
    "language_info": {
      "name": "python",
      "version": "3.10.5"
    },
    "vscode": {
      "interpreter": {
        "hash": "3a0ab37a1f07e7d320af811f0819b193749e9675a96eea7a4830e92d810d141d"
      }
    }
  },
  "nbformat": 4,
  "nbformat_minor": 0
}
