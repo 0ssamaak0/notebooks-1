{
 "nbformat": 4,
 "nbformat_minor": 0,
 "metadata": {
  "colab": {
   "name": "Paraphrasing notebook.ipynb",
   "provenance": [],
   "collapsed_sections": []
  },
  "kernelspec": {
   "name": "python3",
   "display_name": "Python 3"
  },
  "language_info": {
   "name": "python"
  }
 },
 "cells": [
  {
   "cell_type": "markdown",
   "metadata": {
    "id": "J8BjXeY2UcnN"
   },
   "source": [
    "# Using Generation Models for Summarization\n",
    "This notebook demonstrates a simple way of using Cohere's generation models to summarize text.\n",
    "\n",
    "We will use a simple prompt that includes two examples and a task description: \n",
    "\n",
    "`\"<input phrase>\". In summary: \"<summary>\"`."
   ]
  },
  {
   "cell_type": "code",
   "metadata": {
    "id": "EqdDiovEBRLw",
    "colab": {
     "base_uri": "https://localhost:8080/"
    },
    "outputId": "b72dc9ea-d73f-4291-bc59-7d3b1d8490cd"
   },
   "source": [
    "# Let's first install Cohere's python SDK\n",
    "!pip install cohere"
   ],
   "execution_count": 4,
   "outputs": [
    {
     "output_type": "stream",
     "name": "stdout",
     "text": [
      "Collecting cohere\n",
      "  Downloading cohere-0.0.13-py3-none-any.whl (6.9 kB)\n",
      "Requirement already satisfied: requests in /usr/local/lib/python3.7/dist-packages (from cohere) (2.23.0)\n",
      "Requirement already satisfied: urllib3!=1.25.0,!=1.25.1,<1.26,>=1.21.1 in /usr/local/lib/python3.7/dist-packages (from requests->cohere) (1.24.3)\n",
      "Requirement already satisfied: idna<3,>=2.5 in /usr/local/lib/python3.7/dist-packages (from requests->cohere) (2.10)\n",
      "Requirement already satisfied: certifi>=2017.4.17 in /usr/local/lib/python3.7/dist-packages (from requests->cohere) (2021.5.30)\n",
      "Requirement already satisfied: chardet<4,>=3.0.2 in /usr/local/lib/python3.7/dist-packages (from requests->cohere) (3.0.4)\n",
      "Installing collected packages: cohere\n",
      "Successfully installed cohere-0.0.13\n"
     ]
    }
   ]
  },
  {
   "cell_type": "code",
   "metadata": {
    "id": "Hf-3hMa7BOkU"
   },
   "source": [
    "import cohere\n",
    "import time\n",
    "import pandas as pd\n",
    "# Paste your API key here. Remember to not share it publicly \n",
    "api_key = ''\n",
    "co = cohere.Client(api_key)"
   ],
   "execution_count": 5,
   "outputs": []
  },
  {
   "cell_type": "markdown",
   "metadata": {
    "id": "bOzfT9gJFfDl"
   },
   "source": [
    "\n",
    "Our prompt is geared for paraphrasing to simplify an input sentence. It contains two examples. The sentence we want it to summarize is:\n",
    "\n",
    "**Killer whales have a diverse diet, although individual populations often specialize in particular types of prey.**"
   ]
  },
  {
   "cell_type": "code",
   "metadata": {
    "colab": {
     "base_uri": "https://localhost:8080/"
    },
    "id": "douHOfl0JJq-",
    "outputId": "5df6eaba-3210-4e55-d6a9-7b40ae1d30b8"
   },
   "source": [
    "prompt = '''\"The killer whale or orca (Orcinus orca) is a toothed whale belonging to the oceanic dolphin family, of which it is the largest member\". In summary: \"The killer whale or orca is the largest type of dolphin\"\n",
    "\n",
    "\"It is recognizable by its black-and-white patterned body\". In summary:\"Its body has a black and white pattern.\"\n",
    "\n",
    "\"Killer whales have a diverse diet, although individual populations often specialize in particular types of prey\". In summary:\"'''\n",
    "print(prompt)"
   ],
   "execution_count": 9,
   "outputs": [
    {
     "output_type": "stream",
     "name": "stdout",
     "text": [
      "\"The killer whale or orca (Orcinus orca) is a toothed whale belonging to the oceanic dolphin family, of which it is the largest member\". In summary: \"The killer whale or orca is the largest type of dolphin\"\n",
      "\n",
      "\"It is recognizable by its black-and-white patterned body\". In summary:\"Its body has a black and white pattern.\"\n",
      "\n",
      "\"Killer whales have a diverse diet, although individual populations often specialize in particular types of prey\". In summary:\"\n"
     ]
    }
   ]
  },
  {
   "cell_type": "markdown",
   "metadata": {
    "id": "m3PO3HH6FqzQ"
   },
   "source": [
    "We get several completions from the model via the API"
   ]
  },
  {
   "cell_type": "code",
   "metadata": {
    "id": "s6wsSRKaBcai"
   },
   "source": [
    "n_completions = 5\n",
    "gens = []\n",
    "likelihoods = []\n",
    "for i in range(n_completions):\n",
    "  prediction = co.generate(\n",
    "    model='baseline-shark',\n",
    "    prompt=prompt,\n",
    "    return_likelihoods = 'GENERATION',\n",
    "    stop_sequences=['\"'],\n",
    "    max_tokens=50,\n",
    "    temperature=0.7,\n",
    "    k=0,\n",
    "    p=0.75)\n",
    "\n",
    "  gens.append(prediction.text)\n",
    "  sum_likelihood = 0\n",
    "  for t in prediction.token_likelihoods:\n",
    "    sum_likelihood += t['likelihood']\n",
    "  likelihoods.append(sum_likelihood)\n"
   ],
   "execution_count": 7,
   "outputs": []
  },
  {
   "cell_type": "code",
   "metadata": {
    "id": "2sLwp-3ABiVj",
    "colab": {
     "base_uri": "https://localhost:8080/",
     "height": 274
    },
    "outputId": "ddda4d8b-9f95-454f-f812-8b5d940936d2"
   },
   "source": [
    "pd.options.display.max_colwidth = 200\n",
    "# Create a dataframe for the generated sentences and their likelihood scores\n",
    "df = pd.DataFrame({'generation':gens, 'likelihood': likelihoods})\n",
    "# Drop duplicates\n",
    "df = df.drop_duplicates(subset=['generation'])\n",
    "# Sort by highest sum likelihood\n",
    "df = df.sort_values('likelihood', ascending=False, ignore_index=True)\n",
    "print('Candidate summaries for the sentence: \\n\"Killer whales have a diverse diet, although individual populations often specialize in particular types of prey.\"')\n",
    "df"
   ],
   "execution_count": 10,
   "outputs": [
    {
     "output_type": "stream",
     "name": "stdout",
     "text": [
      "Candidate summaries for the sentence: \n",
      "\"Killer whales have a diverse diet, although individual populations often specialize in particular types of prey.\"\n"
     ]
    },
    {
     "output_type": "execute_result",
     "data": {
      "text/html": [
       "<div>\n",
       "<style scoped>\n",
       "    .dataframe tbody tr th:only-of-type {\n",
       "        vertical-align: middle;\n",
       "    }\n",
       "\n",
       "    .dataframe tbody tr th {\n",
       "        vertical-align: top;\n",
       "    }\n",
       "\n",
       "    .dataframe thead th {\n",
       "        text-align: right;\n",
       "    }\n",
       "</style>\n",
       "<table border=\"1\" class=\"dataframe\">\n",
       "  <thead>\n",
       "    <tr style=\"text-align: right;\">\n",
       "      <th></th>\n",
       "      <th>generation</th>\n",
       "      <th>likelihood</th>\n",
       "    </tr>\n",
       "  </thead>\n",
       "  <tbody>\n",
       "    <tr>\n",
       "      <th>0</th>\n",
       "      <td>Killer whales have a diverse diet, although individual populations often specialize in particular types of prey.\"</td>\n",
       "      <td>-4.878381</td>\n",
       "    </tr>\n",
       "    <tr>\n",
       "      <th>1</th>\n",
       "      <td>Killer whales eat many different types of animals.\"</td>\n",
       "      <td>-10.016438</td>\n",
       "    </tr>\n",
       "    <tr>\n",
       "      <th>2</th>\n",
       "      <td>They eat fish, marine mammals, and sea birds.\"</td>\n",
       "      <td>-12.062806</td>\n",
       "    </tr>\n",
       "    <tr>\n",
       "      <th>3</th>\n",
       "      <td>Their diet consists of fish, seabirds, marine mammals, turtles, and other cetaceans.\"</td>\n",
       "      <td>-18.373332</td>\n",
       "    </tr>\n",
       "    <tr>\n",
       "      <th>4</th>\n",
       "      <td>They eat fish, shrimp, squid, seals, other dolphins, birds, and possibly even humans.\"</td>\n",
       "      <td>-29.302818</td>\n",
       "    </tr>\n",
       "  </tbody>\n",
       "</table>\n",
       "</div>"
      ],
      "text/plain": [
       "                                                                                                          generation  likelihood\n",
       "0  Killer whales have a diverse diet, although individual populations often specialize in particular types of prey.\"   -4.878381\n",
       "1                                                                Killer whales eat many different types of animals.\"  -10.016438\n",
       "2                                                                     They eat fish, marine mammals, and sea birds.\"  -12.062806\n",
       "3                              Their diet consists of fish, seabirds, marine mammals, turtles, and other cetaceans.\"  -18.373332\n",
       "4                             They eat fish, shrimp, squid, seals, other dolphins, birds, and possibly even humans.\"  -29.302818"
      ]
     },
     "metadata": {},
     "execution_count": 10
    }
   ]
  },
  {
   "cell_type": "markdown",
   "metadata": {
    "id": "M3HM7go_tebY"
   },
   "source": [
    "## Hyperparameters\n",
    "It's worth spending some time learning the various hyperparameters of the generation endpoint. Parameters like [temperature](https://docs.cohere.ai/temperature-wiki), for example, which tunes the degree of randomness in the generations. Other parameters include `frequency_penalty` and `presence_penalty` which can reduce the amount of repetition in the output of the model. See the [API reference of the generate endpoint](https://docs.cohere.ai/generate-reference) for more details on all the parameters."
   ]
  }
 ]
}