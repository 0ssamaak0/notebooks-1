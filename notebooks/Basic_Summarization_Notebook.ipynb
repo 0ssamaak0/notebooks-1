{
 "cells": [
  {
   "cell_type": "markdown",
   "metadata": {
    "id": "J8BjXeY2UcnN"
   },
   "source": [
    "# Using Generation Models for Summarization\n",
    "This notebook demonstrates a simple way of using Cohere's generation models to summarize text.\n",
    "<img src=\"https://github.com/cohere-ai/notebooks/raw/main/notebooks/images/summarization.png\"\n",
    "    style=\"width:100%; max-width:600px\" alt=\"provided with the right prompt, a language model can generate multiple candidate summaries\" />\n",
    "\n",
    "We will use a simple prompt that includes two examples and a task description:\n",
    "\n",
    "`\"<input phrase>\". In summary: \"<summary>\"`."
   ]
  },
  {
   "cell_type": "code",
   "execution_count": null,
   "metadata": {
    "colab": {
     "base_uri": "https://localhost:8080/"
    },
    "id": "EqdDiovEBRLw",
    "outputId": "b72dc9ea-d73f-4291-bc59-7d3b1d8490cd"
   },
   "outputs": [],
   "source": [
    "# Let's first install Cohere's python SDK\n",
    "!pip install cohere"
   ]
  },
  {
   "cell_type": "code",
   "execution_count": null,
   "metadata": {
    "id": "Hf-3hMa7BOkU"
   },
   "outputs": [],
   "source": [
    "import cohere\n",
    "import time\n",
    "import pandas as pd\n",
    "# Paste your API key here. Remember to not share it publicly \n",
    "api_key = ''\n",
    "co = cohere.Client(api_key)"
   ]
  },
  {
   "cell_type": "markdown",
   "metadata": {
    "id": "bOzfT9gJFfDl"
   },
   "source": [
    "\n",
    "Our prompt is geared for paraphrasing to simplify an input sentence. It contains two examples. The sentence we want it to summarize is:\n",
    "\n",
    "**Killer whales have a diverse diet, although individual populations often specialize in particular types of prey.**"
   ]
  },
  {
   "cell_type": "code",
   "execution_count": null,
   "metadata": {
    "colab": {
     "base_uri": "https://localhost:8080/"
    },
    "id": "douHOfl0JJq-",
    "outputId": "5df6eaba-3210-4e55-d6a9-7b40ae1d30b8"
   },
   "outputs": [],
   "source": [
    "prompt = '''\"The killer whale or orca (Orcinus orca) is a toothed whale belonging to the oceanic dolphin family, of which it is the largest member\". In summary: \"The killer whale or orca is the largest type of dolphin\"\n",
    "\n",
    "\"It is recognizable by its black-and-white patterned body\". In summary:\"Its body has a black and white pattern.\"\n",
    "\n",
    "\"Killer whales have a diverse diet, although individual populations often specialize in particular types of prey\". In summary:\"'''\n",
    "print(prompt)"
   ]
  },
  {
   "cell_type": "markdown",
   "metadata": {
    "id": "m3PO3HH6FqzQ"
   },
   "source": [
    "We get several completions from the model via the API"
   ]
  },
  {
   "cell_type": "code",
   "execution_count": null,
   "metadata": {
    "id": "s6wsSRKaBcai"
   },
   "outputs": [],
   "source": [
    "n_completions = 5\n",
    "\n",
    "prediction = co.generate(\n",
    "    model='large',\n",
    "    prompt=prompt,\n",
    "    return_likelihoods = 'GENERATION',\n",
    "    stop_sequences=['\"'],\n",
    "    max_tokens=50,\n",
    "    temperature=0.7,\n",
    "    num_generations=n_generations,\n",
    "    k=0,\n",
    "    p=0.75)\n"
   ]
  },
  {
   "cell_type": "code",
   "execution_count": null,
   "metadata": {},
   "outputs": [],
   "source": [
    "prediction.generations[0].token_likelihoods[0].likelihood"
   ]
  },
  {
   "cell_type": "code",
   "execution_count": null,
   "metadata": {},
   "outputs": [],
   "source": [
    "# Get list of generations\n",
    "gens = []\n",
    "likelihoods = []\n",
    "for gen in prediction.generations:\n",
    "    gens.append(gen.text)\n",
    "    \n",
    "    sum_likelihood = 0\n",
    "    for t in gen.token_likelihoods:\n",
    "        sum_likelihood += t.likelihood\n",
    "    # Get sum of likelihoods\n",
    "    likelihoods.append(sum_likelihood)\n"
   ]
  },
  {
   "cell_type": "code",
   "execution_count": null,
   "metadata": {
    "colab": {
     "base_uri": "https://localhost:8080/",
     "height": 274
    },
    "id": "2sLwp-3ABiVj",
    "outputId": "ddda4d8b-9f95-454f-f812-8b5d940936d2"
   },
   "outputs": [],
   "source": [
    "pd.options.display.max_colwidth = 200\n",
    "# Create a dataframe for the generated sentences and their likelihood scores\n",
    "df = pd.DataFrame({'generation':gens, 'likelihood': likelihoods})\n",
    "# Drop duplicates\n",
    "df = df.drop_duplicates(subset=['generation'])\n",
    "# Sort by highest sum likelihood\n",
    "df = df.sort_values('likelihood', ascending=False, ignore_index=True)\n",
    "print('Candidate summaries for the sentence: \\n\"Killer whales have a diverse diet, although individual populations often specialize in particular types of prey.\"')\n",
    "df"
   ]
  },
  {
   "cell_type": "markdown",
   "metadata": {
    "id": "M3HM7go_tebY"
   },
   "source": [
    "## Hyperparameters\n",
    "It's worth spending some time learning the various hyperparameters of the generation endpoint. For example, [temperature](https://docs.cohere.ai/temperature-wiki) tunes the degree of randomness in the generations. Other parameters include `frequency_penalty` and `presence_penalty` which can reduce the amount of repetition in the output of the model. See the [API reference of the generate endpoint](https://docs.cohere.ai/generate-reference) for more details on all the parameters."
   ]
  }
 ],
 "metadata": {
  "colab": {
   "collapsed_sections": [],
   "name": "Basic Summarization Notebook.ipynb",
   "provenance": []
  },
  "kernelspec": {
   "display_name": "Python 3 (ipykernel)",
   "language": "python",
   "name": "python3"
  },
  "language_info": {
   "codemirror_mode": {
    "name": "ipython",
    "version": 3
   },
   "file_extension": ".py",
   "mimetype": "text/x-python",
   "name": "python",
   "nbconvert_exporter": "python",
   "pygments_lexer": "ipython3",
   "version": "3.9.7"
  }
 },
 "nbformat": 4,
 "nbformat_minor": 4
}
