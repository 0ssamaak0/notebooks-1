{
  "cells": [
    {
      "cell_type": "markdown",
      "metadata": {
        "id": "VBl2lBqo2Csf"
      },
      "source": [
        "<a target=\"_blank\" href=\"https://colab.research.google.com/github/cohere-ai/notebooks/blob/main/notebooks/Command_Model_Use_Case_Patterns.ipynb\">\n",
        "  <img src=\"https://colab.research.google.com/assets/colab-badge.svg\" alt=\"Open In Colab\"/>\n",
        "</a>"
      ]
    },
    {
      "cell_type": "markdown",
      "metadata": {
        "id": "C74GOs2fs6hK"
      },
      "source": [
        "# Command Model Use Case Patterns"
      ]
    },
    {
      "cell_type": "markdown",
      "metadata": {
        "id": "1YFStK_W1JUD"
      },
      "source": [
        "Large language models (LLMs) like the Command model are general-purpose and can be applied in infinite ways, but if one can’t recognize the patterns where they can be useful, it can feel overwhelming.\n",
        "\n",
        "In this notebook, we’ll go through several broad use case categories for the Command model.\n",
        "\n",
        "Read the accompanying [article here](https://txt.cohere.ai/command-usecase-patterns/)."
      ]
    },
    {
      "cell_type": "code",
      "execution_count": null,
      "metadata": {
        "colab": {
          "base_uri": "https://localhost:8080/"
        },
        "id": "WHQ4JUdzPmwO",
        "outputId": "75bfd27c-32d3-4802-d5d5-dd6016ec34ae"
      },
      "outputs": [
        {
          "name": "stdout",
          "output_type": "stream",
          "text": [
            "\u001b[?25l     \u001b[90m━━━━━━━━━━━━━━━━━━━━━━━━━━━━━━━━━━━━━━━━\u001b[0m \u001b[32m0.0/117.2 kB\u001b[0m \u001b[31m?\u001b[0m eta \u001b[36m-:--:--\u001b[0m\r\u001b[2K     \u001b[91m━━━━━━━━━━━━━━━━━━━━━━━━━━━━━━━\u001b[0m\u001b[90m╺\u001b[0m\u001b[90m━━━━━━━━\u001b[0m \u001b[32m92.2/117.2 kB\u001b[0m \u001b[31m2.6 MB/s\u001b[0m eta \u001b[36m0:00:01\u001b[0m\r\u001b[2K     \u001b[90m━━━━━━━━━━━━━━━━━━━━━━━━━━━━━━━━━━━━━━━━\u001b[0m \u001b[32m117.2/117.2 kB\u001b[0m \u001b[31m2.0 MB/s\u001b[0m eta \u001b[36m0:00:00\u001b[0m\n",
            "\u001b[2K     \u001b[90m━━━━━━━━━━━━━━━━━━━━━━━━━━━━━━━━━━━━━━━━\u001b[0m \u001b[32m75.6/75.6 kB\u001b[0m \u001b[31m5.6 MB/s\u001b[0m eta \u001b[36m0:00:00\u001b[0m\n",
            "\u001b[2K     \u001b[90m━━━━━━━━━━━━━━━━━━━━━━━━━━━━━━━━━━━━━━━━\u001b[0m \u001b[32m77.8/77.8 kB\u001b[0m \u001b[31m5.6 MB/s\u001b[0m eta \u001b[36m0:00:00\u001b[0m\n",
            "\u001b[2K     \u001b[90m━━━━━━━━━━━━━━━━━━━━━━━━━━━━━━━━━━━━━━━━\u001b[0m \u001b[32m58.3/58.3 kB\u001b[0m \u001b[31m4.4 MB/s\u001b[0m eta \u001b[36m0:00:00\u001b[0m\n",
            "\u001b[?25h"
          ]
        }
      ],
      "source": [
        "! pip install \"cohere<5\" -q"
      ]
    },
    {
      "cell_type": "markdown",
      "metadata": {},
      "source": [
        "# Setup"
      ]
    },
    {
      "cell_type": "code",
      "execution_count": null,
      "metadata": {
        "colab": {
          "base_uri": "https://localhost:8080/",
          "height": 17
        },
        "id": "qpmsBwBaFSkp",
        "outputId": "6240628f-1035-4186-fa2a-1a80bbc720e3"
      },
      "outputs": [
        {
          "data": {
            "text/html": [
              "\n",
              "  <style>\n",
              "    pre {\n",
              "        white-space: pre-wrap;\n",
              "    }\n",
              "  </style>\n",
              "  "
            ],
            "text/plain": [
              "<IPython.core.display.HTML object>"
            ]
          },
          "metadata": {},
          "output_type": "display_data"
        }
      ],
      "source": [
        "import cohere\n",
        "co = cohere.Client(\"COHERE_API_KEY\") # Get your API key: https://dashboard.cohere.com/api-keys"
      ]
    },
    {
      "cell_type": "code",
      "execution_count": null,
      "metadata": {
        "cellView": "form",
        "id": "pAsu11KXaIt1"
      },
      "outputs": [],
      "source": [
        "#@title Enable text wrapping in Google Colab\n",
        "\n",
        "from IPython.display import HTML, display\n",
        "\n",
        "def set_css():\n",
        "  display(HTML('''\n",
        "  <style>\n",
        "    pre {\n",
        "        white-space: pre-wrap;\n",
        "    }\n",
        "  </style>\n",
        "  '''))\n",
        "get_ipython().events.register('pre_run_cell', set_css)"
      ]
    },
    {
      "cell_type": "markdown",
      "metadata": {
        "id": "SV4ZkXbZnX8q"
      },
      "source": [
        "# Function to generate text"
      ]
    },
    {
      "cell_type": "markdown",
      "metadata": {
        "id": "h3eAX0ponbKH"
      },
      "source": [
        "Let’s define a text generation function that we'll use throughout this notebook."
      ]
    },
    {
      "cell_type": "code",
      "execution_count": null,
      "metadata": {
        "colab": {
          "base_uri": "https://localhost:8080/",
          "height": 17
        },
        "id": "6rv9T2aJP1zS",
        "outputId": "aa9217b6-faa4-4505-f6d3-a9f318d13f39"
      },
      "outputs": [
        {
          "data": {
            "text/html": [
              "\n",
              "  <style>\n",
              "    pre {\n",
              "        white-space: pre-wrap;\n",
              "    }\n",
              "  </style>\n",
              "  "
            ],
            "text/plain": [
              "<IPython.core.display.HTML object>"
            ]
          },
          "metadata": {},
          "output_type": "display_data"
        }
      ],
      "source": [
        "def generate_text(prompt, temp=0):\n",
        "  response = co.chat_stream(\n",
        "    message=prompt,\n",
        "    model=\"command-r\",\n",
        "    temperature=temp,\n",
        "    preamble=\"\")\n",
        "\n",
        "  for event in response:\n",
        "      if event.event_type == \"text-generation\":\n",
        "          print(event.text, end='')"
      ]
    },
    {
      "cell_type": "markdown",
      "metadata": {
        "id": "huil2jEmnwCk"
      },
      "source": [
        "# Define a text snippet for context"
      ]
    },
    {
      "cell_type": "markdown",
      "metadata": {
        "id": "nn-3n-nRntTW"
      },
      "source": [
        "Our examples will revolve around a company’s activities for launching a new wireless headphone product, such as getting the word out, managing customer interactions, and so on. For this, let’s define a text snippet containing the product description. We’ll be utilizing this snippet in several examples throughout."
      ]
    },
    {
      "cell_type": "code",
      "execution_count": null,
      "metadata": {
        "colab": {
          "base_uri": "https://localhost:8080/",
          "height": 71
        },
        "id": "DJXcGzBYhfri",
        "outputId": "a82eafcd-5ae7-439a-c8b6-222f02babbac"
      },
      "outputs": [
        {
          "data": {
            "text/html": [
              "\n",
              "  <style>\n",
              "    pre {\n",
              "        white-space: pre-wrap;\n",
              "    }\n",
              "  </style>\n",
              "  "
            ],
            "text/plain": [
              "<IPython.core.display.HTML object>"
            ]
          },
          "metadata": {},
          "output_type": "display_data"
        },
        {
          "name": "stdout",
          "output_type": "stream",
          "text": [
            "The CO-1T is a wireless headphone product that uses Bluetooth technology to connect to your devices. It has a long battery life and can be quickly charged using the included USB cable. The headphone is lightweight and comfortable, ideal for long periods of use. It has a built-in microphone for making calls, and a button to control the volume. The CO-1T is a great choice for anyone looking for a wireless headphone product with great battery life.\n"
          ]
        }
      ],
      "source": [
        "product=\"\"\"The CO-1T is a wireless headphone product that uses Bluetooth technology to connect to your devices. \\\n",
        "It has a long battery life and can be quickly charged using the included USB cable. The headphone is \\\n",
        "lightweight and comfortable, ideal for long periods of use. It has a built-in microphone for making calls, \\\n",
        "and a button to control the volume. The CO-1T is a great choice for anyone looking for a wireless headphone \\\n",
        "product with great battery life.\"\"\"\n",
        "print(product)\n"
      ]
    },
    {
      "cell_type": "markdown",
      "metadata": {
        "id": "N7MkHhc7Vasb"
      },
      "source": [
        "# Writing"
      ]
    },
    {
      "cell_type": "markdown",
      "metadata": {
        "id": "P3uqafCkn42o"
      },
      "source": [
        "We’ll start with the most general type of use case, which is writing. Let’s say we’re building an application for users to enter some bullet points and get a complete email written. We can set up the prompt in the following way: create a variable for the user to input some text and merge that, together with the product description, into the main prompt.\n",
        "\n"
      ]
    },
    {
      "cell_type": "code",
      "execution_count": null,
      "metadata": {
        "colab": {
          "base_uri": "https://localhost:8080/",
          "height": 321
        },
        "id": "mqSvO1rGnOfh",
        "outputId": "96ec2fbe-7882-4f15-b3ce-739552b100c7"
      },
      "outputs": [
        {
          "data": {
            "text/html": [
              "\n",
              "  <style>\n",
              "    pre {\n",
              "        white-space: pre-wrap;\n",
              "    }\n",
              "  </style>\n",
              "  "
            ],
            "text/plain": [
              "<IPython.core.display.HTML object>"
            ]
          },
          "metadata": {},
          "output_type": "display_data"
        },
        {
          "name": "stdout",
          "output_type": "stream",
          "text": [
            "We are thrilled to announce the launch of our newest wireless headphones, the CO-1T! These headphones are designed to offer a seamless and convenient listening experience with the use of Bluetooth technology, giving you the freedom to connect to your devices wirelessly.\n",
            "\n",
            "The CO-1T is crafted to be comfortable and lightweight, making it the perfect companion for your daily commutes or workouts. With a long-lasting battery life, you'll never have to worry about running out of charge during your day. Plus, a quick charge feature ensures you're always ready to go. Simply use the included USB cable for efficient charging.\n",
            "\n",
            "Control your volume and manage your calls effortlessly with the built-in microphone and easy-to-use button controls. Experience the convenience of wireless connectivity and immerse yourself in crystal-clear audio.\n",
            "\n",
            "We believe our product will provide an exceptional listening experience and enhance your daily routine. Try it out today and discover the convenience of wireless freedom!\n",
            "\n",
            "If you have any questions or need further assistance, our team is here to help. Feel free to reach out to us through our live chat feature on our website, and we'll be happy to assist you.\n",
            "\n",
            "Thank you, and we hope you enjoy the CO-1T wireless headphones!"
          ]
        }
      ],
      "source": [
        "user_input =\"\"\"\n",
        "- announce product launch\n",
        "- create a call to action\n",
        "- mention live chat for support\n",
        "\"\"\"\n",
        "\n",
        "prompt = f\"\"\"{product}\n",
        "Create an email about the product above mentioning the following:\n",
        "{user_input}\n",
        "\"\"\"\n",
        "\n",
        "generate_text(prompt, temp=0.5)"
      ]
    },
    {
      "cell_type": "markdown",
      "metadata": {
        "id": "biRqvt-VWXtF"
      },
      "source": [
        "# Question Answering (Closed)"
      ]
    },
    {
      "cell_type": "markdown",
      "metadata": {
        "id": "myl3D7kioDmb"
      },
      "source": [
        "This use case is about answering a question that a user asks, be it in a single-turn, question answering scenario or a multi-turn, chatbot setting.\n",
        "\n"
      ]
    },
    {
      "cell_type": "markdown",
      "metadata": {
        "id": "8Oq6BJJcoGNY"
      },
      "source": [
        "Question answering can take place in either a closed or open setting. In a closed-book question answering setting, we rely on the model to answer questions based on the general knowledge from which it has been trained."
      ]
    },
    {
      "cell_type": "code",
      "execution_count": null,
      "metadata": {
        "colab": {
          "base_uri": "https://localhost:8080/",
          "height": 606
        },
        "id": "3GD2nyk0uPHu",
        "outputId": "47aaed79-3134-4b6c-f187-56f528a67de7"
      },
      "outputs": [
        {
          "data": {
            "text/html": [
              "\n",
              "  <style>\n",
              "    pre {\n",
              "        white-space: pre-wrap;\n",
              "    }\n",
              "  </style>\n",
              "  "
            ],
            "text/plain": [
              "<IPython.core.display.HTML object>"
            ]
          },
          "metadata": {},
          "output_type": "display_data"
        },
        {
          "name": "stdout",
          "output_type": "stream",
          "text": [
            "There are several features to consider when choosing a wireless headphone that best suits your needs:\n",
            "\n",
            "1. Sound Quality: This is a primary factor for many people. Look for headphones with clear and balanced audio reproduction, good bass, and a wide frequency response. Some brands are known for their audio expertise and use high-quality drivers for superior sound.\n",
            "\n",
            "2. Noise Cancellation: Wireless headphones with active noise cancellation (ANC) technology are excellent for reducing ambient noise and enhancing focus on your music or calls. They use microphones to detect external sound and produce an opposite signal to cancel it out.\n",
            "\n",
            "3. Connectivity: Ensure the wireless headphones have Bluetooth compatibility with your devices, such as smartphones, tablets, or laptops. Some headphones also support multi-device pairing, allowing seamless connection switching.\n",
            "\n",
            "4. Battery Life: Longer battery life ensures you won't be frequently charged. Look for headphones that offer at least 15-20 hours of continuous playback on a single charge. Also, check the charging time and consider if the headphone supports fast charging.\n",
            "\n",
            "5. Comfort and Design: Consider the comfort of the ear pads and the overall design. Look for ergonomic designs, adjustable headbands, and lightweight construction for extended wear. Also, choose between in-ear, on-ear, or over-the-ear models based on your preference and portability.\n",
            "\n",
            "6. Controls and Microphone: Easy-to-use controls for playback, volume, and calls are essential. A good microphone quality is crucial for clear calls and voice commands. Some headphones have touch-sensitive controls on the earcups, while others have physical buttons.\n",
            "\n",
            "7. Voice Assistant Integration: If you're into voice commands, look for headphones with built-in support for virtual assistants like Siri or Google Assistant. This allows you to control various functions hands-free.\n",
            "\n",
            "8. Multi-Point Connection: This feature lets you connect your headphones simultaneously to multiple devices. This way, you can switch between your laptop and smartphone effortlessly.\n",
            "\n",
            "9. Water and Sweat Resistance: If you plan to use your headphones during workouts or in rainy weather, consider a model with an IPX rating for water resistance.\n",
            "\n",
            "10. Price and Warranty: Determine your budget and check the warranty period offered by the manufacturer for any potential issues.\n",
            "\n",
            "Remember to read reviews and guides from reputable sources and consider trying them out, if possible, to ensure a comfortable and enjoyable listening experience."
          ]
        }
      ],
      "source": [
        "user_input =\"What features should I consider when choosing a wireless headphone\"\n",
        "prompt = user_input\n",
        "\n",
        "generate_text(prompt, temp=0.5)"
      ]
    },
    {
      "cell_type": "markdown",
      "metadata": {
        "id": "8CmGy0HpWXzy"
      },
      "source": [
        "# Question Answering (Open)"
      ]
    },
    {
      "cell_type": "markdown",
      "metadata": {
        "id": "nQvZ6DYgoP2U"
      },
      "source": [
        "In an open setting, we can get the model to refer to specific knowledge bases to help it do its job well. This way, we can design a system that can handle questions that require factual responses."
      ]
    },
    {
      "cell_type": "code",
      "execution_count": null,
      "metadata": {
        "colab": {
          "base_uri": "https://localhost:8080/",
          "height": 35
        },
        "id": "L7Ir2LWNzgPZ",
        "outputId": "9592127f-8b9a-4cae-9e6a-c8af1bacab21"
      },
      "outputs": [
        {
          "data": {
            "text/html": [
              "\n",
              "  <style>\n",
              "    pre {\n",
              "        white-space: pre-wrap;\n",
              "    }\n",
              "  </style>\n",
              "  "
            ],
            "text/plain": [
              "<IPython.core.display.HTML object>"
            ]
          },
          "metadata": {},
          "output_type": "display_data"
        },
        {
          "name": "stdout",
          "output_type": "stream",
          "text": [
            "You can control the volume using the button built into the headphones."
          ]
        }
      ],
      "source": [
        "user_input =\"How do I control the sound levels\"\n",
        "\n",
        "prompt = f\"\"\"{product}\n",
        "Answer this question based on the context provided above: {user_input}\"\"\"\n",
        "\n",
        "generate_text(prompt, temp=0)"
      ]
    },
    {
      "cell_type": "markdown",
      "metadata": {
        "id": "7ym6wmx8VYy4"
      },
      "source": [
        "# Brainstorming"
      ]
    },
    {
      "cell_type": "markdown",
      "metadata": {
        "id": "snxSrkHEoX4H"
      },
      "source": [
        "Another form of writing is brainstorming, where we want the model to generate a list of options based on a given prompt. This can be for writing outlines, generating ideas, providing critical analysis, and so on. This use case forces the model to go broad and cover different perspectives of a situation."
      ]
    },
    {
      "cell_type": "code",
      "execution_count": null,
      "metadata": {
        "colab": {
          "base_uri": "https://localhost:8080/",
          "height": 196
        },
        "id": "qP9m1BKCvX3W",
        "outputId": "98659174-86e9-480e-8ebd-dff30d786d6d"
      },
      "outputs": [
        {
          "data": {
            "text/html": [
              "\n",
              "  <style>\n",
              "    pre {\n",
              "        white-space: pre-wrap;\n",
              "    }\n",
              "  </style>\n",
              "  "
            ],
            "text/plain": [
              "<IPython.core.display.HTML object>"
            ]
          },
          "metadata": {},
          "output_type": "display_data"
        },
        {
          "name": "stdout",
          "output_type": "stream",
          "text": [
            "Here is a list of possible ways to troubleshoot the customer's problem with the Bluetooth connection for the CO-1T wireless headphones: \n",
            "\n",
            "- Suggest forgetting the existing Bluetooth connection and reinstalling it from scratch\n",
            "- Recommend updating the software of the device they are trying to connect to\n",
            "- Inquiry about whether the customer's device is compatible with the headphone's Bluetooth profile\n",
            "- Suggest a factory reset of the headphones themselves, but warn that this option should only be used if other troubleshooting steps fail. \n",
            "\n",
            "Let me know if you would like me to provide more options to troubleshoot potential problems with the CO-1T headphones."
          ]
        }
      ],
      "source": [
        "user_input =\"I can't get the Bluetooth connection working\"\n",
        "prompt = f\"\"\"{product}\n",
        "A customer provided the following complaint about this product: {user_input}.\n",
        "Provide a bulleted list of possible ways to troubleshoot so we can advise the customer accordingly.\n",
        "\"\"\"\n",
        "\n",
        "generate_text(prompt, temp=0.3)"
      ]
    },
    {
      "cell_type": "markdown",
      "metadata": {
        "id": "lHgDOw_YVZqq"
      },
      "source": [
        "# Transforming"
      ]
    },
    {
      "cell_type": "markdown",
      "metadata": {
        "id": "VJbHkIwdobwn"
      },
      "source": [
        "The first thing that comes to mind when thinking about generative models is their ability to write a fresh piece of text, but one aspect that is rather understated is their ability to synthesize an existing piece of text.\n",
        "\n",
        "One example is transforming a passage of text into a different form, making it reusable for different purposes."
      ]
    },
    {
      "cell_type": "code",
      "execution_count": null,
      "metadata": {
        "colab": {
          "base_uri": "https://localhost:8080/",
          "height": 410
        },
        "id": "T7VksEa4hvUV",
        "outputId": "034ed6de-260b-403f-dfed-1f97c9a00c2f"
      },
      "outputs": [
        {
          "data": {
            "text/html": [
              "\n",
              "  <style>\n",
              "    pre {\n",
              "        white-space: pre-wrap;\n",
              "    }\n",
              "  </style>\n",
              "  "
            ],
            "text/plain": [
              "<IPython.core.display.HTML object>"
            ]
          },
          "metadata": {},
          "output_type": "display_data"
        },
        {
          "name": "stdout",
          "output_type": "stream",
          "text": [
            "Here is the product description turned into an FAQ format:\n",
            "\n",
            "FAQ:\n",
            "\n",
            "Q: How does the CO-1T connect to my devices?\n",
            "A: The CO-1T uses Bluetooth technology to connect wirelessly to your smartphones, laptops, or other compatible devices.\n",
            "\n",
            "Q: What is the battery life like?\n",
            "A: The CO-1T has an excellent battery life that will last you long periods of use. It also charges quickly using the included USB cable, so you won't have to wait long to get back to listening.\n",
            "\n",
            "Q: Is it comfortable to wear?\n",
            "A: Absolutely! The CO-1T headphones are lightweight and designed to be comfortable for extended periods. They are perfect for listening to music, taking calls, or using them for work.\n",
            "\n",
            "Q: Does it have a microphone and volume control?\n",
            "A: Yes, the headphone has a built-in microphone, making it easy to take calls on the go. There's also a button that allows you to adjust the volume according to your preference.\n",
            "\n",
            "Q: Why should I choose the CO-1T over other wireless headphones?\n",
            "A: Besides the excellent battery life and comfortable design, the CO-1T is a great choice for anyone looking for a reliable and convenient wireless headphone option at an affordable price. It's quick to charge, easy to use, and perfect for everyday use."
          ]
        }
      ],
      "source": [
        "prompt =f\"\"\"Turn the following product description into a list of frequently asked questions (FAQ).\n",
        "\n",
        "Product description: {product}\n",
        "\"\"\"\n",
        "generate_text(prompt, temp=0)"
      ]
    },
    {
      "cell_type": "markdown",
      "metadata": {
        "id": "lXZ5CMUJVZJ-"
      },
      "source": [
        "# Summarizing"
      ]
    },
    {
      "cell_type": "markdown",
      "metadata": {
        "id": "IB3OmRxbogL5"
      },
      "source": [
        "One popular use case for synthesizing text is summarization. Here we take a long passage of text and summarize it to its essence. These can be articles, conversation transcripts, reports, meeting notes, and so on.\n",
        "\n"
      ]
    },
    {
      "cell_type": "code",
      "execution_count": null,
      "metadata": {
        "colab": {
          "base_uri": "https://localhost:8080/",
          "height": 17
        },
        "id": "ePESFJCRdtec",
        "outputId": "3b55666f-6a73-4c88-ce34-1e380772e9aa"
      },
      "outputs": [
        {
          "data": {
            "text/html": [
              "\n",
              "  <style>\n",
              "    pre {\n",
              "        white-space: pre-wrap;\n",
              "    }\n",
              "  </style>\n",
              "  "
            ],
            "text/plain": [
              "<IPython.core.display.HTML object>"
            ]
          },
          "metadata": {},
          "output_type": "display_data"
        }
      ],
      "source": [
        "user_input =\"\"\"Customer reviews of the CO-1T wireless headphones:\n",
        "\n",
        "\"The CO-1T is a great pair of headphones! The design is sleek and modern, and the headphones are \\\n",
        "very comfortable to wear. The sound quality is excellent, and I can hear every detail of my music. \\\n",
        "The built-in microphone means I can make calls without having to take my phone out of my pocket. I \\\n",
        "highly recommend the CO-1T to anyone looking for a great pair of wireless headphones!\"\n",
        "\n",
        "\"I'm very disappointed with the CO-1T. The design is nice, but the battery life is terrible. I can \\\n",
        "only use them for a few hours before they need to be recharged. This is very inconvenient, and I'm \\\n",
        "not sure if I can recommend them to anyone.\"\n",
        "\n",
        "\"The CO-1T is a mixed bag. The speaker quality is great, but the built-in microphone's quality is \\\n",
        "poor. I can hear every detail of my music, but my voice sounds distorted when I make calls. The \\\n",
        "design is nice, and the headphones are comfortable to wear, but the battery life is only average. \\\n",
        "I'm not sure if I can recommend them to anyone.\"\n",
        "\"\"\""
      ]
    },
    {
      "cell_type": "code",
      "execution_count": null,
      "metadata": {
        "colab": {
          "base_uri": "https://localhost:8080/",
          "height": 88
        },
        "id": "jhiPxQH642PL",
        "outputId": "f2694273-6d3a-4e57-8c09-baccdd3e92b1"
      },
      "outputs": [
        {
          "data": {
            "text/html": [
              "\n",
              "  <style>\n",
              "    pre {\n",
              "        white-space: pre-wrap;\n",
              "    }\n",
              "  </style>\n",
              "  "
            ],
            "text/plain": [
              "<IPython.core.display.HTML object>"
            ]
          },
          "metadata": {},
          "output_type": "display_data"
        },
        {
          "name": "stdout",
          "output_type": "stream",
          "text": [
            "The CO-1T wireless headphones have a sleek, modern design and are comfortable to wear. They offer excellent sound quality, with clear and detailed audio. However, the reviews are mixed when it comes to the built-in microphone's quality, with some users reporting distortion. The battery life is a major downside, lasting only a few hours on a single charge. Overall, the CO-1T seems like a decent option for those prioritizing sound quality and comfort, but the mediocre battery life and inconsistent microphone quality might be dealbreakers for some."
          ]
        }
      ],
      "source": [
        "prompt = f\"\"\"Summarize the following.\n",
        "\n",
        "{user_input}\n",
        "\"\"\"\n",
        "\n",
        "generate_text(prompt, temp=0)"
      ]
    },
    {
      "cell_type": "markdown",
      "metadata": {
        "id": "UaPZNikOVoyV"
      },
      "source": [
        "# Rewriting"
      ]
    },
    {
      "cell_type": "markdown",
      "metadata": {
        "id": "uDzG7eiXojGF"
      },
      "source": [
        "Rewriting text is another useful use case where you need to modify some aspects of the text while maintaining its overall meaning."
      ]
    },
    {
      "cell_type": "code",
      "execution_count": null,
      "metadata": {
        "colab": {
          "base_uri": "https://localhost:8080/",
          "height": 106
        },
        "id": "M6UlpY_en3V_",
        "outputId": "a6ba58e1-56f6-4b80-8c8e-bea87c329c1d"
      },
      "outputs": [
        {
          "data": {
            "text/html": [
              "\n",
              "  <style>\n",
              "    pre {\n",
              "        white-space: pre-wrap;\n",
              "    }\n",
              "  </style>\n",
              "  "
            ],
            "text/plain": [
              "<IPython.core.display.HTML object>"
            ]
          },
          "metadata": {},
          "output_type": "display_data"
        },
        {
          "name": "stdout",
          "output_type": "stream",
          "text": [
            "The CO-1T headphones are the ultimate wireless companion for any college student. With Bluetooth capabilities, you can easily connect to your laptop, phone, or tablet without the hassle of tangling cords. Study for long hours without discomfort or interruption - the lightweight design ensures comfort and the long battery life keeps you connected throughout the day. Quick charge the batteries using the included USB cable when you're running short on time, and use the built-in microphone to stay connected with your friends and family. Control your audio easily with the volume button, and focus on what really matters - acing your courses!"
          ]
        }
      ],
      "source": [
        "user_input = \"college students\"\n",
        "\n",
        "prompt = f\"\"\"Create a version of this product description that's tailored towards {user_input}.\n",
        "\n",
        "{product}\"\"\"\n",
        "\n",
        "generate_text(prompt, temp=0.5)"
      ]
    },
    {
      "cell_type": "markdown",
      "metadata": {
        "id": "VvrU1cNVVo6s"
      },
      "source": [
        "# Extracting"
      ]
    },
    {
      "cell_type": "markdown",
      "metadata": {
        "id": "xTBRKc2LomfC"
      },
      "source": [
        "In information extraction, we leverage the model’s ability to capture the context of a piece of text to extract the right information as specified by the prompt."
      ]
    },
    {
      "cell_type": "code",
      "execution_count": null,
      "metadata": {
        "colab": {
          "base_uri": "https://localhost:8080/",
          "height": 71
        },
        "id": "qLiKCYEX5LQj",
        "outputId": "5cf50c4b-130d-4c1e-bf54-1f4d7fcd1370"
      },
      "outputs": [
        {
          "data": {
            "text/html": [
              "\n",
              "  <style>\n",
              "    pre {\n",
              "        white-space: pre-wrap;\n",
              "    }\n",
              "  </style>\n",
              "  "
            ],
            "text/plain": [
              "<IPython.core.display.HTML object>"
            ]
          },
          "metadata": {},
          "output_type": "display_data"
        },
        {
          "name": "stdout",
          "output_type": "stream",
          "text": [
            "Product: CO-1T\n",
            "Refund Reason: Poor battery life\n",
            "Pick-up Address: 171 John Street, Toronto ON, M5T 1X2"
          ]
        }
      ],
      "source": [
        "user_input =\"\"\"I am writing to request a refund for a recent CO-1T purchase I made on your platform. \\\n",
        "Unfortunately, the produce has not met my expectations due to its poor battery life. \\\n",
        "Please arrange for the pick-up at this address: to 171 John Street, Toronto ON, M5T 1X2.\"\"\"\n",
        "\n",
        "prompt =f\"\"\"Extract the product, refund reason and pick-up address from this email:\n",
        "\n",
        "{user_input}\n",
        "\"\"\"\n",
        "\n",
        "generate_text(prompt, temp=0)"
      ]
    },
    {
      "cell_type": "markdown",
      "metadata": {
        "id": "q4r37vhEW0zZ"
      },
      "source": [
        "# Classifying"
      ]
    },
    {
      "cell_type": "markdown",
      "metadata": {
        "id": "BQcDpD8AotJn"
      },
      "source": [
        "One of the most widely deployed use cases in NLP is text classification. Here, the task is to classify a piece of text into one of a few predefined classes."
      ]
    },
    {
      "cell_type": "markdown",
      "metadata": {
        "id": "VBF46p9Aoxyd"
      },
      "source": [
        "## Chat endpoint"
      ]
    },
    {
      "cell_type": "code",
      "execution_count": null,
      "metadata": {
        "colab": {
          "base_uri": "https://localhost:8080/",
          "height": 35
        },
        "id": "DEFJDkZI0t4h",
        "outputId": "a0c76a54-4437-40dd-daf5-c49ef510e8bb"
      },
      "outputs": [
        {
          "data": {
            "text/html": [
              "\n",
              "  <style>\n",
              "    pre {\n",
              "        white-space: pre-wrap;\n",
              "    }\n",
              "  </style>\n",
              "  "
            ],
            "text/plain": [
              "<IPython.core.display.HTML object>"
            ]
          },
          "metadata": {},
          "output_type": "display_data"
        },
        {
          "name": "stdout",
          "output_type": "stream",
          "text": [
            "Support."
          ]
        }
      ],
      "source": [
        "user_input =\"\"\"The battery drains fast\"\"\"\n",
        "\n",
        "prompt =f\"\"\"The following is a user message to a customer support agent.\n",
        "Classify the message into one of the following categories: Order, Support, or Refunds.\n",
        "\n",
        "{user_input}\n",
        "\"\"\"\n",
        "\n",
        "generate_text(prompt, temp=0)"
      ]
    },
    {
      "cell_type": "markdown",
      "metadata": {
        "id": "CRyqSajqtQXu"
      },
      "source": [
        "## Classify endpoint (a more streamlined option)"
      ]
    },
    {
      "cell_type": "markdown",
      "metadata": {
        "id": "HKmtCdvKo27p"
      },
      "source": [
        "Alternatively, the Classify endpoint provides a simple API for running text classification. The endpoint leverages Cohere’s embeddings models and makes it easy to add training examples and even create custom models that are specifically tailored to your task."
      ]
    },
    {
      "cell_type": "code",
      "execution_count": null,
      "metadata": {
        "colab": {
          "base_uri": "https://localhost:8080/",
          "height": 35
        },
        "id": "onisNMS4HI-H",
        "outputId": "25071dd8-00e5-41aa-dffb-f1fababfce8b"
      },
      "outputs": [
        {
          "data": {
            "text/html": [
              "\n",
              "  <style>\n",
              "    pre {\n",
              "        white-space: pre-wrap;\n",
              "    }\n",
              "  </style>\n",
              "  "
            ],
            "text/plain": [
              "<IPython.core.display.HTML object>"
            ]
          },
          "metadata": {},
          "output_type": "display_data"
        },
        {
          "name": "stdout",
          "output_type": "stream",
          "text": [
            "Support\n"
          ]
        }
      ],
      "source": [
        "from cohere import ClassifyExample\n",
        "\n",
        "response = co.classify(\n",
        "  model='embed-english-v3.0',\n",
        "  inputs=[user_input],\n",
        "  examples=[ClassifyExample(text=\"I can\\'t connect to the bluetooth\", label=\"Support\"),\n",
        "            ClassifyExample(text=\"Why is max volume so low\", label=\"Support\"),\n",
        "            ClassifyExample(text=\"When will my order arrive\", label=\"Order\"),\n",
        "            ClassifyExample(text=\"How much is the shipping cost\", label=\"Order\"),\n",
        "            ClassifyExample(text=\"What is your refund policy\", label=\"Refunds\"),\n",
        "            ClassifyExample(text=\"How do I return my product\", label=\"Refunds\")])\n",
        "print(response.classifications[0].predictions[0])"
      ]
    }
  ],
  "metadata": {
    "colab": {
      "provenance": [],
      "toc_visible": true
    },
    "kernelspec": {
      "display_name": "Python 3",
      "name": "python3"
    },
    "language_info": {
      "name": "python"
    }
  },
  "nbformat": 4,
  "nbformat_minor": 0
}
