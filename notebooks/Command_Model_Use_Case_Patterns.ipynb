{
  "nbformat": 4,
  "nbformat_minor": 0,
  "metadata": {
    "colab": {
      "provenance": [],
      "toc_visible": true
    },
    "kernelspec": {
      "name": "python3",
      "display_name": "Python 3"
    },
    "language_info": {
      "name": "python"
    }
  },
  "cells": [
    {
      "cell_type": "markdown",
      "source": [
        "# Command Model Use Case Patterns"
      ],
      "metadata": {
        "id": "C74GOs2fs6hK"
      }
    },
    {
      "cell_type": "markdown",
      "source": [
        "Read the accompanying [blog post here](https://txt.cohere.ai/command-usecase-patterns/)."
      ],
      "metadata": {
        "id": "IlVVvkM2Eq05"
      }
    },
    {
      "cell_type": "code",
      "execution_count": null,
      "metadata": {
        "colab": {
          "base_uri": "https://localhost:8080/"
        },
        "id": "WHQ4JUdzPmwO",
        "outputId": "b7c76b65-4a55-41b6-a9d4-7863bb94c912"
      },
      "outputs": [
        {
          "output_type": "stream",
          "name": "stdout",
          "text": [
            "\u001b[?25l     \u001b[90m━━━━━━━━━━━━━━━━━━━━━━━━━━━━━━━━━━━━━━━━\u001b[0m \u001b[32m0.0/40.8 kB\u001b[0m \u001b[31m?\u001b[0m eta \u001b[36m-:--:--\u001b[0m\r\u001b[2K     \u001b[91m━━━━━━━━━━━━━━━━━━━━━━━━━━━━━\u001b[0m\u001b[90m╺\u001b[0m\u001b[90m━━━━━━━━━\u001b[0m \u001b[32m30.7/40.8 kB\u001b[0m \u001b[31m679.7 kB/s\u001b[0m eta \u001b[36m0:00:01\u001b[0m\r\u001b[2K     \u001b[90m━━━━━━━━━━━━━━━━━━━━━━━━━━━━━━━━━━━━━━━\u001b[0m \u001b[32m40.8/40.8 kB\u001b[0m \u001b[31m479.4 kB/s\u001b[0m eta \u001b[36m0:00:00\u001b[0m\n",
            "\u001b[?25h"
          ]
        }
      ],
      "source": [
        "! pip install -q cohere"
      ]
    },
    {
      "cell_type": "code",
      "source": [
        "# Wraps Google Colab output text for easy reading\n",
        "from IPython.display import HTML, display\n",
        "\n",
        "def set_css():\n",
        "  display(HTML('''\n",
        "  <style>\n",
        "    pre {\n",
        "        white-space: pre-wrap;\n",
        "    }\n",
        "  </style>\n",
        "  '''))\n",
        "get_ipython().events.register('pre_run_cell', set_css)"
      ],
      "metadata": {
        "id": "pAsu11KXaIt1"
      },
      "execution_count": null,
      "outputs": []
    },
    {
      "cell_type": "code",
      "source": [
        "import cohere\n",
        "co = cohere.Client(\"COHERE_API_KEY\") # Insert your Cohere API key"
      ],
      "metadata": {
        "id": "zuMSGHP8Pxcj",
        "colab": {
          "base_uri": "https://localhost:8080/",
          "height": 17
        },
        "outputId": "ae2f5285-a088-4d69-b2f8-8e88bcbe9ca7"
      },
      "execution_count": null,
      "outputs": [
        {
          "output_type": "display_data",
          "data": {
            "text/plain": [
              "<IPython.core.display.HTML object>"
            ],
            "text/html": [
              "\n",
              "  <style>\n",
              "    pre {\n",
              "        white-space: pre-wrap;\n",
              "    }\n",
              "  </style>\n",
              "  "
            ]
          },
          "metadata": {}
        }
      ]
    },
    {
      "cell_type": "code",
      "source": [
        "def generate_text(prompt, temp=0):\n",
        "  response = co.generate(\n",
        "    model='command',\n",
        "    prompt=prompt,\n",
        "    max_tokens=300,\n",
        "    temperature=temp)\n",
        "  return response.generations[0].text"
      ],
      "metadata": {
        "colab": {
          "base_uri": "https://localhost:8080/",
          "height": 17
        },
        "id": "6rv9T2aJP1zS",
        "outputId": "6c740fc1-ba5e-48a1-e336-7067cec22980"
      },
      "execution_count": null,
      "outputs": [
        {
          "output_type": "display_data",
          "data": {
            "text/plain": [
              "<IPython.core.display.HTML object>"
            ],
            "text/html": [
              "\n",
              "  <style>\n",
              "    pre {\n",
              "        white-space: pre-wrap;\n",
              "    }\n",
              "  </style>\n",
              "  "
            ]
          },
          "metadata": {}
        }
      ]
    },
    {
      "cell_type": "code",
      "source": [
        "product=\"\"\"The CO-1T is a wireless headphone product that uses Bluetooth technology to connect to your devices. \\\n",
        "It has a long battery life and can be quickly charged using the included USB cable. The headphone is \\\n",
        "lightweight and comfortable, ideal for long periods of use. It has a built-in microphone for making calls, \\\n",
        "and a button to control the volume. The CO-1T is a great choice for anyone looking for a wireless headphone \\\n",
        "product with great battery life.\"\"\"\n",
        "print(product)\n"
      ],
      "metadata": {
        "colab": {
          "base_uri": "https://localhost:8080/",
          "height": 88
        },
        "id": "DJXcGzBYhfri",
        "outputId": "540bddb7-1a87-4951-d1d8-92a3339ca128"
      },
      "execution_count": null,
      "outputs": [
        {
          "output_type": "display_data",
          "data": {
            "text/plain": [
              "<IPython.core.display.HTML object>"
            ],
            "text/html": [
              "\n",
              "  <style>\n",
              "    pre {\n",
              "        white-space: pre-wrap;\n",
              "    }\n",
              "  </style>\n",
              "  "
            ]
          },
          "metadata": {}
        },
        {
          "output_type": "stream",
          "name": "stdout",
          "text": [
            "The CO-1T is a wireless headphone product that uses Bluetooth technology to connect to your devices. It has a long battery life and can be quickly charged using the included USB cable. The headphone is lightweight and comfortable, ideal for long periods of use. It has a built-in microphone for making calls, and a button to control the volume. The CO-1T is a great choice for anyone looking for a wireless headphone product with great battery life.\n"
          ]
        }
      ]
    },
    {
      "cell_type": "markdown",
      "source": [
        "## Writing"
      ],
      "metadata": {
        "id": "N7MkHhc7Vasb"
      }
    },
    {
      "cell_type": "code",
      "source": [
        "user_input =\"\"\"\n",
        "- announce product launch\n",
        "- create a call to action\n",
        "- mention live chat for support\n",
        "\"\"\"\n",
        "\n",
        "prompt = f\"\"\"{product}\n",
        "Create an email about the product above mentioning the following:\n",
        "{user_input}\n",
        "\"\"\"\n",
        "\n",
        "response = generate_text(prompt, temp=0.5)\n",
        "print(response)"
      ],
      "metadata": {
        "colab": {
          "base_uri": "https://localhost:8080/",
          "height": 231
        },
        "id": "mqSvO1rGnOfh",
        "outputId": "f9cc112c-b593-4d04-8f78-d415c26f3376"
      },
      "execution_count": null,
      "outputs": [
        {
          "output_type": "display_data",
          "data": {
            "text/plain": [
              "<IPython.core.display.HTML object>"
            ],
            "text/html": [
              "\n",
              "  <style>\n",
              "    pre {\n",
              "        white-space: pre-wrap;\n",
              "    }\n",
              "  </style>\n",
              "  "
            ]
          },
          "metadata": {}
        },
        {
          "output_type": "stream",
          "name": "stdout",
          "text": [
            "Hello,\n",
            "\n",
            "We are excited to announce the launch of our new wireless headphone product, the CO-1T. This product uses Bluetooth technology to connect to your devices and has a long battery life. It is lightweight and comfortable, making it ideal for long periods of use. The CO-1T also has a built-in microphone for making calls, and a button to control the volume.\n",
            "\n",
            "We believe the CO-1T is a great choice for anyone looking for a wireless headphone product with great battery life.\n",
            "\n",
            "Please visit our website to learn more about the CO-1T and other products we offer. We also have a live chat support team available to answer any questions you may have.\n",
            "\n",
            "Thank you for considering our product. We look forward to serving you.\n"
          ]
        }
      ]
    },
    {
      "cell_type": "markdown",
      "source": [
        "## Question Answering (Closed)"
      ],
      "metadata": {
        "id": "biRqvt-VWXtF"
      }
    },
    {
      "cell_type": "code",
      "source": [
        "user_input =\"What features should I consider when choosing a wireless headphone\"\n",
        "prompt = user_input\n",
        "\n",
        "response = generate_text(prompt, temp=0.5)\n",
        "print(response)"
      ],
      "metadata": {
        "colab": {
          "base_uri": "https://localhost:8080/",
          "height": 267
        },
        "id": "3GD2nyk0uPHu",
        "outputId": "522c0a9e-fb14-4b24-a012-114f840ef794"
      },
      "execution_count": null,
      "outputs": [
        {
          "output_type": "display_data",
          "data": {
            "text/plain": [
              "<IPython.core.display.HTML object>"
            ],
            "text/html": [
              "\n",
              "  <style>\n",
              "    pre {\n",
              "        white-space: pre-wrap;\n",
              "    }\n",
              "  </style>\n",
              "  "
            ]
          },
          "metadata": {}
        },
        {
          "output_type": "stream",
          "name": "stdout",
          "text": [
            "\n",
            "There are a few features to consider when choosing a wireless headphone.\n",
            "\n",
            "The first is the battery life. You want a headphone that will last you a long time so that you don't have to worry about charging it constantly.\n",
            "\n",
            "The second is the sound quality. You want a headphone that will provide you with clear and accurate sound so that you can enjoy your music or podcasts.\n",
            "\n",
            "The third is the comfort. You want a headphone that will be comfortable to wear for long periods of time so that you can enjoy your music or podcasts without any discomfort.\n",
            "\n",
            "The fourth is the durability. You want a headphone that will be durable and able to withstand the wear and tear of daily use.\n"
          ]
        }
      ]
    },
    {
      "cell_type": "markdown",
      "source": [
        "## Question Answering (Open)"
      ],
      "metadata": {
        "id": "8CmGy0HpWXzy"
      }
    },
    {
      "cell_type": "code",
      "source": [
        "user_input =\"How do I control the sound levels\"\n",
        "\n",
        "prompt = f\"\"\"{product}\n",
        "Given the product description above, answer this question: {user_input}\"\"\"\n",
        "\n",
        "response = generate_text(prompt, temp=0)\n",
        "print(response)"
      ],
      "metadata": {
        "colab": {
          "base_uri": "https://localhost:8080/",
          "height": 53
        },
        "id": "L7Ir2LWNzgPZ",
        "outputId": "d31fa8b0-a525-46f8-9f35-226d9812842f"
      },
      "execution_count": null,
      "outputs": [
        {
          "output_type": "display_data",
          "data": {
            "text/plain": [
              "<IPython.core.display.HTML object>"
            ],
            "text/html": [
              "\n",
              "  <style>\n",
              "    pre {\n",
              "        white-space: pre-wrap;\n",
              "    }\n",
              "  </style>\n",
              "  "
            ]
          },
          "metadata": {}
        },
        {
          "output_type": "stream",
          "name": "stdout",
          "text": [
            "\n",
            "The answer is The CO-1T has a button to control the volume.\n"
          ]
        }
      ]
    },
    {
      "cell_type": "markdown",
      "source": [
        "## Brainstorming"
      ],
      "metadata": {
        "id": "7ym6wmx8VYy4"
      }
    },
    {
      "cell_type": "code",
      "source": [
        "user_input =\"I can't get the Bluetooth connection working\"\n",
        "prompt = f\"\"\"{product}\n",
        "A customer provided the following complaint about this product: {user_input}.\n",
        "Provide a bulleted list of possible ways to troubleshoot so we can advise the customer accordingly.\n",
        "\"\"\"\n",
        "\n",
        "response = generate_text(prompt, temp=0.9)\n",
        "print(response)"
      ],
      "metadata": {
        "colab": {
          "base_uri": "https://localhost:8080/",
          "height": 88
        },
        "id": "qP9m1BKCvX3W",
        "outputId": "53c9729b-9aab-41fc-9e9f-018ccbf9f872"
      },
      "execution_count": null,
      "outputs": [
        {
          "output_type": "display_data",
          "data": {
            "text/plain": [
              "<IPython.core.display.HTML object>"
            ],
            "text/html": [
              "\n",
              "  <style>\n",
              "    pre {\n",
              "        white-space: pre-wrap;\n",
              "    }\n",
              "  </style>\n",
              "  "
            ]
          },
          "metadata": {}
        },
        {
          "output_type": "stream",
          "name": "stdout",
          "text": [
            "- Check to see if the headphones are fully charged. If not, charge them for at least 30 minutes.\n",
            "- Try resetting the headphones by holding the power button for at least 30 seconds.\n",
            "- Make sure that your phone is within 10 meters of the headphones.\n",
            "- Check to see if your phone is compatible with the headphones.\n"
          ]
        }
      ]
    },
    {
      "cell_type": "markdown",
      "source": [
        "## Transforming"
      ],
      "metadata": {
        "id": "lHgDOw_YVZqq"
      }
    },
    {
      "cell_type": "code",
      "source": [
        "prompt =f\"\"\"Turn the following product description into a list of frequently asked questions (FAQ).\n",
        "\n",
        "Product description: {product}\n",
        "\"\"\"\n",
        "response = generate_text(prompt, temp=0)\n",
        "print(response)"
      ],
      "metadata": {
        "colab": {
          "base_uri": "https://localhost:8080/",
          "height": 303
        },
        "id": "T7VksEa4hvUV",
        "outputId": "7fee34ad-14ee-4143-d84e-c1aae44f9384"
      },
      "execution_count": null,
      "outputs": [
        {
          "output_type": "display_data",
          "data": {
            "text/plain": [
              "<IPython.core.display.HTML object>"
            ],
            "text/html": [
              "\n",
              "  <style>\n",
              "    pre {\n",
              "        white-space: pre-wrap;\n",
              "    }\n",
              "  </style>\n",
              "  "
            ]
          },
          "metadata": {}
        },
        {
          "output_type": "stream",
          "name": "stdout",
          "text": [
            "Frequently asked questions:\n",
            "\n",
            "What is the CO-1T?\n",
            "The CO-1T is a wireless headphone product that uses Bluetooth technology to connect to your devices.\n",
            "\n",
            "How long does the battery last?\n",
            "The battery life is long, and it can be quickly charged using the included USB cable.\n",
            "\n",
            "Is it lightweight and comfortable?\n",
            "Yes, it is lightweight and comfortable, ideal for long periods of use.\n",
            "\n",
            "Does it have a built-in microphone for making calls?\n",
            "Yes, it has a built-in microphone for making calls, and a button to control the volume.\n",
            "\n",
            "Is the CO-1T a good choice for anyone looking for a wireless headphone product with great battery life?\n",
            "Yes, the CO-1T is a great choice for anyone looking for a wireless headphone product with great battery life.\n"
          ]
        }
      ]
    },
    {
      "cell_type": "markdown",
      "source": [
        "## Summarizing"
      ],
      "metadata": {
        "id": "lXZ5CMUJVZJ-"
      }
    },
    {
      "cell_type": "code",
      "source": [
        "user_input =\"\"\"Customer reviews of the CO-1T wireless headphones:\n",
        "\n",
        "\"The CO-1T is a great pair of headphones! The design is sleek and modern, and the headphones are \\\n",
        "very comfortable to wear. The sound quality is excellent, and I can hear every detail of my music. \\\n",
        "The built-in microphone means I can make calls without having to take my phone out of my pocket. I \\\n",
        "highly recommend the CO-1T to anyone looking for a great pair of wireless headphones!\"\n",
        "\n",
        "\"I'm very disappointed with the CO-1T. The design is nice, but the battery life is terrible. I can \\\n",
        "only use them for a few hours before they need to be recharged. This is very inconvenient, and I'm \\\n",
        "not sure if I can recommend them to anyone.\"\n",
        "\n",
        "\"The CO-1T is a mixed bag. The speaker quality is great, but the built-in microphone's quality is \\\n",
        "poor. I can hear every detail of my music, but my voice sounds distorted when I make calls. The \\\n",
        "design is nice, and the headphones are comfortable to wear, but the battery life is only average. \\\n",
        "I'm not sure if I can recommend them to anyone.\"\n",
        "\"\"\""
      ],
      "metadata": {
        "colab": {
          "base_uri": "https://localhost:8080/",
          "height": 17
        },
        "id": "ePESFJCRdtec",
        "outputId": "79b0275b-8a8a-49ef-8d85-fe7af4999558"
      },
      "execution_count": null,
      "outputs": [
        {
          "output_type": "display_data",
          "data": {
            "text/plain": [
              "<IPython.core.display.HTML object>"
            ],
            "text/html": [
              "\n",
              "  <style>\n",
              "    pre {\n",
              "        white-space: pre-wrap;\n",
              "    }\n",
              "  </style>\n",
              "  "
            ]
          },
          "metadata": {}
        }
      ]
    },
    {
      "cell_type": "code",
      "source": [
        "prompt = f\"\"\"Summarize the following.\n",
        "\n",
        "{user_input}\n",
        "\"\"\"\n",
        "\n",
        "response = generate_text(prompt, temp=0)\n",
        "print(response)"
      ],
      "metadata": {
        "colab": {
          "base_uri": "https://localhost:8080/",
          "height": 53
        },
        "id": "Oy54Q8FQ2-a1",
        "outputId": "8259f040-1c7e-4a35-be44-95b9c8e609a2"
      },
      "execution_count": null,
      "outputs": [
        {
          "output_type": "display_data",
          "data": {
            "text/plain": [
              "<IPython.core.display.HTML object>"
            ],
            "text/html": [
              "\n",
              "  <style>\n",
              "    pre {\n",
              "        white-space: pre-wrap;\n",
              "    }\n",
              "  </style>\n",
              "  "
            ]
          },
          "metadata": {}
        },
        {
          "output_type": "stream",
          "name": "stdout",
          "text": [
            "The CO-1T wireless headphones have mixed reviews. Some people love the design and sound quality, while others are disappointed with the battery life and microphone quality.\n"
          ]
        }
      ]
    },
    {
      "cell_type": "markdown",
      "source": [
        "### Summarize endpoint (a more streamlined option)"
      ],
      "metadata": {
        "id": "302lSIa9tAOi"
      }
    },
    {
      "cell_type": "code",
      "source": [
        "response = co.summarize(\n",
        "  text=user_input,\n",
        "  length='short',\n",
        "  format='paragraph',\n",
        "  model='summarize-xlarge',\n",
        "  temperature=0.3,\n",
        "  additional_command=\"analyzing these customer reviews\"\n",
        ")\n",
        "print(response.summary)"
      ],
      "metadata": {
        "colab": {
          "base_uri": "https://localhost:8080/",
          "height": 53
        },
        "id": "CFTmYM-Q2A3e",
        "outputId": "1c360053-aae7-409d-ed59-cf242c85531b"
      },
      "execution_count": null,
      "outputs": [
        {
          "output_type": "display_data",
          "data": {
            "text/plain": [
              "<IPython.core.display.HTML object>"
            ],
            "text/html": [
              "\n",
              "  <style>\n",
              "    pre {\n",
              "        white-space: pre-wrap;\n",
              "    }\n",
              "  </style>\n",
              "  "
            ]
          },
          "metadata": {}
        },
        {
          "output_type": "stream",
          "name": "stdout",
          "text": [
            "The CO-1T wireless headphones have received mixed reviews from customers. Some people love the design and sound quality, while others are disappointed with the battery life and microphone quality.\n"
          ]
        }
      ]
    },
    {
      "cell_type": "markdown",
      "source": [
        "## Rewriting"
      ],
      "metadata": {
        "id": "UaPZNikOVoyV"
      }
    },
    {
      "cell_type": "code",
      "source": [
        "user_input = \"college students\"\n",
        "\n",
        "prompt = f\"\"\"Create a version of this product description that's tailored towards {user_input}.\n",
        "\n",
        "{product}\"\"\"\n",
        "\n",
        "response = generate_text(prompt, temp=0.5)\n",
        "print(response)"
      ],
      "metadata": {
        "colab": {
          "base_uri": "https://localhost:8080/",
          "height": 178
        },
        "id": "M6UlpY_en3V_",
        "outputId": "8e3d9f47-f362-4ea8-9dd6-332f36509bbb"
      },
      "execution_count": null,
      "outputs": [
        {
          "output_type": "display_data",
          "data": {
            "text/plain": [
              "<IPython.core.display.HTML object>"
            ],
            "text/html": [
              "\n",
              "  <style>\n",
              "    pre {\n",
              "        white-space: pre-wrap;\n",
              "    }\n",
              "  </style>\n",
              "  "
            ]
          },
          "metadata": {}
        },
        {
          "output_type": "stream",
          "name": "stdout",
          "text": [
            "\n",
            "\n",
            "The CO-1T is a wireless headphone designed for college students who are always on the go. It uses Bluetooth technology to connect to your devices, making it easy to listen to music or podcasts while you're walking to class or studying in the library. The long battery life means you don't have to worry about it dying on you in the middle of a lecture, and the quick charging feature means you can get it powered up in no time. The lightweight design and comfortable earpieces make it ideal for long periods of use, and the built-in microphone allows you to take calls and talk to your friends hands-free. Overall, the CO-1T is a great choice for any college student looking for a reliable and convenient wireless headphone.\n"
          ]
        }
      ]
    },
    {
      "cell_type": "markdown",
      "source": [
        "## Extracting"
      ],
      "metadata": {
        "id": "VvrU1cNVVo6s"
      }
    },
    {
      "cell_type": "code",
      "source": [
        "user_input =\"\"\"I am writing to request a refund for a recent CO-1T purchase I made on your platform. \\\n",
        "Unfortunately, the produce has not met my expectations due to its poor battery life. \\\n",
        "Please arrange for the pick-up at this address: to 171 John Street, Toronto ON, M5T 1X2.\"\"\"\n",
        "\n",
        "prompt =f\"\"\"Extract the product, refund reason and pick-up address from this email:\n",
        "\n",
        "{user_input}\n",
        "\"\"\"\n",
        "\n",
        "response = generate_text(prompt, temp=0)\n",
        "print(response)"
      ],
      "metadata": {
        "colab": {
          "base_uri": "https://localhost:8080/",
          "height": 71
        },
        "id": "2vTvtp7BsMX7",
        "outputId": "94cb7832-f2f6-4a53-958f-3286c6f9ff26"
      },
      "execution_count": null,
      "outputs": [
        {
          "output_type": "display_data",
          "data": {
            "text/plain": [
              "<IPython.core.display.HTML object>"
            ],
            "text/html": [
              "\n",
              "  <style>\n",
              "    pre {\n",
              "        white-space: pre-wrap;\n",
              "    }\n",
              "  </style>\n",
              "  "
            ]
          },
          "metadata": {}
        },
        {
          "output_type": "stream",
          "name": "stdout",
          "text": [
            "Product: CO-1T\n",
            "Refund reason: Poor battery life\n",
            "Pick-up address:  171 John Street, Toronto ON, M5T 1X2\n"
          ]
        }
      ]
    },
    {
      "cell_type": "markdown",
      "source": [
        "## Classifying"
      ],
      "metadata": {
        "id": "q4r37vhEW0zZ"
      }
    },
    {
      "cell_type": "code",
      "source": [
        "user_input =\"\"\"The battery drains fast\"\"\"\n",
        "\n",
        "prompt =f\"\"\"The following is a user message to a customer support agent.\n",
        "Classify the message into one of the following categories: Order, Support, or Refunds.\n",
        "\n",
        "{user_input}\n",
        "\"\"\"\n",
        "\n",
        "response = generate_text(prompt, temp=0)\n",
        "print(response)"
      ],
      "metadata": {
        "colab": {
          "base_uri": "https://localhost:8080/",
          "height": 35
        },
        "id": "DEFJDkZI0t4h",
        "outputId": "64e5b3bb-7f13-4bb8-ff74-e3a1d6fa6b16"
      },
      "execution_count": null,
      "outputs": [
        {
          "output_type": "display_data",
          "data": {
            "text/plain": [
              "<IPython.core.display.HTML object>"
            ],
            "text/html": [
              "\n",
              "  <style>\n",
              "    pre {\n",
              "        white-space: pre-wrap;\n",
              "    }\n",
              "  </style>\n",
              "  "
            ]
          },
          "metadata": {}
        },
        {
          "output_type": "stream",
          "name": "stdout",
          "text": [
            "Support\n"
          ]
        }
      ]
    },
    {
      "cell_type": "markdown",
      "source": [
        "### Classify endpoint (a more streamlined option)"
      ],
      "metadata": {
        "id": "CRyqSajqtQXu"
      }
    },
    {
      "cell_type": "code",
      "source": [
        "from cohere.responses.classify import Example\n",
        "response = co.classify(\n",
        "  model='embed-english-v2.0',\n",
        "  inputs=[user_input],\n",
        "  examples=[Example(\"I can\\'t connect to the bluetooth\", \"Support\"),\n",
        "            Example(\"Why is max volume so low\", \"Support\"),\n",
        "            Example(\"When will my order arrive\", \"Order\"),\n",
        "            Example(\"How much is the shipping cost\", \"Order\"),\n",
        "            Example(\"What is your refund policy\", \"Refunds\"),\n",
        "            Example(\"How do I return my product\", \"Refunds\")])\n",
        "print(response.classifications[0].prediction)"
      ],
      "metadata": {
        "colab": {
          "base_uri": "https://localhost:8080/",
          "height": 35
        },
        "id": "p43z2eEg24IF",
        "outputId": "f0359b22-9616-444f-bd5a-28424dd51f91"
      },
      "execution_count": null,
      "outputs": [
        {
          "output_type": "display_data",
          "data": {
            "text/plain": [
              "<IPython.core.display.HTML object>"
            ],
            "text/html": [
              "\n",
              "  <style>\n",
              "    pre {\n",
              "        white-space: pre-wrap;\n",
              "    }\n",
              "  </style>\n",
              "  "
            ]
          },
          "metadata": {}
        },
        {
          "output_type": "stream",
          "name": "stdout",
          "text": [
            "Support\n"
          ]
        }
      ]
    },
    {
      "cell_type": "code",
      "source": [],
      "metadata": {
        "id": "1TLd-DxhBNoQ"
      },
      "execution_count": null,
      "outputs": []
    }
  ]
}