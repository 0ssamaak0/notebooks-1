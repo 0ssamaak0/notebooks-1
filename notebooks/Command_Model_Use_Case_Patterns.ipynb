{
  "nbformat": 4,
  "nbformat_minor": 0,
  "metadata": {
    "colab": {
      "provenance": [],
      "toc_visible": true
    },
    "kernelspec": {
      "name": "python3",
      "display_name": "Python 3"
    },
    "language_info": {
      "name": "python"
    }
  },
  "cells": [
    {
      "cell_type": "markdown",
      "source": [
        "# Command Model Use Case Patterns"
      ],
      "metadata": {
        "id": "C74GOs2fs6hK"
      }
    },
    {
      "cell_type": "markdown",
      "source": [
        "Read the accompanying [blog post here](https://txt.cohere.ai/command-usecase-patterns/)."
      ],
      "metadata": {
        "id": "IlVVvkM2Eq05"
      }
    },
    {
      "cell_type": "code",
      "execution_count": null,
      "metadata": {
        "colab": {
          "base_uri": "https://localhost:8080/",
          "height": 88
        },
        "id": "WHQ4JUdzPmwO",
        "outputId": "09028905-976b-4de2-8bf6-b3e310f9b96b"
      },
      "outputs": [
        {
          "output_type": "display_data",
          "data": {
            "text/plain": [
              "<IPython.core.display.HTML object>"
            ],
            "text/html": [
              "\n",
              "  <style>\n",
              "    pre {\n",
              "        white-space: pre-wrap;\n",
              "    }\n",
              "  </style>\n",
              "  "
            ]
          },
          "metadata": {}
        },
        {
          "output_type": "stream",
          "name": "stdout",
          "text": [
            "\u001b[2K     \u001b[90m━━━━━━━━━━━━━━━━━━━━━━━━━━━━━━━━━━━━━━━━\u001b[0m \u001b[32m1.0/1.0 MB\u001b[0m \u001b[31m18.5 MB/s\u001b[0m eta \u001b[36m0:00:00\u001b[0m\n",
            "\u001b[2K     \u001b[90m━━━━━━━━━━━━━━━━━━━━━━━━━━━━━━━━━━━━━━\u001b[0m \u001b[32m114.5/114.5 kB\u001b[0m \u001b[31m11.6 MB/s\u001b[0m eta \u001b[36m0:00:00\u001b[0m\n",
            "\u001b[2K     \u001b[90m━━━━━━━━━━━━━━━━━━━━━━━━━━━━━━━━━━━━━━\u001b[0m \u001b[32m268.8/268.8 kB\u001b[0m \u001b[31m24.7 MB/s\u001b[0m eta \u001b[36m0:00:00\u001b[0m\n",
            "\u001b[2K     \u001b[90m━━━━━━━━━━━━━━━━━━━━━━━━━━━━━━━━━━━━━━\u001b[0m \u001b[32m149.6/149.6 kB\u001b[0m \u001b[31m14.1 MB/s\u001b[0m eta \u001b[36m0:00:00\u001b[0m\n",
            "\u001b[?25h"
          ]
        }
      ],
      "source": [
        "! pip install -q cohere"
      ]
    },
    {
      "cell_type": "code",
      "source": [
        "# Wraps Google Colab output text for easy reading\n",
        "from IPython.display import HTML, display\n",
        "\n",
        "def set_css():\n",
        "  display(HTML('''\n",
        "  <style>\n",
        "    pre {\n",
        "        white-space: pre-wrap;\n",
        "    }\n",
        "  </style>\n",
        "  '''))\n",
        "get_ipython().events.register('pre_run_cell', set_css)"
      ],
      "metadata": {
        "id": "pAsu11KXaIt1",
        "colab": {
          "base_uri": "https://localhost:8080/",
          "height": 17
        },
        "outputId": "bb2a98a8-4bde-4c75-f7bf-d301e84fdb2f"
      },
      "execution_count": null,
      "outputs": [
        {
          "output_type": "display_data",
          "data": {
            "text/plain": [
              "<IPython.core.display.HTML object>"
            ],
            "text/html": [
              "\n",
              "  <style>\n",
              "    pre {\n",
              "        white-space: pre-wrap;\n",
              "    }\n",
              "  </style>\n",
              "  "
            ]
          },
          "metadata": {}
        }
      ]
    },
    {
      "cell_type": "code",
      "source": [
        "import cohere\n",
        "co = cohere.Client(\"COHERE_API_KEY\") # Insert your Cohere API key"
      ],
      "metadata": {
        "id": "zuMSGHP8Pxcj",
        "colab": {
          "base_uri": "https://localhost:8080/",
          "height": 17
        },
        "outputId": "41cf83a3-e207-4820-ff7b-708e9b77f22a"
      },
      "execution_count": null,
      "outputs": [
        {
          "output_type": "display_data",
          "data": {
            "text/plain": [
              "<IPython.core.display.HTML object>"
            ],
            "text/html": [
              "\n",
              "  <style>\n",
              "    pre {\n",
              "        white-space: pre-wrap;\n",
              "    }\n",
              "  </style>\n",
              "  "
            ]
          },
          "metadata": {}
        },
        {
          "output_type": "display_data",
          "data": {
            "text/plain": [
              "<IPython.core.display.HTML object>"
            ],
            "text/html": [
              "\n",
              "  <style>\n",
              "    pre {\n",
              "        white-space: pre-wrap;\n",
              "    }\n",
              "  </style>\n",
              "  "
            ]
          },
          "metadata": {}
        }
      ]
    },
    {
      "cell_type": "code",
      "source": [
        "def generate_text(prompt, temp=0):\n",
        "  response = co.generate(\n",
        "    model='command-nightly',\n",
        "    prompt=prompt,\n",
        "    max_tokens=200,\n",
        "    temperature=temp,\n",
        "    k=k)\n",
        "  return response.generations[0].text"
      ],
      "metadata": {
        "colab": {
          "base_uri": "https://localhost:8080/",
          "height": 17
        },
        "id": "6rv9T2aJP1zS",
        "outputId": "cca4fbd5-c3de-4511-8e5f-f8c00a90890c"
      },
      "execution_count": null,
      "outputs": [
        {
          "output_type": "display_data",
          "data": {
            "text/plain": [
              "<IPython.core.display.HTML object>"
            ],
            "text/html": [
              "\n",
              "  <style>\n",
              "    pre {\n",
              "        white-space: pre-wrap;\n",
              "    }\n",
              "  </style>\n",
              "  "
            ]
          },
          "metadata": {}
        },
        {
          "output_type": "display_data",
          "data": {
            "text/plain": [
              "<IPython.core.display.HTML object>"
            ],
            "text/html": [
              "\n",
              "  <style>\n",
              "    pre {\n",
              "        white-space: pre-wrap;\n",
              "    }\n",
              "  </style>\n",
              "  "
            ]
          },
          "metadata": {}
        }
      ]
    },
    {
      "cell_type": "code",
      "source": [
        "product=\"\"\"The CO-1T is a wireless headphone product that uses Bluetooth technology to connect to your devices. \\\n",
        "It has a long battery life and can be quickly charged using the included USB cable. The headphone is \\\n",
        "lightweight and comfortable, ideal for long periods of use. It has a built-in microphone for making calls, \\\n",
        "and a button to control the volume. The CO-1T is a great choice for anyone looking for a wireless headphone \\\n",
        "product with great battery life.\"\"\"\n",
        "print(product)\n"
      ],
      "metadata": {
        "colab": {
          "base_uri": "https://localhost:8080/",
          "height": 88
        },
        "id": "DJXcGzBYhfri",
        "outputId": "52d2c470-8225-400a-8cd1-9387fe374e44"
      },
      "execution_count": null,
      "outputs": [
        {
          "output_type": "display_data",
          "data": {
            "text/plain": [
              "<IPython.core.display.HTML object>"
            ],
            "text/html": [
              "\n",
              "  <style>\n",
              "    pre {\n",
              "        white-space: pre-wrap;\n",
              "    }\n",
              "  </style>\n",
              "  "
            ]
          },
          "metadata": {}
        },
        {
          "output_type": "stream",
          "name": "stdout",
          "text": [
            "The CO-1T is a wireless headphone product that uses Bluetooth technology to connect to your devices. It has a long battery life and can be quickly charged using the included USB cable. The headphone is lightweight and comfortable, ideal for long periods of use. It has a built-in microphone for making calls, and a button to control the volume. The CO-1T is a great choice for anyone looking for a wireless headphone product with great battery life.\n"
          ]
        }
      ]
    },
    {
      "cell_type": "markdown",
      "source": [
        "## Writing"
      ],
      "metadata": {
        "id": "N7MkHhc7Vasb"
      }
    },
    {
      "cell_type": "code",
      "source": [
        "user_input =\"\"\"\n",
        "- announce product launch\n",
        "- create a call to action\n",
        "- mention live chat for support\n",
        "\"\"\"\n",
        "\n",
        "prompt = f\"\"\"{product}\n",
        "Create an email about the product above mentioning the following:\n",
        "{user_input}\n",
        "\"\"\"\n",
        "\n",
        "response = generate_text(prompt, temp=0.5)\n",
        "print(response)"
      ],
      "metadata": {
        "colab": {
          "base_uri": "https://localhost:8080/",
          "height": 321
        },
        "id": "mqSvO1rGnOfh",
        "outputId": "0b05c32b-d76d-458f-cf96-1916059c881a"
      },
      "execution_count": null,
      "outputs": [
        {
          "output_type": "display_data",
          "data": {
            "text/plain": [
              "<IPython.core.display.HTML object>"
            ],
            "text/html": [
              "\n",
              "  <style>\n",
              "    pre {\n",
              "        white-space: pre-wrap;\n",
              "    }\n",
              "  </style>\n",
              "  "
            ]
          },
          "metadata": {}
        },
        {
          "output_type": "display_data",
          "data": {
            "text/plain": [
              "<IPython.core.display.HTML object>"
            ],
            "text/html": [
              "\n",
              "  <style>\n",
              "    pre {\n",
              "        white-space: pre-wrap;\n",
              "    }\n",
              "  </style>\n",
              "  "
            ]
          },
          "metadata": {}
        },
        {
          "output_type": "stream",
          "name": "stdout",
          "text": [
            "Hello,\n",
            "\n",
            "We are excited to announce the launch of our new wireless headphone product, the CO-1T. This product uses Bluetooth technology to connect to your devices and has a long battery life. It is lightweight and comfortable, making it ideal for long periods of use. The CO-1T also has a built-in microphone for making calls, and a button to control the volume.\n",
            "\n",
            "We are offering a special discount for the first 100 customers to purchase the CO-1T. So, if you are looking for a great wireless headphone product with great battery life, then the CO-1T is the perfect choice for you.\n",
            "\n",
            "Don't miss out on this opportunity to try out our new product. Order now and experience the convenience of wireless headphones.\n",
            "\n",
            "If you have any questions about the CO-1T, please feel free to contact us through our live chat support. We are always happy to help.\n",
            "\n",
            "Thank you,\n",
            "[Your Name]\n"
          ]
        }
      ]
    },
    {
      "cell_type": "markdown",
      "source": [
        "## Answering (Closed)"
      ],
      "metadata": {
        "id": "biRqvt-VWXtF"
      }
    },
    {
      "cell_type": "code",
      "source": [
        "user_input =\"What features should I consider when choosing a wireless headphone\"\n",
        "prompt = user_input\n",
        "\n",
        "response = generate_text(prompt, temp=0.5)\n",
        "print(response)"
      ],
      "metadata": {
        "colab": {
          "base_uri": "https://localhost:8080/",
          "height": 213
        },
        "id": "3GD2nyk0uPHu",
        "outputId": "36cf4a91-c763-4414-bbae-3062c74e9e40"
      },
      "execution_count": null,
      "outputs": [
        {
          "output_type": "display_data",
          "data": {
            "text/plain": [
              "<IPython.core.display.HTML object>"
            ],
            "text/html": [
              "\n",
              "  <style>\n",
              "    pre {\n",
              "        white-space: pre-wrap;\n",
              "    }\n",
              "  </style>\n",
              "  "
            ]
          },
          "metadata": {}
        },
        {
          "output_type": "display_data",
          "data": {
            "text/plain": [
              "<IPython.core.display.HTML object>"
            ],
            "text/html": [
              "\n",
              "  <style>\n",
              "    pre {\n",
              "        white-space: pre-wrap;\n",
              "    }\n",
              "  </style>\n",
              "  "
            ]
          },
          "metadata": {}
        },
        {
          "output_type": "stream",
          "name": "stdout",
          "text": [
            "\n",
            "There are a few features to consider when choosing a wireless headphone. These include:\n",
            "\n",
            "1. Sound quality: It is important to choose a headphone that has good sound quality. This will ensure that you enjoy your music or podcasts.\n",
            "2. Comfort: It is important to choose a headphone that is comfortable to wear. This will ensure that you can wear it for long periods of time without experiencing any discomfort.\n",
            "3. Battery life: It is important to choose a headphone that has a long battery life. This will ensure that you can use it for long periods of time without having to recharge it.\n",
            "4. Price: It is important to choose a headphone that is within your budget. There are a variety of options available at different price points.\n"
          ]
        }
      ]
    },
    {
      "cell_type": "markdown",
      "source": [
        "## Answering (Open)"
      ],
      "metadata": {
        "id": "8CmGy0HpWXzy"
      }
    },
    {
      "cell_type": "code",
      "source": [
        "user_input =\"How do I control the sound levels\"\n",
        "\n",
        "prompt = f\"\"\"{product}\n",
        "Given the product description above, answer this question: {user_input}\"\"\"\n",
        "\n",
        "response = generate_text(prompt, temp=0)\n",
        "print(response)"
      ],
      "metadata": {
        "colab": {
          "base_uri": "https://localhost:8080/",
          "height": 53
        },
        "id": "L7Ir2LWNzgPZ",
        "outputId": "7ff2f1e7-f10d-4aea-d361-2e1a0929d1c5"
      },
      "execution_count": null,
      "outputs": [
        {
          "output_type": "display_data",
          "data": {
            "text/plain": [
              "<IPython.core.display.HTML object>"
            ],
            "text/html": [
              "\n",
              "  <style>\n",
              "    pre {\n",
              "        white-space: pre-wrap;\n",
              "    }\n",
              "  </style>\n",
              "  "
            ]
          },
          "metadata": {}
        },
        {
          "output_type": "stream",
          "name": "stdout",
          "text": [
            "\n",
            "The sound levels can be controlled by using the button on the headphones.\n"
          ]
        }
      ]
    },
    {
      "cell_type": "markdown",
      "source": [
        "## Brainstorming"
      ],
      "metadata": {
        "id": "7ym6wmx8VYy4"
      }
    },
    {
      "cell_type": "code",
      "source": [
        "user_input =\"I can't get the Bluetooth connection working\"\n",
        "prompt = f\"\"\"{product}\n",
        "A customer provided the following complaint about this product: {user_input}.\n",
        "Provide a bulleted list of possible ways to troubleshoot so we can advise the customer accordingly.\n",
        "\"\"\"\n",
        "\n",
        "response = generate_text(prompt, temp=0.9)\n",
        "print(response)"
      ],
      "metadata": {
        "colab": {
          "base_uri": "https://localhost:8080/",
          "height": 124
        },
        "id": "qP9m1BKCvX3W",
        "outputId": "7c630da2-4d3a-4b8b-fd6f-3936564e97c0"
      },
      "execution_count": null,
      "outputs": [
        {
          "output_type": "display_data",
          "data": {
            "text/plain": [
              "<IPython.core.display.HTML object>"
            ],
            "text/html": [
              "\n",
              "  <style>\n",
              "    pre {\n",
              "        white-space: pre-wrap;\n",
              "    }\n",
              "  </style>\n",
              "  "
            ]
          },
          "metadata": {}
        },
        {
          "output_type": "stream",
          "name": "stdout",
          "text": [
            "- Check to see if the headphones are fully charged\n",
            "- Try resetting the headphones by holding the power button for 5 seconds\n",
            "- Make sure that your device is within range of the headphones\n",
            "- Try restarting your device\n",
            "- Check to see if the headphones are properly paired with your device\n",
            "- If you are still having trouble connecting, please contact customer service for further assistance.\n"
          ]
        }
      ]
    },
    {
      "cell_type": "markdown",
      "source": [
        "## Transforming"
      ],
      "metadata": {
        "id": "lHgDOw_YVZqq"
      }
    },
    {
      "cell_type": "code",
      "source": [
        "prompt =f\"\"\"Turn the following product description into a list of frequently asked questions (FAQ).\n",
        "\n",
        "Product:{product}\n",
        "\"\"\"\n",
        "\n",
        "response = generate_text(prompt, temp=0)\n",
        "print(response)"
      ],
      "metadata": {
        "colab": {
          "base_uri": "https://localhost:8080/",
          "height": 356
        },
        "id": "T7VksEa4hvUV",
        "outputId": "c89ce2f3-21b7-4bcd-b935-ba68e98af643"
      },
      "execution_count": null,
      "outputs": [
        {
          "output_type": "display_data",
          "data": {
            "text/plain": [
              "<IPython.core.display.HTML object>"
            ],
            "text/html": [
              "\n",
              "  <style>\n",
              "    pre {\n",
              "        white-space: pre-wrap;\n",
              "    }\n",
              "  </style>\n",
              "  "
            ]
          },
          "metadata": {}
        },
        {
          "output_type": "stream",
          "name": "stdout",
          "text": [
            "Frequently Asked Questions (FAQ)\n",
            "\n",
            "What is the CO-1T?\n",
            "The CO-1T is a wireless headphone product that uses Bluetooth technology to connect to your devices. It has a long battery life and can be quickly charged using the included USB cable. The headphone is lightweight and comfortable, ideal for long periods of use. It has a built-in microphone for making calls, and a button to control the volume. The CO-1T is a great choice for anyone looking for a wireless headphone product with great battery life.\n",
            "\n",
            "How long does the battery last?\n",
            "The battery life of the CO-1T is long, and it can be quickly charged using the included USB cable.\n",
            "\n",
            "Is the CO-1T comfortable to wear?\n",
            "The CO-1T is designed to be lightweight and comfortable, ideal for long periods of use.\n",
            "\n",
            "Does the CO-1T have a built-in microphone?\n",
            "Yes, the CO-1T has a built-in microphone for making calls.\n",
            "\n",
            "Does the CO-1T have a button to control the volume?\n",
            "Yes, the CO-1T has a button to control the volume.\n"
          ]
        }
      ]
    },
    {
      "cell_type": "markdown",
      "source": [
        "## Summarizing"
      ],
      "metadata": {
        "id": "lXZ5CMUJVZJ-"
      }
    },
    {
      "cell_type": "code",
      "source": [
        "user_input =\"\"\"Customer reviews of the CO-1T wireless headphones:\n",
        "\n",
        "\"The CO-1T is a great pair of headphones! The design is sleek and modern, and the headphones are \\\n",
        "very comfortable to wear. The sound quality is excellent, and I can hear every detail of my music. \\\n",
        "The built-in microphone means I can make calls without having to take my phone out of my pocket. I \\\n",
        "highly recommend the CO-1T to anyone looking for a great pair of wireless headphones!\"\n",
        "\n",
        "\"I'm very disappointed with the CO-1T. The design is nice, but the battery life is terrible. I can \\\n",
        "only use them for a few hours before they need to be recharged. This is very inconvenient, and I'm \\\n",
        "not sure if I can recommend them to anyone.\"\n",
        "\n",
        "\"The CO-1T is a mixed bag. The speaker quality is great, but the built-in microphone's quality is \\\n",
        "poor. I can hear every detail of my music, but my voice sounds distorted when I make calls. The \\\n",
        "design is nice, and the headphones are comfortable to wear, but the battery life is only average. \\\n",
        "I'm not sure if I can recommend them to anyone.\"\n",
        "\"\"\""
      ],
      "metadata": {
        "colab": {
          "base_uri": "https://localhost:8080/",
          "height": 17
        },
        "id": "ePESFJCRdtec",
        "outputId": "9798e893-c282-4a0f-c666-27b1464a963b"
      },
      "execution_count": null,
      "outputs": [
        {
          "output_type": "display_data",
          "data": {
            "text/plain": [
              "<IPython.core.display.HTML object>"
            ],
            "text/html": [
              "\n",
              "  <style>\n",
              "    pre {\n",
              "        white-space: pre-wrap;\n",
              "    }\n",
              "  </style>\n",
              "  "
            ]
          },
          "metadata": {}
        }
      ]
    },
    {
      "cell_type": "code",
      "source": [
        "prompt = f\"\"\"Summarize the following.\n",
        "\n",
        "{user_input}\n",
        "\"\"\"\n",
        "\n",
        "response = generate_text(prompt, temp=0)\n",
        "print(response)"
      ],
      "metadata": {
        "colab": {
          "base_uri": "https://localhost:8080/",
          "height": 53
        },
        "id": "Oy54Q8FQ2-a1",
        "outputId": "23c4d4db-9b40-4b9c-8f1d-0f27a3e8f2a6"
      },
      "execution_count": null,
      "outputs": [
        {
          "output_type": "display_data",
          "data": {
            "text/plain": [
              "<IPython.core.display.HTML object>"
            ],
            "text/html": [
              "\n",
              "  <style>\n",
              "    pre {\n",
              "        white-space: pre-wrap;\n",
              "    }\n",
              "  </style>\n",
              "  "
            ]
          },
          "metadata": {}
        },
        {
          "output_type": "stream",
          "name": "stdout",
          "text": [
            "The CO-1T wireless headphones have mixed reviews. Some people love the design and sound quality, while others are disappointed with the battery life and microphone quality.\n"
          ]
        }
      ]
    },
    {
      "cell_type": "markdown",
      "source": [
        "### Summarize endpoint (a more streamlined option)"
      ],
      "metadata": {
        "id": "302lSIa9tAOi"
      }
    },
    {
      "cell_type": "code",
      "source": [
        "response = co.summarize(\n",
        "  text=user_input,\n",
        "  length='short',\n",
        "  format='paragraph',\n",
        "  model='summarize-xlarge',\n",
        "  temperature=0,\n",
        ")\n",
        "print(response.summary)"
      ],
      "metadata": {
        "colab": {
          "base_uri": "https://localhost:8080/",
          "height": 53
        },
        "id": "CFTmYM-Q2A3e",
        "outputId": "22503487-f0e0-4894-8d31-a46a470a4a2a"
      },
      "execution_count": null,
      "outputs": [
        {
          "output_type": "display_data",
          "data": {
            "text/plain": [
              "<IPython.core.display.HTML object>"
            ],
            "text/html": [
              "\n",
              "  <style>\n",
              "    pre {\n",
              "        white-space: pre-wrap;\n",
              "    }\n",
              "  </style>\n",
              "  "
            ]
          },
          "metadata": {}
        },
        {
          "output_type": "stream",
          "name": "stdout",
          "text": [
            "The CO-1T wireless headphones have mixed reviews, with some customers praising the design and sound quality, and others criticizing the battery life and microphone quality.\n"
          ]
        }
      ]
    },
    {
      "cell_type": "markdown",
      "source": [
        "## Rewriting"
      ],
      "metadata": {
        "id": "UaPZNikOVoyV"
      }
    },
    {
      "cell_type": "code",
      "source": [
        "user_input = \"college students\"\n",
        "\n",
        "prompt = f\"\"\"{product}\n",
        "Turn the text above into something relatable to {user_input}.\n",
        "\n",
        "Rewritten:\"\"\"\n",
        "\n",
        "response = generate_text(prompt, temp=0.5)\n",
        "print(response)"
      ],
      "metadata": {
        "colab": {
          "base_uri": "https://localhost:8080/",
          "height": 106
        },
        "id": "rGVek3T_d8A1",
        "outputId": "d11e59a6-3f43-485e-cf92-cb84063fe8ea"
      },
      "execution_count": null,
      "outputs": [
        {
          "output_type": "display_data",
          "data": {
            "text/plain": [
              "<IPython.core.display.HTML object>"
            ],
            "text/html": [
              "\n",
              "  <style>\n",
              "    pre {\n",
              "        white-space: pre-wrap;\n",
              "    }\n",
              "  </style>\n",
              "  "
            ]
          },
          "metadata": {}
        },
        {
          "output_type": "display_data",
          "data": {
            "text/plain": [
              "<IPython.core.display.HTML object>"
            ],
            "text/html": [
              "\n",
              "  <style>\n",
              "    pre {\n",
              "        white-space: pre-wrap;\n",
              "    }\n",
              "  </style>\n",
              "  "
            ]
          },
          "metadata": {}
        },
        {
          "output_type": "stream",
          "name": "stdout",
          "text": [
            " As a college student, you're always on the go. You need a headphone product that can keep up with your busy schedule. That's where the CO-1T comes in. This wireless headphone uses Bluetooth technology to connect to your devices. It has a long battery life and can be quickly charged using the included USB cable. Plus, it's lightweight and comfortable, ideal for long periods of use. And if you need to make a call, the built-in microphone has you covered. The CO-1T is a great choice for any college student looking for a wireless headphone product with great battery life.\n"
          ]
        }
      ]
    },
    {
      "cell_type": "code",
      "source": [
        "user_input = \"college students\"\n",
        "\n",
        "prompt = f\"\"\"Create a version of this product description that's tailored towards {user_input}.\n",
        "\n",
        "{product}\"\"\"\n",
        "\n",
        "response = generate_text(prompt, temp=0.5)\n",
        "print(response)"
      ],
      "metadata": {
        "colab": {
          "base_uri": "https://localhost:8080/",
          "height": 124
        },
        "id": "M6UlpY_en3V_",
        "outputId": "23beb14b-282b-4676-89a4-d523368409b0"
      },
      "execution_count": null,
      "outputs": [
        {
          "output_type": "display_data",
          "data": {
            "text/plain": [
              "<IPython.core.display.HTML object>"
            ],
            "text/html": [
              "\n",
              "  <style>\n",
              "    pre {\n",
              "        white-space: pre-wrap;\n",
              "    }\n",
              "  </style>\n",
              "  "
            ]
          },
          "metadata": {}
        },
        {
          "output_type": "display_data",
          "data": {
            "text/plain": [
              "<IPython.core.display.HTML object>"
            ],
            "text/html": [
              "\n",
              "  <style>\n",
              "    pre {\n",
              "        white-space: pre-wrap;\n",
              "    }\n",
              "  </style>\n",
              "  "
            ]
          },
          "metadata": {}
        },
        {
          "output_type": "stream",
          "name": "stdout",
          "text": [
            "\n",
            "\n",
            "The CO-1T is a wireless headphone product that uses Bluetooth technology to connect to your devices. It has a long battery life and can be quickly charged using the included USB cable. The headphone is lightweight and comfortable, ideal for long periods of use. It has a built-in microphone for making calls, and a button to control the volume. The CO-1T is a great choice for anyone looking for a wireless headphone product with great battery life.\n"
          ]
        }
      ]
    },
    {
      "cell_type": "markdown",
      "source": [
        "## Extracting"
      ],
      "metadata": {
        "id": "VvrU1cNVVo6s"
      }
    },
    {
      "cell_type": "code",
      "source": [
        "user_input =\"\"\"I am writing to request a refund for a recent CO-1T purchase I made on your platform. \\\n",
        "Unfortunately, the produce has not met my expectations due to its poor battery life. \\\n",
        "Please arrange for the pick-up at this address: to 171 John Street, Toronto ON, M5T 1X2.\"\"\"\n",
        "\n",
        "prompt =f\"\"\"Extract the product, refund reason and pick-up address from this email:\n",
        "\n",
        "{user_input}\n",
        "\"\"\"\n",
        "\n",
        "response = generate_text(prompt, temp=0)\n",
        "print(response)"
      ],
      "metadata": {
        "colab": {
          "base_uri": "https://localhost:8080/",
          "height": 71
        },
        "id": "2vTvtp7BsMX7",
        "outputId": "2d3dc1bc-15b6-4c31-87e4-50d0bce38ed4"
      },
      "execution_count": null,
      "outputs": [
        {
          "output_type": "display_data",
          "data": {
            "text/plain": [
              "<IPython.core.display.HTML object>"
            ],
            "text/html": [
              "\n",
              "  <style>\n",
              "    pre {\n",
              "        white-space: pre-wrap;\n",
              "    }\n",
              "  </style>\n",
              "  "
            ]
          },
          "metadata": {}
        },
        {
          "output_type": "stream",
          "name": "stdout",
          "text": [
            "Product: CO-1T\n",
            "Refund reason: Poor battery life\n",
            "Pick-up address:  171 John Street, Toronto ON, M5T 1X2\n"
          ]
        }
      ]
    },
    {
      "cell_type": "markdown",
      "source": [
        "## Classifying"
      ],
      "metadata": {
        "id": "q4r37vhEW0zZ"
      }
    },
    {
      "cell_type": "code",
      "source": [
        "user_input =\"\"\"The battery drains fast\"\"\"\n",
        "\n",
        "prompt =f\"\"\"The following is a user message to a customer support agent.\n",
        "Classify the message into one of the following categories: Order, Support, or Refunds.\n",
        "\n",
        "{user_input}\n",
        "\"\"\"\n",
        "\n",
        "response = generate_text(prompt, temp=0)\n",
        "print(response)"
      ],
      "metadata": {
        "colab": {
          "base_uri": "https://localhost:8080/",
          "height": 35
        },
        "id": "DEFJDkZI0t4h",
        "outputId": "cbc8ce2f-55de-4f3c-ebd9-8501c1138a3f"
      },
      "execution_count": null,
      "outputs": [
        {
          "output_type": "display_data",
          "data": {
            "text/plain": [
              "<IPython.core.display.HTML object>"
            ],
            "text/html": [
              "\n",
              "  <style>\n",
              "    pre {\n",
              "        white-space: pre-wrap;\n",
              "    }\n",
              "  </style>\n",
              "  "
            ]
          },
          "metadata": {}
        },
        {
          "output_type": "stream",
          "name": "stdout",
          "text": [
            "Support\n"
          ]
        }
      ]
    },
    {
      "cell_type": "markdown",
      "source": [
        "### Classify endpoint (a more streamlined option)"
      ],
      "metadata": {
        "id": "CRyqSajqtQXu"
      }
    },
    {
      "cell_type": "code",
      "source": [
        "from cohere.responses.classify import Example\n",
        "response = co.classify(\n",
        "  model='embed-english-v2.0',\n",
        "  inputs=[user_input],\n",
        "  examples=[Example(\"I can\\'t connect to the bluetooth\", \"Support\"), Example(\"Why is max volume so low\", \"Support\"), Example(\"When will my order arrive\", \"Order\"), Example(\"How much is the shipping cost\", \"Order\"), Example(\"What is your refund policy\", \"Refunds\"), Example(\"How do I return my product\", \"Refunds\")])\n",
        "print(response.classifications[0].prediction)"
      ],
      "metadata": {
        "colab": {
          "base_uri": "https://localhost:8080/",
          "height": 35
        },
        "id": "p43z2eEg24IF",
        "outputId": "d258fe97-bfa4-4549-8a16-669bbd44f6e6"
      },
      "execution_count": null,
      "outputs": [
        {
          "output_type": "display_data",
          "data": {
            "text/plain": [
              "<IPython.core.display.HTML object>"
            ],
            "text/html": [
              "\n",
              "  <style>\n",
              "    pre {\n",
              "        white-space: pre-wrap;\n",
              "    }\n",
              "  </style>\n",
              "  "
            ]
          },
          "metadata": {}
        },
        {
          "output_type": "stream",
          "name": "stdout",
          "text": [
            "Support\n"
          ]
        }
      ]
    }
  ]
}