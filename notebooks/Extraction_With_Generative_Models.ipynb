{
 "cells": [
  {
   "cell_type": "markdown",
   "id": "66368ec5-0276-454f-b290-32e135455368",
   "metadata": {},
   "source": [
    "# Entity Extraction with Generative Models\n",
    "\n",
    "This notebook demonstrates how to use Cohere's generative models to extract the name of of a film from the title of an article. This demonstrated the broader usecase of sturctured generation based on providing multiple examples in the prompt. \n",
    "\n",
    "\n",
    "\n",
    "![Extracting Entities from text](https://github.com/cohere-ai/notebooks/raw/main/notebooks/images/keyword-extraction-gpt-models.png)\n",
    "\n",
    "\n",
    "We'll use post titles from the r/Movies subreddit. And for each title, we'll extract which movie the post is about. If the model is unable to detect the name of a movie being mentioned, it will return \"none\".\n",
    "\n",
    "## Setup\n",
    "Let's start by installing the packages we need."
   ]
  },
  {
   "cell_type": "code",
   "execution_count": null,
   "id": "00b28473-48d9-4036-880f-71a839d3df7f",
   "metadata": {},
   "outputs": [],
   "source": [
    "!pip install cohere requests tqdm"
   ]
  },
  {
   "cell_type": "markdown",
   "id": "c1d1f58a-1a30-42bb-a443-e9227c4a4ff7",
   "metadata": {},
   "source": [
    "We'll then import these packages and declar ethe function that "
   ]
  },
  {
   "cell_type": "code",
   "execution_count": 256,
   "id": "b9b83146-5648-40b7-8a26-6dba4e6ef6e0",
   "metadata": {},
   "outputs": [],
   "source": [
    "import cohere\n",
    "import pandas as pd\n",
    "import requests\n",
    "import datetime\n",
    "from tqdm import tqdm\n",
    "pd.set_option('display.max_colwidth', None)\n",
    "\n",
    "def get_post_titles(**kwargs):\n",
    "    \"\"\" Gets data from the pushshift api. Read more: https://github.com/pushshift/api \"\"\"\n",
    "    base_url = f\"https://api.pushshift.io/reddit/search/submission/\"\n",
    "    payload = kwargs\n",
    "    request = requests.get(base_url, params=payload)\n",
    "    return [a['title'] for a in request.json()['data']]\n"
   ]
  },
  {
   "cell_type": "markdown",
   "id": "e78c4f33-3d35-448c-b511-e5150bbe951c",
   "metadata": {},
   "source": [
    "You'll need your API key for this next cell. [Sign up to Cohere](https://os.cohere.ai/) and get one if you haven't yet."
   ]
  },
  {
   "cell_type": "code",
   "execution_count": null,
   "id": "9c1554a9-9203-4ca9-9711-aa9ce051721e",
   "metadata": {},
   "outputs": [],
   "source": [
    "# Paste your API key here. Remember to not share publicly\n",
    "api_key = ''\n",
    "\n",
    "# Create and retrieve a Cohere API key from os.cohere.ai\n",
    "co = cohere.Client(api_key)"
   ]
  },
  {
   "cell_type": "markdown",
   "id": "edb17ad3-22f6-46f4-82f4-57b72f4ee973",
   "metadata": {},
   "source": [
    "## Preparing examples for the prompt\n",
    "\n",
    "In our prompt, we'll present the model with examples for the type of output we're after. We basically get a set of subreddit article titles, and label them ourselves. The label here is the name of the movie mentioned in the title (and \"none\" if no movie is mentioned).\n",
    "\n",
    "\n",
    "![Labeled dataset of text and extracted text](https://github.com/cohere-ai/notebooks/raw/main/notebooks/images/keyword-extraction-dataset.png)\n",
    "\n"
   ]
  },
  {
   "cell_type": "code",
   "execution_count": 215,
   "id": "a10e6784-6e8b-4a17-83fd-ec34d90c90c6",
   "metadata": {
    "tags": []
   },
   "outputs": [],
   "source": [
    "\n",
    "movie_examples = [\n",
    "(\"Deadpool 2\", \"Deadpool 2 | Official HD Deadpool's \\\"Wet on Wet\\\" Teaser | 2018\"),\n",
    "(\"none\", \"Jordan Peele Just Became the First Black Writer-Director With a $100M Movie Debut\"),\n",
    "(\"Joker\", \"Joker Officially Rated “R”\"),\n",
    "(\"Free Guy\", \"Ryan Reynolds’ 'Free Guy' Receives July 3, 2020 Release Date - About a bank teller stuck in his routine that discovers he’s an NPC character in brutal open world game.\"),\n",
    "(\"none\", \"James Cameron congratulates Kevin Feige and Marvel!\"),\n",
    "(\"Guardians of the Galaxy\", \"The Cast of Guardians of the Galaxy release statement on James Gunn\"),\n",
    "]\n"
   ]
  },
  {
   "cell_type": "markdown",
   "id": "fdc57403-013a-4e31-94f8-27c18702c770",
   "metadata": {},
   "source": [
    "\n",
    "\n",
    "## Creating the prompt\n",
    "\n",
    "\n",
    "![Extraction prompt containing the examples and the input text](https://github.com/cohere-ai/notebooks/raw/main/notebooks/images/extraction-prompt-example.png)\n"
   ]
  },
  {
   "cell_type": "code",
   "execution_count": 331,
   "id": "0ae89a2b-9f94-4e1e-8d00-378cc1b48149",
   "metadata": {},
   "outputs": [],
   "source": [
    "\n",
    "class cohereExtractor():\n",
    "    def __init__(self, examples, example_labels, labels, task_desciption, example_prompt):\n",
    "        self.examples = examples\n",
    "        self.example_labels = example_labels\n",
    "        self.labels = labels\n",
    "        self.task_desciption = task_desciption\n",
    "        self.example_prompt = example_prompt\n",
    "\n",
    "    def make_prompt(self, example):\n",
    "        examples = self.examples + [example]\n",
    "        labels = self.example_labels + [\"\"]\n",
    "        return (self.task_desciption +\n",
    "                \"\\n---\\n\".join( [examples[i] + \"\\n\" +\n",
    "                                self.example_prompt + \n",
    "                                 labels[i] for i in range(len(examples))]))\n",
    "\n",
    "    def extract(self, example):\n",
    "      extraction = co.generate(\n",
    "          model='large',\n",
    "          prompt=self.make_prompt(example),\n",
    "          max_tokens=10,\n",
    "          temperature=0.1,\n",
    "          stop_sequences=[\"\\n\"])\n",
    "      return(extraction.generations[0].text[:-1])\n",
    "\n",
    "\n",
    "cohereMovieExtractor = cohereExtractor([e[1] for e in movie_examples], \n",
    "                                       [e[0] for e in movie_examples], [],\n",
    "                                       \"\", \n",
    "                                       \"extract the movie title from the post:\")\n",
    "\n",
    "# Uncomment to inspect the full prompt:\n",
    "# print(cohereMovieExtractor.make_prompt('<input text here>'))"
   ]
  },
  {
   "cell_type": "markdown",
   "id": "aa02636a-eb2c-4096-a84e-5a8fb5f8249b",
   "metadata": {},
   "source": [
    "## Getting the data\n",
    "Let's now make the API call to get the top posts for 2021 from r/movies."
   ]
  },
  {
   "cell_type": "code",
   "execution_count": 299,
   "id": "d569e098-d97e-41c2-93c7-7f10e09eb53d",
   "metadata": {},
   "outputs": [],
   "source": [
    "num_posts = 10\n",
    "\n",
    "movies_list = get_post_titles(size=num_posts, \n",
    "      after=str(int(datetime.datetime(2021,1,1,0,0).timestamp())), \n",
    "      before=str(int(datetime.datetime(2022,1,1,0,0).timestamp())), \n",
    "      subreddit=\"movies\", \n",
    "      sort_type=\"score\", \n",
    "      sort=\"desc\")"
   ]
  },
  {
   "cell_type": "code",
   "execution_count": 300,
   "id": "5155773d-0d38-452c-be9a-5cfae757f7c3",
   "metadata": {},
   "outputs": [
    {
     "data": {
      "text/plain": [
       "['Hayao Miyazaki Got So Bored with Retirement He Started Directing Again ‘in Order to Live’',\n",
       " \"First poster for Pixar's Luca\",\n",
       " 'New images from Space Jam: A New Legacy',\n",
       " 'Official Poster for \"Sonic the Hedgehog 2\"',\n",
       " 'Ng Man Tat, legendary HK actor and frequent collborator of Stephen Chow (Shaolin Soccer, God of Gambler) died at 70',\n",
       " 'Zack Snyder’s Justice League has officially been Rated R for for violence and some language',\n",
       " 'HBOMax and Disney+ NEED to improve their apps if they want to compete with Netflix.',\n",
       " 'I want a sequel to Rat Race where John Cleese’s character dies and invites everyone from the first film to his funeral, BUT, he’s secretly set up a Rat Maze to trap them all in. A sort of post-mortem revenge on them for donating all his wealth to charity.',\n",
       " \"'Trainspotting' at 25: How an Indie Film About Heroin Became a Feel-Good Classic\",\n",
       " '‘Avatar: The Last Airbender’ Franchise To Expand With Launch Of Nickelodeon’s Avatar Studios, Animated Theatrical Film To Start Production Later This Year']"
      ]
     },
     "execution_count": 300,
     "metadata": {},
     "output_type": "execute_result"
    }
   ],
   "source": [
    "movies_list"
   ]
  },
  {
   "cell_type": "markdown",
   "id": "29be719c-6ac9-49e1-a01c-e9ecac01c681",
   "metadata": {},
   "source": [
    "## Running the model\n",
    "And now we loop over the posts and process each one of them with our extractor."
   ]
  },
  {
   "cell_type": "code",
   "execution_count": 302,
   "id": "999dad3e-7152-440d-bec9-ae8a89f10b8f",
   "metadata": {
    "tags": []
   },
   "outputs": [
    {
     "name": "stderr",
     "output_type": "stream",
     "text": [
      "100%|██████████████████████████████████████████████████████████████████████████████████████████████████████████████████████████████| 10/10 [00:13<00:00,  1.35s/it]\n"
     ]
    }
   ],
   "source": [
    "results = []\n",
    "for text in tqdm(movies_list):\n",
    "    try:\n",
    "        extracted_text = cohereMovieExtractor.extract(text)\n",
    "        results.append(extracted_text)\n",
    "    except Exception as e:\n",
    "        print('ERROR: ', e)"
   ]
  },
  {
   "cell_type": "markdown",
   "id": "a6a56981-5320-47d9-96bf-cf2b90278964",
   "metadata": {},
   "source": [
    "Let's look at the results:"
   ]
  },
  {
   "cell_type": "code",
   "execution_count": 303,
   "id": "296d7bde-c01e-48e2-bf41-24624307eca7",
   "metadata": {},
   "outputs": [
    {
     "data": {
      "text/html": [
       "<div>\n",
       "<style scoped>\n",
       "    .dataframe tbody tr th:only-of-type {\n",
       "        vertical-align: middle;\n",
       "    }\n",
       "\n",
       "    .dataframe tbody tr th {\n",
       "        vertical-align: top;\n",
       "    }\n",
       "\n",
       "    .dataframe thead th {\n",
       "        text-align: right;\n",
       "    }\n",
       "</style>\n",
       "<table border=\"1\" class=\"dataframe\">\n",
       "  <thead>\n",
       "    <tr style=\"text-align: right;\">\n",
       "      <th></th>\n",
       "      <th>text</th>\n",
       "      <th>extracted_text</th>\n",
       "    </tr>\n",
       "  </thead>\n",
       "  <tbody>\n",
       "    <tr>\n",
       "      <th>0</th>\n",
       "      <td>Hayao Miyazaki Got So Bored with Retirement He Started Directing Again ‘in Order to Live’</td>\n",
       "      <td>none</td>\n",
       "    </tr>\n",
       "    <tr>\n",
       "      <th>1</th>\n",
       "      <td>First poster for Pixar's Luca</td>\n",
       "      <td>Pixar's Luca</td>\n",
       "    </tr>\n",
       "    <tr>\n",
       "      <th>2</th>\n",
       "      <td>New images from Space Jam: A New Legacy</td>\n",
       "      <td>Space Jam: A New Legacy</td>\n",
       "    </tr>\n",
       "    <tr>\n",
       "      <th>3</th>\n",
       "      <td>Official Poster for \"Sonic the Hedgehog 2\"</td>\n",
       "      <td>Sonic the Hedgehog 2</td>\n",
       "    </tr>\n",
       "    <tr>\n",
       "      <th>4</th>\n",
       "      <td>Ng Man Tat, legendary HK actor and frequent collborator of Stephen Chow (Shaolin Soccer, God of Gambler) died at 70</td>\n",
       "      <td>none</td>\n",
       "    </tr>\n",
       "    <tr>\n",
       "      <th>5</th>\n",
       "      <td>Zack Snyder’s Justice League has officially been Rated R for for violence and some language</td>\n",
       "      <td>Justice League</td>\n",
       "    </tr>\n",
       "    <tr>\n",
       "      <th>6</th>\n",
       "      <td>HBOMax and Disney+ NEED to improve their apps if they want to compete with Netflix.</td>\n",
       "      <td>none</td>\n",
       "    </tr>\n",
       "    <tr>\n",
       "      <th>7</th>\n",
       "      <td>I want a sequel to Rat Race where John Cleese’s character dies and invites everyone from the first film to his funeral, BUT, he’s secretly set up a Rat Maze to trap them all in. A sort of post-mortem revenge on them for donating all his wealth to charity.</td>\n",
       "      <td>none</td>\n",
       "    </tr>\n",
       "    <tr>\n",
       "      <th>8</th>\n",
       "      <td>'Trainspotting' at 25: How an Indie Film About Heroin Became a Feel-Good Classic</td>\n",
       "      <td>Trainspotting</td>\n",
       "    </tr>\n",
       "    <tr>\n",
       "      <th>9</th>\n",
       "      <td>‘Avatar: The Last Airbender’ Franchise To Expand With Launch Of Nickelodeon’s Avatar Studios, Animated Theatrical Film To Start Production Later This Year</td>\n",
       "      <td>Avatar: The Last Airbender</td>\n",
       "    </tr>\n",
       "  </tbody>\n",
       "</table>\n",
       "</div>"
      ],
      "text/plain": [
       "                                                                                                                                                                                                                                                              text  \\\n",
       "0                                                                                                                                                                        Hayao Miyazaki Got So Bored with Retirement He Started Directing Again ‘in Order to Live’   \n",
       "1                                                                                                                                                                                                                                    First poster for Pixar's Luca   \n",
       "2                                                                                                                                                                                                                          New images from Space Jam: A New Legacy   \n",
       "3                                                                                                                                                                                                                       Official Poster for \"Sonic the Hedgehog 2\"   \n",
       "4                                                                                                                                              Ng Man Tat, legendary HK actor and frequent collborator of Stephen Chow (Shaolin Soccer, God of Gambler) died at 70   \n",
       "5                                                                                                                                                                      Zack Snyder’s Justice League has officially been Rated R for for violence and some language   \n",
       "6                                                                                                                                                                              HBOMax and Disney+ NEED to improve their apps if they want to compete with Netflix.   \n",
       "7  I want a sequel to Rat Race where John Cleese’s character dies and invites everyone from the first film to his funeral, BUT, he’s secretly set up a Rat Maze to trap them all in. A sort of post-mortem revenge on them for donating all his wealth to charity.   \n",
       "8                                                                                                                                                                                 'Trainspotting' at 25: How an Indie Film About Heroin Became a Feel-Good Classic   \n",
       "9                                                                                                       ‘Avatar: The Last Airbender’ Franchise To Expand With Launch Of Nickelodeon’s Avatar Studios, Animated Theatrical Film To Start Production Later This Year   \n",
       "\n",
       "               extracted_text  \n",
       "0                        none  \n",
       "1                Pixar's Luca  \n",
       "2     Space Jam: A New Legacy  \n",
       "3        Sonic the Hedgehog 2  \n",
       "4                        none  \n",
       "5              Justice League  \n",
       "6                        none  \n",
       "7                        none  \n",
       "8               Trainspotting  \n",
       "9  Avatar: The Last Airbender  "
      ]
     },
     "execution_count": 303,
     "metadata": {},
     "output_type": "execute_result"
    }
   ],
   "source": [
    "pd.DataFrame(data={'text': movies_list, 'extracted_text': results})"
   ]
  },
  {
   "cell_type": "markdown",
   "id": "8ce85595-0aca-43d1-9d27-dd2954919970",
   "metadata": {},
   "source": [
    "Looking at these results, the model got 9/10 correctly. It didn't pick up on Shaolin Soccer and God of Gambler in example \\#4. It also called the second example \"Pixar's Luca\" instead of \"Luca\". But maybe we'll let this one slide.\n",
    "\n",
    "When experimenting with extrction prompts, we'll often find edge-cases along the way. What if a post has two movies mentioned, for example? The more we run into such examples, the more examples we can add to the prompt that address these cases.\n",
    "\n",
    "## How well does this work?\n",
    "We can better measure the performance of this extraction method using a larger labeled dataset. So let's load a test set of 100 examples:"
   ]
  },
  {
   "cell_type": "code",
   "execution_count": 333,
   "id": "f39dd295-debd-48d3-ad30-76068e4e47e6",
   "metadata": {
    "tags": []
   },
   "outputs": [
    {
     "data": {
      "text/html": [
       "<div>\n",
       "<style scoped>\n",
       "    .dataframe tbody tr th:only-of-type {\n",
       "        vertical-align: middle;\n",
       "    }\n",
       "\n",
       "    .dataframe tbody tr th {\n",
       "        vertical-align: top;\n",
       "    }\n",
       "\n",
       "    .dataframe thead th {\n",
       "        text-align: right;\n",
       "    }\n",
       "</style>\n",
       "<table border=\"1\" class=\"dataframe\">\n",
       "  <thead>\n",
       "    <tr style=\"text-align: right;\">\n",
       "      <th></th>\n",
       "      <th>text</th>\n",
       "      <th>label</th>\n",
       "    </tr>\n",
       "  </thead>\n",
       "  <tbody>\n",
       "    <tr>\n",
       "      <th>0</th>\n",
       "      <td>Disney's streaming service loses some movies due to old licensing deals</td>\n",
       "      <td>none</td>\n",
       "    </tr>\n",
       "    <tr>\n",
       "      <th>1</th>\n",
       "      <td>Hi, I’m Sam Raimi, producer of THE GRUDGE which hits theaters tonight. Ask Me Anything!</td>\n",
       "      <td>The Grudge</td>\n",
       "    </tr>\n",
       "    <tr>\n",
       "      <th>2</th>\n",
       "      <td>'Parasite' Named Best Picture by Australia's AACTA Awards</td>\n",
       "      <td>Parasite</td>\n",
       "    </tr>\n",
       "    <tr>\n",
       "      <th>3</th>\n",
       "      <td>Danny Trejo To Star In Vampire Spaghetti Western ‘Death Rider in the House of Vampires’</td>\n",
       "      <td>Death Rider in the House of Vampires</td>\n",
       "    </tr>\n",
       "    <tr>\n",
       "      <th>4</th>\n",
       "      <td>I really wish the 'realistic' CGI animal trend would end.</td>\n",
       "      <td>none</td>\n",
       "    </tr>\n",
       "    <tr>\n",
       "      <th>...</th>\n",
       "      <td>...</td>\n",
       "      <td>...</td>\n",
       "    </tr>\n",
       "    <tr>\n",
       "      <th>95</th>\n",
       "      <td>Hair Love | Oscar Winning Short Film (Full)</td>\n",
       "      <td>Hair Love</td>\n",
       "    </tr>\n",
       "    <tr>\n",
       "      <th>96</th>\n",
       "      <td>First image of Jason Alexander in Christian film industry satire 'Faith Based'</td>\n",
       "      <td>Faith Based</td>\n",
       "    </tr>\n",
       "    <tr>\n",
       "      <th>97</th>\n",
       "      <td>'Borderlands' Movie in the Works From Eli Roth, Lionsgate</td>\n",
       "      <td>Borderlands</td>\n",
       "    </tr>\n",
       "    <tr>\n",
       "      <th>98</th>\n",
       "      <td>Taika Waititi putting his Oscar \"away\" after winning best adapted screenplay for JOJO RABBIT</td>\n",
       "      <td>Jojo Rabbit</td>\n",
       "    </tr>\n",
       "    <tr>\n",
       "      <th>99</th>\n",
       "      <td>Oscar-Winning 'Parasite' Lands One-Week IMAX Release Starting February 21 in 200+ Theaters</td>\n",
       "      <td>Parasite</td>\n",
       "    </tr>\n",
       "  </tbody>\n",
       "</table>\n",
       "<p>100 rows × 2 columns</p>\n",
       "</div>"
      ],
      "text/plain": [
       "                                                                                            text  \\\n",
       "0                        Disney's streaming service loses some movies due to old licensing deals   \n",
       "1        Hi, I’m Sam Raimi, producer of THE GRUDGE which hits theaters tonight. Ask Me Anything!   \n",
       "2                                      'Parasite' Named Best Picture by Australia's AACTA Awards   \n",
       "3        Danny Trejo To Star In Vampire Spaghetti Western ‘Death Rider in the House of Vampires’   \n",
       "4                                      I really wish the 'realistic' CGI animal trend would end.   \n",
       "..                                                                                           ...   \n",
       "95                                                   Hair Love | Oscar Winning Short Film (Full)   \n",
       "96                First image of Jason Alexander in Christian film industry satire 'Faith Based'   \n",
       "97                                     'Borderlands' Movie in the Works From Eli Roth, Lionsgate   \n",
       "98  Taika Waititi putting his Oscar \"away\" after winning best adapted screenplay for JOJO RABBIT   \n",
       "99    Oscar-Winning 'Parasite' Lands One-Week IMAX Release Starting February 21 in 200+ Theaters   \n",
       "\n",
       "                                   label  \n",
       "0                                   none  \n",
       "1                             The Grudge  \n",
       "2                               Parasite  \n",
       "3   Death Rider in the House of Vampires  \n",
       "4                                   none  \n",
       "..                                   ...  \n",
       "95                             Hair Love  \n",
       "96                           Faith Based  \n",
       "97                           Borderlands  \n",
       "98                           Jojo Rabbit  \n",
       "99                              Parasite  \n",
       "\n",
       "[100 rows x 2 columns]"
      ]
     },
     "execution_count": 333,
     "metadata": {},
     "output_type": "execute_result"
    }
   ],
   "source": [
    "test_df = pd.read_csv('https://raw.githubusercontent.com/cohere-ai/notebooks/main/notebooks/data/movie_extraction_test_set_100.csv',index_col=0)\n",
    "test_df"
   ]
  },
  {
   "cell_type": "markdown",
   "id": "f57acd7d-4da3-4ef1-9488-556d9474fc59",
   "metadata": {},
   "source": [
    "Let's run the extractor on these post titles (calling the API in parallel for quicker results):"
   ]
  },
  {
   "cell_type": "code",
   "execution_count": 326,
   "id": "db5e9ff7-96fd-434f-859d-332866839af5",
   "metadata": {},
   "outputs": [],
   "source": [
    "from concurrent.futures import ThreadPoolExecutor\n",
    "\n",
    "extracted = []\n",
    "# Run the model to extract the entities\n",
    "with ThreadPoolExecutor(max_workers=8) as executor:\n",
    "    for i in executor.map(cohereMovieExtractor.extract, test_df['text']):\n",
    "        extracted.append(str(i).strip())\n",
    "# Save results\n",
    "test_df['extracted_text'] = extracted"
   ]
  },
  {
   "cell_type": "markdown",
   "id": "ca0b61fb-d97e-4623-a936-037d41935c9a",
   "metadata": {},
   "source": [
    "Let's look at some results:"
   ]
  },
  {
   "cell_type": "code",
   "execution_count": 306,
   "id": "55b90bd5-fbd4-427d-9fb5-088caa8b9faa",
   "metadata": {
    "tags": []
   },
   "outputs": [
    {
     "data": {
      "text/html": [
       "<div>\n",
       "<style scoped>\n",
       "    .dataframe tbody tr th:only-of-type {\n",
       "        vertical-align: middle;\n",
       "    }\n",
       "\n",
       "    .dataframe tbody tr th {\n",
       "        vertical-align: top;\n",
       "    }\n",
       "\n",
       "    .dataframe thead th {\n",
       "        text-align: right;\n",
       "    }\n",
       "</style>\n",
       "<table border=\"1\" class=\"dataframe\">\n",
       "  <thead>\n",
       "    <tr style=\"text-align: right;\">\n",
       "      <th></th>\n",
       "      <th>text</th>\n",
       "      <th>label</th>\n",
       "      <th>extracted_text</th>\n",
       "    </tr>\n",
       "  </thead>\n",
       "  <tbody>\n",
       "    <tr>\n",
       "      <th>0</th>\n",
       "      <td>Disney's streaming service loses some movies due to old licensing deals</td>\n",
       "      <td>none</td>\n",
       "      <td>none</td>\n",
       "    </tr>\n",
       "    <tr>\n",
       "      <th>1</th>\n",
       "      <td>Hi, I’m Sam Raimi, producer of THE GRUDGE which hits theaters tonight. Ask Me Anything!</td>\n",
       "      <td>The Grudge</td>\n",
       "      <td>The Grudge</td>\n",
       "    </tr>\n",
       "    <tr>\n",
       "      <th>2</th>\n",
       "      <td>'Parasite' Named Best Picture by Australia's AACTA Awards</td>\n",
       "      <td>Parasite</td>\n",
       "      <td>Parasite</td>\n",
       "    </tr>\n",
       "    <tr>\n",
       "      <th>3</th>\n",
       "      <td>Danny Trejo To Star In Vampire Spaghetti Western ‘Death Rider in the House of Vampires’</td>\n",
       "      <td>Death Rider in the House of Vampires</td>\n",
       "      <td>Death Rider</td>\n",
       "    </tr>\n",
       "    <tr>\n",
       "      <th>4</th>\n",
       "      <td>I really wish the 'realistic' CGI animal trend would end.</td>\n",
       "      <td>none</td>\n",
       "      <td>none</td>\n",
       "    </tr>\n",
       "  </tbody>\n",
       "</table>\n",
       "</div>"
      ],
      "text/plain": [
       "                                                                                      text  \\\n",
       "0                  Disney's streaming service loses some movies due to old licensing deals   \n",
       "1  Hi, I’m Sam Raimi, producer of THE GRUDGE which hits theaters tonight. Ask Me Anything!   \n",
       "2                                'Parasite' Named Best Picture by Australia's AACTA Awards   \n",
       "3  Danny Trejo To Star In Vampire Spaghetti Western ‘Death Rider in the House of Vampires’   \n",
       "4                                I really wish the 'realistic' CGI animal trend would end.   \n",
       "\n",
       "                                  label extracted_text  \n",
       "0                                  none           none  \n",
       "1                            The Grudge     The Grudge  \n",
       "2                              Parasite       Parasite  \n",
       "3  Death Rider in the House of Vampires    Death Rider  \n",
       "4                                  none           none  "
      ]
     },
     "execution_count": 306,
     "metadata": {},
     "output_type": "execute_result"
    }
   ],
   "source": [
    "test_df.head()"
   ]
  },
  {
   "cell_type": "markdown",
   "id": "887f90b0-131c-47e8-803e-405114a32986",
   "metadata": {},
   "source": [
    "Let's calculate the accuracy by comparing to the labeled examples"
   ]
  },
  {
   "cell_type": "code",
   "execution_count": 332,
   "id": "992b3b1c-85a0-47e0-8821-d843882afc0b",
   "metadata": {},
   "outputs": [
    {
     "name": "stdout",
     "output_type": "stream",
     "text": [
      "Classification accuracy 90.0%\n"
     ]
    }
   ],
   "source": [
    "# Compare the label to the extracted text\n",
    "test_df['correct'] = (test_df['label'].str.lower() == test_df['extracted_text'].str.lower()).astype(int)\n",
    "\n",
    "# Print the accuracy\n",
    "print(f'Classification accuracy {test_df[\"correct\"].mean() *100}%')"
   ]
  },
  {
   "cell_type": "markdown",
   "id": "dd278dc2-6ec0-47a8-906e-907e0da445cf",
   "metadata": {},
   "source": [
    "So it seems this prompt works well on this test set.We can look at the ones it got wrong:"
   ]
  },
  {
   "cell_type": "code",
   "execution_count": 328,
   "id": "5215a8b6-d19b-4622-af54-98bfb9b3118a",
   "metadata": {},
   "outputs": [
    {
     "data": {
      "text/html": [
       "<div>\n",
       "<style scoped>\n",
       "    .dataframe tbody tr th:only-of-type {\n",
       "        vertical-align: middle;\n",
       "    }\n",
       "\n",
       "    .dataframe tbody tr th {\n",
       "        vertical-align: top;\n",
       "    }\n",
       "\n",
       "    .dataframe thead th {\n",
       "        text-align: right;\n",
       "    }\n",
       "</style>\n",
       "<table border=\"1\" class=\"dataframe\">\n",
       "  <thead>\n",
       "    <tr style=\"text-align: right;\">\n",
       "      <th></th>\n",
       "      <th>text</th>\n",
       "      <th>label</th>\n",
       "      <th>extracted_text</th>\n",
       "      <th>correct</th>\n",
       "    </tr>\n",
       "  </thead>\n",
       "  <tbody>\n",
       "    <tr>\n",
       "      <th>3</th>\n",
       "      <td>Danny Trejo To Star In Vampire Spaghetti Western ‘Death Rider in the House of Vampires’</td>\n",
       "      <td>Death Rider in the House of Vampires</td>\n",
       "      <td>Death Rider</td>\n",
       "      <td>0</td>\n",
       "    </tr>\n",
       "    <tr>\n",
       "      <th>6</th>\n",
       "      <td>De Niro recreating a scene from Goodfellas to test Irishman deaging (3:30 in)</td>\n",
       "      <td>Goodfellas</td>\n",
       "      <td>none</td>\n",
       "      <td>0</td>\n",
       "    </tr>\n",
       "    <tr>\n",
       "      <th>12</th>\n",
       "      <td>Is there anyway way I could get a copy of 1917 for my dying father in law?</td>\n",
       "      <td>1917</td>\n",
       "      <td>none</td>\n",
       "      <td>0</td>\n",
       "    </tr>\n",
       "    <tr>\n",
       "      <th>30</th>\n",
       "      <td>How Uncut Gems Won Over the Diamond District</td>\n",
       "      <td>Uncut Gems</td>\n",
       "      <td>none</td>\n",
       "      <td>0</td>\n",
       "    </tr>\n",
       "    <tr>\n",
       "      <th>39</th>\n",
       "      <td>2019 in film - with 'Movies' by Weyes Blood</td>\n",
       "      <td>none</td>\n",
       "      <td>Movies</td>\n",
       "      <td>0</td>\n",
       "    </tr>\n",
       "    <tr>\n",
       "      <th>57</th>\n",
       "      <td>The Mad Max franchise is my all time favorite movie series. I finally watched Waterworld tonight. Oh man why didnt I see this sooner?</td>\n",
       "      <td>Mad Max</td>\n",
       "      <td>Waterworld</td>\n",
       "      <td>0</td>\n",
       "    </tr>\n",
       "    <tr>\n",
       "      <th>63</th>\n",
       "      <td>What is happening with Aneesh Chaganty's Run?</td>\n",
       "      <td>Run</td>\n",
       "      <td>none</td>\n",
       "      <td>0</td>\n",
       "    </tr>\n",
       "    <tr>\n",
       "      <th>69</th>\n",
       "      <td>How A New Hope created Pixar Animation Studios</td>\n",
       "      <td>Star Wars</td>\n",
       "      <td>none</td>\n",
       "      <td>0</td>\n",
       "    </tr>\n",
       "    <tr>\n",
       "      <th>82</th>\n",
       "      <td>New Wonder Woman image</td>\n",
       "      <td>Wonder Woman</td>\n",
       "      <td>none</td>\n",
       "      <td>0</td>\n",
       "    </tr>\n",
       "    <tr>\n",
       "      <th>88</th>\n",
       "      <td>Thoughts on the Irishman ...</td>\n",
       "      <td>The Irishman</td>\n",
       "      <td>none</td>\n",
       "      <td>0</td>\n",
       "    </tr>\n",
       "  </tbody>\n",
       "</table>\n",
       "</div>"
      ],
      "text/plain": [
       "                                                                                                                                     text  \\\n",
       "3                                                 Danny Trejo To Star In Vampire Spaghetti Western ‘Death Rider in the House of Vampires’   \n",
       "6                                                           De Niro recreating a scene from Goodfellas to test Irishman deaging (3:30 in)   \n",
       "12                                                             Is there anyway way I could get a copy of 1917 for my dying father in law?   \n",
       "30                                                                                           How Uncut Gems Won Over the Diamond District   \n",
       "39                                                                                            2019 in film - with 'Movies' by Weyes Blood   \n",
       "57  The Mad Max franchise is my all time favorite movie series. I finally watched Waterworld tonight. Oh man why didnt I see this sooner?   \n",
       "63                                                                                          What is happening with Aneesh Chaganty's Run?   \n",
       "69                                                                                         How A New Hope created Pixar Animation Studios   \n",
       "82                                                                                                                 New Wonder Woman image   \n",
       "88                                                                                                           Thoughts on the Irishman ...   \n",
       "\n",
       "                                   label extracted_text  correct  \n",
       "3   Death Rider in the House of Vampires    Death Rider        0  \n",
       "6                             Goodfellas           none        0  \n",
       "12                                  1917           none        0  \n",
       "30                            Uncut Gems           none        0  \n",
       "39                                  none         Movies        0  \n",
       "57                               Mad Max     Waterworld        0  \n",
       "63                                   Run           none        0  \n",
       "69                             Star Wars           none        0  \n",
       "82                          Wonder Woman           none        0  \n",
       "88                          The Irishman           none        0  "
      ]
     },
     "execution_count": 328,
     "metadata": {},
     "output_type": "execute_result"
    }
   ],
   "source": [
    "test_df[test_df['correct']==0]"
   ]
  },
  {
   "cell_type": "markdown",
   "id": "e550c48e-a68c-4883-a5a6-2c379b13c3bf",
   "metadata": {},
   "source": [
    "It indeed failed to pick up a few examples. Sometimes this uncovers edge cases and understandable mistakes.\n",
    "\n",
    "\n",
    "We can look at the classification report for a more detailed look at what's included in the test set, and what the model got right and wrong:"
   ]
  },
  {
   "cell_type": "code",
   "execution_count": 329,
   "id": "e84eeadd-8aba-43a5-9461-b84305e162f2",
   "metadata": {},
   "outputs": [
    {
     "name": "stdout",
     "output_type": "stream",
     "text": [
      "                                      precision    recall  f1-score   support\n",
      "\n",
      "                                1917       1.00      0.50      0.67         2\n",
      "               2001: a space odyssey       1.00      1.00      1.00         1\n",
      "                            ad astra       1.00      1.00      1.00         1\n",
      "     alice doesn't live here anymore       1.00      1.00      1.00         1\n",
      "                       austin powers       1.00      1.00      1.00         1\n",
      "               back to the future ii       1.00      1.00      1.00         1\n",
      "                        blood simple       1.00      1.00      1.00         1\n",
      "                   bohemian rhapsody       1.00      1.00      1.00         1\n",
      "                         borderlands       1.00      1.00      1.00         1\n",
      "                     brief encounter       1.00      1.00      1.00         1\n",
      "                                cats       1.00      1.00      1.00         1\n",
      "                               congo       1.00      1.00      1.00         1\n",
      "                         death rider       0.00      0.00      0.00         0\n",
      "death rider in the house of vampires       0.00      0.00      0.00         1\n",
      "                 dolemite is my name       1.00      1.00      1.00         1\n",
      "                      dracula untold       1.00      1.00      1.00         1\n",
      "                              dreams       1.00      1.00      1.00         1\n",
      "                                dune       1.00      1.00      1.00         1\n",
      "                    edge of tomorrow       1.00      1.00      1.00         1\n",
      "                             el topo       1.00      1.00      1.00         1\n",
      "                        end of watch       1.00      1.00      1.00         1\n",
      "                         faith based       1.00      1.00      1.00         1\n",
      "                            fun home       1.00      1.00      1.00         1\n",
      "                          goodfellas       0.00      0.00      0.00         1\n",
      "                   gretel and hansel       1.00      1.00      1.00         1\n",
      "                           hair love       1.00      1.00      1.00         1\n",
      "                         hard boiled       1.00      1.00      1.00         1\n",
      "                        interstellar       1.00      1.00      1.00         1\n",
      "                           john wick       1.00      1.00      1.00         1\n",
      "                         jojo rabbit       1.00      1.00      1.00         2\n",
      "                           king kong       1.00      1.00      1.00         1\n",
      "                          knives out       1.00      1.00      1.00         1\n",
      "                        little women       1.00      1.00      1.00         1\n",
      "                             mad max       0.00      0.00      0.00         1\n",
      "                      marriage story       1.00      1.00      1.00         1\n",
      "                              movies       0.00      0.00      0.00         0\n",
      "                          ni no kuni       1.00      1.00      1.00         1\n",
      "                                none       0.81      0.97      0.88        30\n",
      "       once upon a time in hollywood       1.00      1.00      1.00         2\n",
      "                            parasite       1.00      1.00      1.00         5\n",
      "                         ratatouille       1.00      1.00      1.00         1\n",
      "                            ricochet       1.00      1.00      1.00         1\n",
      "                             robocop       1.00      1.00      1.00         1\n",
      "                               rocky       1.00      1.00      1.00         1\n",
      "                        rocky balboa       1.00      1.00      1.00         1\n",
      "                                 run       0.00      0.00      0.00         1\n",
      "                       shin godzilla       1.00      1.00      1.00         1\n",
      "                           star wars       0.00      0.00      0.00         1\n",
      "                             swallow       1.00      1.00      1.00         1\n",
      "                        the big year       1.00      1.00      1.00         1\n",
      "                     the flintstones       1.00      1.00      1.00         1\n",
      "                           the grude       1.00      1.00      1.00         1\n",
      "                          the grudge       1.00      1.00      1.00         3\n",
      "                        the ice road       1.00      1.00      1.00         1\n",
      "                        the irishman       0.00      0.00      0.00         1\n",
      "                      the lighthouse       1.00      1.00      1.00         1\n",
      "                       the two popes       1.00      1.00      1.00         1\n",
      "                                togo       1.00      1.00      1.00         1\n",
      "                             tumbbad       1.00      1.00      1.00         1\n",
      "                          uncut gems       0.00      0.00      0.00         1\n",
      "                     unknown soldier       1.00      1.00      1.00         1\n",
      "                          waterworld       0.00      0.00      0.00         0\n",
      "                              willow       1.00      1.00      1.00         1\n",
      "                        wonder woman       0.00      0.00      0.00         1\n",
      "                   wonder woman 1984       1.00      1.00      1.00         1\n",
      "\n",
      "                            accuracy                           0.90       100\n",
      "                           macro avg       0.83      0.82      0.82       100\n",
      "                        weighted avg       0.86      0.90      0.88       100\n",
      "\n"
     ]
    }
   ],
   "source": [
    "from sklearn.metrics import classification_report\n",
    "import warnings\n",
    "warnings.filterwarnings('ignore')\n",
    "\n",
    "print(classification_report(test_df['label'].str.lower(), test_df['extracted_text'].str.lower()))"
   ]
  },
  {
   "cell_type": "markdown",
   "id": "197f724e-aa03-48a2-aafc-9da2fec0d720",
   "metadata": {},
   "source": [
    "This type of extraction is interesting because it doesn't just blindly look at the text. The model has picked up on movie data during its training process and that helps it understand the task from only a few examples.\n",
    "\n",
    "You can think about extending this to other subreddits, to extract other kinds of entities and information. [Let us know in the forum](https://community.cohere.ai/) what you experiment with and what kinds of results you see!\n",
    "\n",
    "Happy building!"
   ]
  }
 ],
 "metadata": {
  "kernelspec": {
   "display_name": "Python 3 (ipykernel)",
   "language": "python",
   "name": "python3"
  },
  "language_info": {
   "codemirror_mode": {
    "name": "ipython",
    "version": 3
   },
   "file_extension": ".py",
   "mimetype": "text/x-python",
   "name": "python",
   "nbconvert_exporter": "python",
   "pygments_lexer": "ipython3",
   "version": "3.9.7"
  }
 },
 "nbformat": 4,
 "nbformat_minor": 5
}
